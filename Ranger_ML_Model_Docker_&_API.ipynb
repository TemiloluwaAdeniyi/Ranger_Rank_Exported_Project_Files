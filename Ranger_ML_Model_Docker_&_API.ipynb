{
  "nbformat": 4,
  "nbformat_minor": 0,
  "metadata": {
    "kernelspec": {
      "display_name": "Python 3",
      "language": "python",
      "name": "python3"
    },
    "language_info": {
      "codemirror_mode": {
        "name": "ipython",
        "version": 3
      },
      "file_extension": ".py",
      "mimetype": "text/x-python",
      "name": "python",
      "nbconvert_exporter": "python",
      "pygments_lexer": "ipython3",
      "version": "3.7.3"
    },
    "colab": {
      "name": "Ranger_ML_Model_Docker_&_API",
      "provenance": []
    }
  },
  "cells": [
    {
      "cell_type": "markdown",
      "metadata": {
        "id": "EuZIeqsYOWUG"
      },
      "source": [
        "# **Install & Load Neccesary Packages**"
      ]
    },
    {
      "cell_type": "code",
      "metadata": {
        "id": "f7MpNPOT-oaa"
      },
      "source": [
        "%reload_ext autoreload\n",
        "%autoreload 2\n",
        "%matplotlib inline"
      ],
      "execution_count": null,
      "outputs": []
    },
    {
      "cell_type": "code",
      "metadata": {
        "scrolled": true,
        "id": "gQEql-89-oaf"
      },
      "source": [
        "!pip install -q bentoml \"h2o>=3.24.0.2\""
      ],
      "execution_count": null,
      "outputs": []
    },
    {
      "cell_type": "code",
      "metadata": {
        "id": "4F8XytiF-oaj",
        "outputId": "853db09f-5124-44c9-a896-9530142c24c0",
        "colab": {
          "base_uri": "https://localhost:8080/",
          "height": 372
        }
      },
      "source": [
        "import h2o\n",
        "import bentoml\n",
        "\n",
        "h2o.init()"
      ],
      "execution_count": null,
      "outputs": [
        {
          "output_type": "stream",
          "text": [
            "Checking whether there is an H2O instance running at http://localhost:54321 . connected.\n"
          ],
          "name": "stdout"
        },
        {
          "output_type": "display_data",
          "data": {
            "text/html": [
              "<div style=\"overflow:auto\"><table style=\"width:50%\"><tr><td>H2O_cluster_uptime:</td>\n",
              "<td>1 hour 6 mins</td></tr>\n",
              "<tr><td>H2O_cluster_timezone:</td>\n",
              "<td>Etc/UTC</td></tr>\n",
              "<tr><td>H2O_data_parsing_timezone:</td>\n",
              "<td>UTC</td></tr>\n",
              "<tr><td>H2O_cluster_version:</td>\n",
              "<td>3.30.1.3</td></tr>\n",
              "<tr><td>H2O_cluster_version_age:</td>\n",
              "<td>1 month and 3 days </td></tr>\n",
              "<tr><td>H2O_cluster_name:</td>\n",
              "<td>H2O_from_python_unknownUser_rhqk0u</td></tr>\n",
              "<tr><td>H2O_cluster_total_nodes:</td>\n",
              "<td>1</td></tr>\n",
              "<tr><td>H2O_cluster_free_memory:</td>\n",
              "<td>3.177 Gb</td></tr>\n",
              "<tr><td>H2O_cluster_total_cores:</td>\n",
              "<td>2</td></tr>\n",
              "<tr><td>H2O_cluster_allowed_cores:</td>\n",
              "<td>2</td></tr>\n",
              "<tr><td>H2O_cluster_status:</td>\n",
              "<td>locked, healthy</td></tr>\n",
              "<tr><td>H2O_connection_url:</td>\n",
              "<td>http://localhost:54321</td></tr>\n",
              "<tr><td>H2O_connection_proxy:</td>\n",
              "<td>{\"http\": null, \"https\": null}</td></tr>\n",
              "<tr><td>H2O_internal_security:</td>\n",
              "<td>False</td></tr>\n",
              "<tr><td>H2O_API_Extensions:</td>\n",
              "<td>Amazon S3, XGBoost, Algos, AutoML, Core V3, TargetEncoder, Core V4</td></tr>\n",
              "<tr><td>Python_version:</td>\n",
              "<td>3.6.9 final</td></tr></table></div>"
            ],
            "text/plain": [
              "--------------------------  ------------------------------------------------------------------\n",
              "H2O_cluster_uptime:         1 hour 6 mins\n",
              "H2O_cluster_timezone:       Etc/UTC\n",
              "H2O_data_parsing_timezone:  UTC\n",
              "H2O_cluster_version:        3.30.1.3\n",
              "H2O_cluster_version_age:    1 month and 3 days\n",
              "H2O_cluster_name:           H2O_from_python_unknownUser_rhqk0u\n",
              "H2O_cluster_total_nodes:    1\n",
              "H2O_cluster_free_memory:    3.177 Gb\n",
              "H2O_cluster_total_cores:    2\n",
              "H2O_cluster_allowed_cores:  2\n",
              "H2O_cluster_status:         locked, healthy\n",
              "H2O_connection_url:         http://localhost:54321\n",
              "H2O_connection_proxy:       {\"http\": null, \"https\": null}\n",
              "H2O_internal_security:      False\n",
              "H2O_API_Extensions:         Amazon S3, XGBoost, Algos, AutoML, Core V3, TargetEncoder, Core V4\n",
              "Python_version:             3.6.9 final\n",
              "--------------------------  ------------------------------------------------------------------"
            ]
          },
          "metadata": {
            "tags": []
          }
        }
      ]
    },
    {
      "cell_type": "markdown",
      "metadata": {
        "id": "naOqSkxO-oao"
      },
      "source": [
        "## **Prepare Dataset & Model Training**"
      ]
    },
    {
      "cell_type": "code",
      "metadata": {
        "id": "7ppw-M2o_96k",
        "outputId": "8ea12c06-517b-46bf-f13b-234caa902fa4",
        "colab": {
          "resources": {
            "http://localhost:8080/nbextensions/google.colab/files.js": {
              "data": "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",
              "ok": true,
              "headers": [
                [
                  "content-type",
                  "application/javascript"
                ]
              ],
              "status": 200,
              "status_text": ""
            }
          },
          "base_uri": "https://localhost:8080/",
          "height": 73
        }
      },
      "source": [
        "#Load CSV File of Data into the Google Colab Environment\n",
        "from google.colab import files\n",
        "upload = files.upload()"
      ],
      "execution_count": null,
      "outputs": [
        {
          "output_type": "display_data",
          "data": {
            "text/html": [
              "\n",
              "     <input type=\"file\" id=\"files-b54b8ec6-7dd1-45d1-b475-b8d329755283\" name=\"files[]\" multiple disabled\n",
              "        style=\"border:none\" />\n",
              "     <output id=\"result-b54b8ec6-7dd1-45d1-b475-b8d329755283\">\n",
              "      Upload widget is only available when the cell has been executed in the\n",
              "      current browser session. Please rerun this cell to enable.\n",
              "      </output>\n",
              "      <script src=\"/nbextensions/google.colab/files.js\"></script> "
            ],
            "text/plain": [
              "<IPython.core.display.HTML object>"
            ]
          },
          "metadata": {
            "tags": []
          }
        },
        {
          "output_type": "stream",
          "text": [
            "Saving DeIdentified RASP1 Dataset_MAY2020.csv to DeIdentified RASP1 Dataset_MAY2020.csv\n"
          ],
          "name": "stdout"
        }
      ]
    },
    {
      "cell_type": "code",
      "metadata": {
        "id": "tC8oJoJlAS-K",
        "outputId": "dced6dba-d38e-4249-98f2-f0d8e84bfa02",
        "colab": {
          "base_uri": "https://localhost:8080/"
        }
      },
      "source": [
        "#Store Data into Dataframe for Colab Space\n",
        "df = h2o.upload_file(\"DeIdentified RASP1 Dataset_MAY2020.csv\")"
      ],
      "execution_count": null,
      "outputs": [
        {
          "output_type": "stream",
          "text": [
            "Parse progress: |█████████████████████████████████████████████████████████| 100%\n"
          ],
          "name": "stdout"
        }
      ]
    },
    {
      "cell_type": "code",
      "metadata": {
        "id": "5ijo-OpmDljQ",
        "outputId": "389b0e12-bf35-4788-b471-8a16ceace974",
        "colab": {
          "base_uri": "https://localhost:8080/",
          "height": 355
        }
      },
      "source": [
        "df"
      ],
      "execution_count": null,
      "outputs": [
        {
          "output_type": "display_data",
          "data": {
            "text/html": [
              "<table>\n",
              "<thead>\n",
              "<tr><th style=\"text-align: right;\">  RN</th><th>Rank  </th><th style=\"text-align: right;\">  Married</th><th style=\"text-align: right;\">  Airborne</th><th style=\"text-align: right;\">  Age</th><th style=\"text-align: right;\">  Education</th><th style=\"text-align: right;\">  Graduate</th><th>Remarks            </th><th>MOS  </th><th>SEX  </th><th style=\"text-align: right;\">  GT Score</th><th style=\"text-align: right;\">  Pushup</th><th style=\"text-align: right;\">  Situp</th><th>Run  </th><th style=\"text-align: right;\">  Chinup</th><th style=\"text-align: right;\">  Sick Call</th><th>Sick Call Reason  </th><th style=\"text-align: right;\">  Information</th><th style=\"text-align: right;\">  Comprehension</th><th style=\"text-align: right;\">  Arithmetic</th><th style=\"text-align: right;\">  Similarities</th><th style=\"text-align: right;\">  Vocabulary</th><th style=\"text-align: right;\">  DS</th><th style=\"text-align: right;\">  PC</th><th style=\"text-align: right;\">  Spatial</th><th style=\"text-align: right;\">  PA</th><th style=\"text-align: right;\">  OA</th><th style=\"text-align: right;\">  V</th><th style=\"text-align: right;\">  P</th><th style=\"text-align: right;\">  FS</th><th style=\"text-align: right;\">  VRINr</th><th style=\"text-align: right;\">  TRINr</th><th style=\"text-align: right;\">  Fr</th><th style=\"text-align: right;\">  Fpr</th><th style=\"text-align: right;\">  Fs</th><th style=\"text-align: right;\">  FBSr</th><th style=\"text-align: right;\">  RBS</th><th style=\"text-align: right;\">  Lr</th><th style=\"text-align: right;\">  Kr</th><th style=\"text-align: right;\">  EID</th><th style=\"text-align: right;\">  THD</th><th style=\"text-align: right;\">  BXD</th><th style=\"text-align: right;\">  RCd</th><th style=\"text-align: right;\">  RC1</th><th style=\"text-align: right;\">  RC2</th><th style=\"text-align: right;\">  RC3</th><th style=\"text-align: right;\">  RC4</th><th style=\"text-align: right;\">  RC6</th><th style=\"text-align: right;\">  RC7</th><th style=\"text-align: right;\">  RC8</th><th style=\"text-align: right;\">  RC9</th><th style=\"text-align: right;\">  MLS</th><th style=\"text-align: right;\">  HPC</th><th style=\"text-align: right;\">  NUC</th><th style=\"text-align: right;\">  GIC</th><th style=\"text-align: right;\">  SUI</th><th style=\"text-align: right;\">  HLP</th><th style=\"text-align: right;\">  SFD</th><th style=\"text-align: right;\">  NFC</th><th style=\"text-align: right;\">  COG</th><th style=\"text-align: right;\">  STW</th><th style=\"text-align: right;\">  AXY</th><th style=\"text-align: right;\">  ANP</th><th style=\"text-align: right;\">  BRF</th><th style=\"text-align: right;\">  MSF</th><th style=\"text-align: right;\">  JCP</th><th style=\"text-align: right;\">  SUB</th><th style=\"text-align: right;\">  AGG</th><th style=\"text-align: right;\">  ACT</th><th style=\"text-align: right;\">  FML</th><th style=\"text-align: right;\">  IPP</th><th style=\"text-align: right;\">  SAV</th><th style=\"text-align: right;\">  SHY</th><th style=\"text-align: right;\">  DSF</th><th style=\"text-align: right;\">  AES</th><th style=\"text-align: right;\">  MEC</th><th style=\"text-align: right;\">  AGGRr</th><th style=\"text-align: right;\">  PSYCr</th><th style=\"text-align: right;\">  DISCr</th><th style=\"text-align: right;\">  NEGEr</th><th style=\"text-align: right;\">  INTRr</th><th style=\"text-align: right;\">  CS</th><th style=\"text-align: right;\">  PCT T</th><th style=\"text-align: right;\">  S1</th><th style=\"text-align: right;\">  S2</th><th style=\"text-align: right;\">  S3</th><th style=\"text-align: right;\">  S4</th><th style=\"text-align: right;\">  S5</th><th style=\"text-align: right;\">  S6</th><th style=\"text-align: right;\">  S7</th><th style=\"text-align: right;\">  S8</th><th style=\"text-align: right;\">  S9</th><th style=\"text-align: right;\">  S10</th><th style=\"text-align: right;\">  S11</th><th style=\"text-align: right;\">  S12</th><th style=\"text-align: right;\">  S13</th><th style=\"text-align: right;\">  S14</th><th style=\"text-align: right;\">  S15</th><th style=\"text-align: right;\">  MTS1</th><th style=\"text-align: right;\">  MTS2</th><th style=\"text-align: right;\">  MTS3</th><th style=\"text-align: right;\">  MTS4</th><th style=\"text-align: right;\">  MTS5</th><th style=\"text-align: right;\">  MTS6</th><th style=\"text-align: right;\">  MTS7</th><th style=\"text-align: right;\">  MTS8</th><th style=\"text-align: right;\">  MTS9</th><th style=\"text-align: right;\">  MTS10</th><th style=\"text-align: right;\">  MTS11</th><th style=\"text-align: right;\">  MTS12</th><th style=\"text-align: right;\">  MTS13</th><th style=\"text-align: right;\">  MTS14</th><th style=\"text-align: right;\">  MTS15</th><th style=\"text-align: right;\">  FTS1</th><th style=\"text-align: right;\">  FTS2</th><th style=\"text-align: right;\">  FTS3</th><th style=\"text-align: right;\">  FTS4</th><th style=\"text-align: right;\">  FTS5</th><th style=\"text-align: right;\">  FTS6</th><th style=\"text-align: right;\">  FTS7</th><th style=\"text-align: right;\">  FTS8</th><th style=\"text-align: right;\">  FTS9</th><th style=\"text-align: right;\">  FTS10</th><th style=\"text-align: right;\">  FTS11</th><th style=\"text-align: right;\">  FTS12</th><th style=\"text-align: right;\">  FTS13</th><th style=\"text-align: right;\">  FTS14</th><th style=\"text-align: right;\">  FTS15</th><th style=\"text-align: right;\">  TSC1</th><th style=\"text-align: right;\">  TSC2</th><th style=\"text-align: right;\">  TSC3</th><th style=\"text-align: right;\">  TSC4</th><th style=\"text-align: right;\">  TSC5</th><th style=\"text-align: right;\">  TSC6</th><th style=\"text-align: right;\">  TSC7</th><th style=\"text-align: right;\">  TSC8</th><th style=\"text-align: right;\">  TSC9</th><th style=\"text-align: right;\">  TSC10</th><th style=\"text-align: right;\">  TSC11</th><th style=\"text-align: right;\">  TSC12</th><th style=\"text-align: right;\">  TSC13</th><th style=\"text-align: right;\">  TSC14</th><th style=\"text-align: right;\">  TSC15</th><th style=\"text-align: right;\">  MPC1</th><th style=\"text-align: right;\">  MPC2</th><th style=\"text-align: right;\">  MPC3</th><th style=\"text-align: right;\">  MPC4</th><th style=\"text-align: right;\">  MPC5</th><th style=\"text-align: right;\">  MPC6</th><th style=\"text-align: right;\">  MPC7</th><th style=\"text-align: right;\">  MPC8</th><th style=\"text-align: right;\">  MPC9</th><th style=\"text-align: right;\">  MPC10</th><th style=\"text-align: right;\">  MPC11</th><th style=\"text-align: right;\">  MPC12</th><th style=\"text-align: right;\">  MPC13</th><th style=\"text-align: right;\">  MPC14</th><th style=\"text-align: right;\">  MPC15</th><th style=\"text-align: right;\">  FPC1</th><th style=\"text-align: right;\">  FPC2</th><th style=\"text-align: right;\">  FPC3</th><th style=\"text-align: right;\">  FPC4</th><th style=\"text-align: right;\">  FPC5</th><th style=\"text-align: right;\">  FPC6</th><th style=\"text-align: right;\">  FPC7</th><th style=\"text-align: right;\">  FPC8</th><th style=\"text-align: right;\">  FPC9</th><th style=\"text-align: right;\">  FPC10</th><th style=\"text-align: right;\">  FPC11</th><th style=\"text-align: right;\">  FPC12</th><th style=\"text-align: right;\">  FPC13</th><th style=\"text-align: right;\">  FPC14</th><th style=\"text-align: right;\">  FPC15</th><th style=\"text-align: right;\">  PCT1</th><th style=\"text-align: right;\">  PCT2</th><th style=\"text-align: right;\">  PCT3</th><th style=\"text-align: right;\">  PCT4</th><th style=\"text-align: right;\">  PCT5</th><th style=\"text-align: right;\">  PCT6</th><th style=\"text-align: right;\">  PCT7</th><th style=\"text-align: right;\">  PCT8</th><th style=\"text-align: right;\">  PCT9</th><th style=\"text-align: right;\">  PCT10</th><th style=\"text-align: right;\">  PCT11</th><th style=\"text-align: right;\">  PCT12</th><th style=\"text-align: right;\">  PCT13</th><th style=\"text-align: right;\">  PCT14</th><th style=\"text-align: right;\">  PCT15</th><th style=\"text-align: right;\">  RCL1</th><th style=\"text-align: right;\">  RCL2</th><th style=\"text-align: right;\">  RCL3</th><th style=\"text-align: right;\">  RCL4</th><th style=\"text-align: right;\">  RCL5</th><th style=\"text-align: right;\">  MCL1</th><th style=\"text-align: right;\">  MCL2</th><th style=\"text-align: right;\">  MCL3</th><th style=\"text-align: right;\">  MCL4</th><th style=\"text-align: right;\">  MCL5</th><th style=\"text-align: right;\">  FCL1</th><th style=\"text-align: right;\">  FCL2</th><th style=\"text-align: right;\">  FCL3</th><th style=\"text-align: right;\">  FCL4</th><th style=\"text-align: right;\">  FCL5</th><th style=\"text-align: right;\">  BCL1</th><th style=\"text-align: right;\">  BCL2</th><th style=\"text-align: right;\">  BCL3</th><th style=\"text-align: right;\">  BCL4</th><th style=\"text-align: right;\">  BCL5</th><th style=\"text-align: right;\">  MCP1</th><th style=\"text-align: right;\">  MCP2</th><th style=\"text-align: right;\">  MCP3</th><th style=\"text-align: right;\">  MCP4</th><th style=\"text-align: right;\">  MCP5</th><th style=\"text-align: right;\">  FCP1</th><th style=\"text-align: right;\">  FCP2</th><th style=\"text-align: right;\">  FCP3</th><th style=\"text-align: right;\">  FCP4</th><th style=\"text-align: right;\">  FCP5</th><th style=\"text-align: right;\">  BCP1</th><th style=\"text-align: right;\">  BCP2</th><th style=\"text-align: right;\">  BCP3</th><th style=\"text-align: right;\">  BCP4</th><th style=\"text-align: right;\">  BCP5</th><th style=\"text-align: right;\">   RCI</th><th style=\"text-align: right;\">  INF</th><th style=\"text-align: right;\">  MIS</th></tr>\n",
              "</thead>\n",
              "<tbody>\n",
              "<tr><td style=\"text-align: right;\">   1</td><td>PVT   </td><td style=\"text-align: right;\">        1</td><td style=\"text-align: right;\">         0</td><td style=\"text-align: right;\">   24</td><td style=\"text-align: right;\">         12</td><td style=\"text-align: right;\">         0</td><td>Voluntary Withdrawl</td><td>11B  </td><td>M    </td><td style=\"text-align: right;\">       117</td><td style=\"text-align: right;\">      50</td><td style=\"text-align: right;\">     58</td><td>0:00 </td><td style=\"text-align: right;\">      11</td><td style=\"text-align: right;\">          0</td><td>                  </td><td style=\"text-align: right;\">           45</td><td style=\"text-align: right;\">             44</td><td style=\"text-align: right;\">          58</td><td style=\"text-align: right;\">            51</td><td style=\"text-align: right;\">          43</td><td style=\"text-align: right;\">  47</td><td style=\"text-align: right;\">  53</td><td style=\"text-align: right;\">       48</td><td style=\"text-align: right;\">  37</td><td style=\"text-align: right;\">  40</td><td style=\"text-align: right;\"> 98</td><td style=\"text-align: right;\"> 92</td><td style=\"text-align: right;\">  95</td><td style=\"text-align: right;\">     48</td><td style=\"text-align: right;\">     57</td><td style=\"text-align: right;\">  47</td><td style=\"text-align: right;\">   42</td><td style=\"text-align: right;\">  50</td><td style=\"text-align: right;\">    51</td><td style=\"text-align: right;\">   54</td><td style=\"text-align: right;\">  42</td><td style=\"text-align: right;\">  48</td><td style=\"text-align: right;\">   45</td><td style=\"text-align: right;\">   57</td><td style=\"text-align: right;\">   55</td><td style=\"text-align: right;\">   51</td><td style=\"text-align: right;\">   61</td><td style=\"text-align: right;\">   50</td><td style=\"text-align: right;\">   61</td><td style=\"text-align: right;\">   54</td><td style=\"text-align: right;\">   56</td><td style=\"text-align: right;\">   52</td><td style=\"text-align: right;\">   56</td><td style=\"text-align: right;\">   69</td><td style=\"text-align: right;\">   46</td><td style=\"text-align: right;\">   53</td><td style=\"text-align: right;\">   41</td><td style=\"text-align: right;\">   72</td><td style=\"text-align: right;\">   45</td><td style=\"text-align: right;\">   40</td><td style=\"text-align: right;\">   42</td><td style=\"text-align: right;\">   51</td><td style=\"text-align: right;\">   64</td><td style=\"text-align: right;\">   43</td><td style=\"text-align: right;\">   44</td><td style=\"text-align: right;\">   51</td><td style=\"text-align: right;\">   56</td><td style=\"text-align: right;\">   46</td><td style=\"text-align: right;\">   57</td><td style=\"text-align: right;\">   55</td><td style=\"text-align: right;\">   56</td><td style=\"text-align: right;\">   67</td><td style=\"text-align: right;\">   37</td><td style=\"text-align: right;\">   39</td><td style=\"text-align: right;\">   50</td><td style=\"text-align: right;\">   52</td><td style=\"text-align: right;\">   58</td><td style=\"text-align: right;\">   45</td><td style=\"text-align: right;\">   65</td><td style=\"text-align: right;\">     56</td><td style=\"text-align: right;\">     56</td><td style=\"text-align: right;\">     66</td><td style=\"text-align: right;\">     45</td><td style=\"text-align: right;\">     42</td><td style=\"text-align: right;\">   0</td><td style=\"text-align: right;\">     43</td><td style=\"text-align: right;\"> nan</td><td style=\"text-align: right;\"> nan</td><td style=\"text-align: right;\"> nan</td><td style=\"text-align: right;\"> nan</td><td style=\"text-align: right;\"> nan</td><td style=\"text-align: right;\"> nan</td><td style=\"text-align: right;\"> nan</td><td style=\"text-align: right;\"> nan</td><td style=\"text-align: right;\"> nan</td><td style=\"text-align: right;\">  nan</td><td style=\"text-align: right;\">  nan</td><td style=\"text-align: right;\">  nan</td><td style=\"text-align: right;\">  nan</td><td style=\"text-align: right;\">  nan</td><td style=\"text-align: right;\">  nan</td><td style=\"text-align: right;\">   nan</td><td style=\"text-align: right;\">   nan</td><td style=\"text-align: right;\">   nan</td><td style=\"text-align: right;\">   nan</td><td style=\"text-align: right;\">   nan</td><td style=\"text-align: right;\">   nan</td><td style=\"text-align: right;\">   nan</td><td style=\"text-align: right;\">   nan</td><td style=\"text-align: right;\">   nan</td><td style=\"text-align: right;\">    nan</td><td style=\"text-align: right;\">    nan</td><td style=\"text-align: right;\">    nan</td><td style=\"text-align: right;\">    nan</td><td style=\"text-align: right;\">    nan</td><td style=\"text-align: right;\">    nan</td><td style=\"text-align: right;\">   nan</td><td style=\"text-align: right;\">   nan</td><td style=\"text-align: right;\">   nan</td><td style=\"text-align: right;\">   nan</td><td style=\"text-align: right;\">   nan</td><td style=\"text-align: right;\">   nan</td><td style=\"text-align: right;\">   nan</td><td style=\"text-align: right;\">   nan</td><td style=\"text-align: right;\">   nan</td><td style=\"text-align: right;\">    nan</td><td style=\"text-align: right;\">    nan</td><td style=\"text-align: right;\">    nan</td><td style=\"text-align: right;\">    nan</td><td style=\"text-align: right;\">    nan</td><td style=\"text-align: right;\">    nan</td><td style=\"text-align: right;\">   nan</td><td style=\"text-align: right;\">   nan</td><td style=\"text-align: right;\">   nan</td><td style=\"text-align: right;\">   nan</td><td style=\"text-align: right;\">   nan</td><td style=\"text-align: right;\">   nan</td><td style=\"text-align: right;\">   nan</td><td style=\"text-align: right;\">   nan</td><td style=\"text-align: right;\">   nan</td><td style=\"text-align: right;\">    nan</td><td style=\"text-align: right;\">    nan</td><td style=\"text-align: right;\">    nan</td><td style=\"text-align: right;\">    nan</td><td style=\"text-align: right;\">    nan</td><td style=\"text-align: right;\">    nan</td><td style=\"text-align: right;\">   nan</td><td style=\"text-align: right;\">   nan</td><td style=\"text-align: right;\">   nan</td><td style=\"text-align: right;\">   nan</td><td style=\"text-align: right;\">   nan</td><td style=\"text-align: right;\">   nan</td><td style=\"text-align: right;\">   nan</td><td style=\"text-align: right;\">   nan</td><td style=\"text-align: right;\">   nan</td><td style=\"text-align: right;\">    nan</td><td style=\"text-align: right;\">    nan</td><td style=\"text-align: right;\">    nan</td><td style=\"text-align: right;\">    nan</td><td style=\"text-align: right;\">    nan</td><td style=\"text-align: right;\">    nan</td><td style=\"text-align: right;\">   nan</td><td style=\"text-align: right;\">   nan</td><td style=\"text-align: right;\">   nan</td><td style=\"text-align: right;\">   nan</td><td style=\"text-align: right;\">   nan</td><td style=\"text-align: right;\">   nan</td><td style=\"text-align: right;\">   nan</td><td style=\"text-align: right;\">   nan</td><td style=\"text-align: right;\">   nan</td><td style=\"text-align: right;\">    nan</td><td style=\"text-align: right;\">    nan</td><td style=\"text-align: right;\">    nan</td><td style=\"text-align: right;\">    nan</td><td style=\"text-align: right;\">    nan</td><td style=\"text-align: right;\">    nan</td><td style=\"text-align: right;\">   nan</td><td style=\"text-align: right;\">   nan</td><td style=\"text-align: right;\">   nan</td><td style=\"text-align: right;\">   nan</td><td style=\"text-align: right;\">   nan</td><td style=\"text-align: right;\">   nan</td><td style=\"text-align: right;\">   nan</td><td style=\"text-align: right;\">   nan</td><td style=\"text-align: right;\">   nan</td><td style=\"text-align: right;\">    nan</td><td style=\"text-align: right;\">    nan</td><td style=\"text-align: right;\">    nan</td><td style=\"text-align: right;\">    nan</td><td style=\"text-align: right;\">    nan</td><td style=\"text-align: right;\">    nan</td><td style=\"text-align: right;\">   nan</td><td style=\"text-align: right;\">   nan</td><td style=\"text-align: right;\">   nan</td><td style=\"text-align: right;\">   nan</td><td style=\"text-align: right;\">   nan</td><td style=\"text-align: right;\">   nan</td><td style=\"text-align: right;\">   nan</td><td style=\"text-align: right;\">   nan</td><td style=\"text-align: right;\">   nan</td><td style=\"text-align: right;\">   nan</td><td style=\"text-align: right;\">   nan</td><td style=\"text-align: right;\">   nan</td><td style=\"text-align: right;\">   nan</td><td style=\"text-align: right;\">   nan</td><td style=\"text-align: right;\">   nan</td><td style=\"text-align: right;\">   nan</td><td style=\"text-align: right;\">   nan</td><td style=\"text-align: right;\">   nan</td><td style=\"text-align: right;\">   nan</td><td style=\"text-align: right;\">   nan</td><td style=\"text-align: right;\">   nan</td><td style=\"text-align: right;\">   nan</td><td style=\"text-align: right;\">   nan</td><td style=\"text-align: right;\">   nan</td><td style=\"text-align: right;\">   nan</td><td style=\"text-align: right;\">   nan</td><td style=\"text-align: right;\">   nan</td><td style=\"text-align: right;\">   nan</td><td style=\"text-align: right;\">   nan</td><td style=\"text-align: right;\">   nan</td><td style=\"text-align: right;\">   nan</td><td style=\"text-align: right;\">   nan</td><td style=\"text-align: right;\">   nan</td><td style=\"text-align: right;\">   nan</td><td style=\"text-align: right;\">   nan</td><td style=\"text-align: right;\">nan   </td><td style=\"text-align: right;\">  nan</td><td style=\"text-align: right;\">  nan</td></tr>\n",
              "<tr><td style=\"text-align: right;\">   2</td><td>PVT   </td><td style=\"text-align: right;\">        0</td><td style=\"text-align: right;\">         1</td><td style=\"text-align: right;\">   23</td><td style=\"text-align: right;\">         10</td><td style=\"text-align: right;\">         1</td><td>Graduated          </td><td>11C  </td><td>M    </td><td style=\"text-align: right;\">       106</td><td style=\"text-align: right;\">      63</td><td style=\"text-align: right;\">     78</td><td>13:12</td><td style=\"text-align: right;\">       9</td><td style=\"text-align: right;\">          0</td><td>                  </td><td style=\"text-align: right;\">           54</td><td style=\"text-align: right;\">             46</td><td style=\"text-align: right;\">          36</td><td style=\"text-align: right;\">            40</td><td style=\"text-align: right;\">          45</td><td style=\"text-align: right;\">  53</td><td style=\"text-align: right;\">  46</td><td style=\"text-align: right;\">       59</td><td style=\"text-align: right;\">  44</td><td style=\"text-align: right;\">  49</td><td style=\"text-align: right;\"> 92</td><td style=\"text-align: right;\">101</td><td style=\"text-align: right;\">  96</td><td style=\"text-align: right;\">     58</td><td style=\"text-align: right;\">     50</td><td style=\"text-align: right;\">  56</td><td style=\"text-align: right;\">   51</td><td style=\"text-align: right;\">  50</td><td style=\"text-align: right;\">    51</td><td style=\"text-align: right;\">   46</td><td style=\"text-align: right;\">  57</td><td style=\"text-align: right;\">  59</td><td style=\"text-align: right;\">   46</td><td style=\"text-align: right;\">   39</td><td style=\"text-align: right;\">   70</td><td style=\"text-align: right;\">   42</td><td style=\"text-align: right;\">   56</td><td style=\"text-align: right;\">   50</td><td style=\"text-align: right;\">   57</td><td style=\"text-align: right;\">   57</td><td style=\"text-align: right;\">   43</td><td style=\"text-align: right;\">   53</td><td style=\"text-align: right;\">   39</td><td style=\"text-align: right;\">   56</td><td style=\"text-align: right;\">   52</td><td style=\"text-align: right;\">   42</td><td style=\"text-align: right;\">   65</td><td style=\"text-align: right;\">   46</td><td style=\"text-align: right;\">   45</td><td style=\"text-align: right;\">   40</td><td style=\"text-align: right;\">   52</td><td style=\"text-align: right;\">   48</td><td style=\"text-align: right;\">   58</td><td style=\"text-align: right;\">   47</td><td style=\"text-align: right;\">   70</td><td style=\"text-align: right;\">   54</td><td style=\"text-align: right;\">   43</td><td style=\"text-align: right;\">   36</td><td style=\"text-align: right;\">   70</td><td style=\"text-align: right;\">   41</td><td style=\"text-align: right;\">   67</td><td style=\"text-align: right;\">   44</td><td style=\"text-align: right;\">   44</td><td style=\"text-align: right;\">   39</td><td style=\"text-align: right;\">   52</td><td style=\"text-align: right;\">   44</td><td style=\"text-align: right;\">   68</td><td style=\"text-align: right;\">   33</td><td style=\"text-align: right;\">   61</td><td style=\"text-align: right;\">     69</td><td style=\"text-align: right;\">     38</td><td style=\"text-align: right;\">     69</td><td style=\"text-align: right;\">     59</td><td style=\"text-align: right;\">     52</td><td style=\"text-align: right;\">   0</td><td style=\"text-align: right;\">     40</td><td style=\"text-align: right;\">  10</td><td style=\"text-align: right;\">   6</td><td style=\"text-align: right;\">  14</td><td style=\"text-align: right;\">   8</td><td style=\"text-align: right;\">   5</td><td style=\"text-align: right;\">  10</td><td style=\"text-align: right;\">   1</td><td style=\"text-align: right;\">   5</td><td style=\"text-align: right;\">  15</td><td style=\"text-align: right;\">   17</td><td style=\"text-align: right;\">    7</td><td style=\"text-align: right;\">   12</td><td style=\"text-align: right;\">   15</td><td style=\"text-align: right;\">   11</td><td style=\"text-align: right;\">   14</td><td style=\"text-align: right;\">    52</td><td style=\"text-align: right;\">    39</td><td style=\"text-align: right;\">    51</td><td style=\"text-align: right;\">    39</td><td style=\"text-align: right;\">    37</td><td style=\"text-align: right;\">    50</td><td style=\"text-align: right;\">    33</td><td style=\"text-align: right;\">    40</td><td style=\"text-align: right;\">    54</td><td style=\"text-align: right;\">     60</td><td style=\"text-align: right;\">     41</td><td style=\"text-align: right;\">     55</td><td style=\"text-align: right;\">     58</td><td style=\"text-align: right;\">     53</td><td style=\"text-align: right;\">     52</td><td style=\"text-align: right;\">    50</td><td style=\"text-align: right;\">    38</td><td style=\"text-align: right;\">    54</td><td style=\"text-align: right;\">    37</td><td style=\"text-align: right;\">    27</td><td style=\"text-align: right;\">    45</td><td style=\"text-align: right;\">    31</td><td style=\"text-align: right;\">    37</td><td style=\"text-align: right;\">    55</td><td style=\"text-align: right;\">     64</td><td style=\"text-align: right;\">     43</td><td style=\"text-align: right;\">     63</td><td style=\"text-align: right;\">     56</td><td style=\"text-align: right;\">     51</td><td style=\"text-align: right;\">     47</td><td style=\"text-align: right;\">    51</td><td style=\"text-align: right;\">    39</td><td style=\"text-align: right;\">    53</td><td style=\"text-align: right;\">    38</td><td style=\"text-align: right;\">    33</td><td style=\"text-align: right;\">    47</td><td style=\"text-align: right;\">    32</td><td style=\"text-align: right;\">    39</td><td style=\"text-align: right;\">    55</td><td style=\"text-align: right;\">     62</td><td style=\"text-align: right;\">     42</td><td style=\"text-align: right;\">     58</td><td style=\"text-align: right;\">     57</td><td style=\"text-align: right;\">     52</td><td style=\"text-align: right;\">     50</td><td style=\"text-align: right;\">    58</td><td style=\"text-align: right;\">    14</td><td style=\"text-align: right;\">    54</td><td style=\"text-align: right;\">    14</td><td style=\"text-align: right;\">    10</td><td style=\"text-align: right;\">    50</td><td style=\"text-align: right;\">     4</td><td style=\"text-align: right;\">    16</td><td style=\"text-align: right;\">    66</td><td style=\"text-align: right;\">     84</td><td style=\"text-align: right;\">     18</td><td style=\"text-align: right;\">     69</td><td style=\"text-align: right;\">     79</td><td style=\"text-align: right;\">     62</td><td style=\"text-align: right;\">     58</td><td style=\"text-align: right;\">    50</td><td style=\"text-align: right;\">    12</td><td style=\"text-align: right;\">    66</td><td style=\"text-align: right;\">    10</td><td style=\"text-align: right;\">     1</td><td style=\"text-align: right;\">    31</td><td style=\"text-align: right;\">     3</td><td style=\"text-align: right;\">    10</td><td style=\"text-align: right;\">    69</td><td style=\"text-align: right;\">     92</td><td style=\"text-align: right;\">     24</td><td style=\"text-align: right;\">     90</td><td style=\"text-align: right;\">     73</td><td style=\"text-align: right;\">     54</td><td style=\"text-align: right;\">     38</td><td style=\"text-align: right;\">    54</td><td style=\"text-align: right;\">    14</td><td style=\"text-align: right;\">    62</td><td style=\"text-align: right;\">    12</td><td style=\"text-align: right;\">     4</td><td style=\"text-align: right;\">    38</td><td style=\"text-align: right;\">     4</td><td style=\"text-align: right;\">    14</td><td style=\"text-align: right;\">    69</td><td style=\"text-align: right;\">     88</td><td style=\"text-align: right;\">     21</td><td style=\"text-align: right;\">     79</td><td style=\"text-align: right;\">     76</td><td style=\"text-align: right;\">     58</td><td style=\"text-align: right;\">     50</td><td style=\"text-align: right;\">    38</td><td style=\"text-align: right;\">    16</td><td style=\"text-align: right;\">    37</td><td style=\"text-align: right;\">    19</td><td style=\"text-align: right;\">    40</td><td style=\"text-align: right;\">    44</td><td style=\"text-align: right;\">    37</td><td style=\"text-align: right;\">    51</td><td style=\"text-align: right;\">    48</td><td style=\"text-align: right;\">    56</td><td style=\"text-align: right;\">    44</td><td style=\"text-align: right;\">    31</td><td style=\"text-align: right;\">    52</td><td style=\"text-align: right;\">    55</td><td style=\"text-align: right;\">    52</td><td style=\"text-align: right;\">    44</td><td style=\"text-align: right;\">    34</td><td style=\"text-align: right;\">    52</td><td style=\"text-align: right;\">    51</td><td style=\"text-align: right;\">    54</td><td style=\"text-align: right;\">    27</td><td style=\"text-align: right;\">    10</td><td style=\"text-align: right;\">    54</td><td style=\"text-align: right;\">    42</td><td style=\"text-align: right;\">    73</td><td style=\"text-align: right;\">    27</td><td style=\"text-align: right;\">     3</td><td style=\"text-align: right;\">    58</td><td style=\"text-align: right;\">    69</td><td style=\"text-align: right;\">    58</td><td style=\"text-align: right;\">    27</td><td style=\"text-align: right;\">     5</td><td style=\"text-align: right;\">    58</td><td style=\"text-align: right;\">    54</td><td style=\"text-align: right;\">    66</td><td style=\"text-align: right;\">  0.8 </td><td style=\"text-align: right;\">   23</td><td style=\"text-align: right;\">    0</td></tr>\n",
              "<tr><td style=\"text-align: right;\">   3</td><td>SPC   </td><td style=\"text-align: right;\">        0</td><td style=\"text-align: right;\">         1</td><td style=\"text-align: right;\">   23</td><td style=\"text-align: right;\">         16</td><td style=\"text-align: right;\">         0</td><td>Voluntary Withdrawl</td><td>18X  </td><td>M    </td><td style=\"text-align: right;\">       119</td><td style=\"text-align: right;\">     nan</td><td style=\"text-align: right;\">    nan</td><td>     </td><td style=\"text-align: right;\">     nan</td><td style=\"text-align: right;\">          0</td><td>                  </td><td style=\"text-align: right;\">           63</td><td style=\"text-align: right;\">             61</td><td style=\"text-align: right;\">          55</td><td style=\"text-align: right;\">            64</td><td style=\"text-align: right;\">          61</td><td style=\"text-align: right;\">  55</td><td style=\"text-align: right;\">  55</td><td style=\"text-align: right;\">       58</td><td style=\"text-align: right;\">  51</td><td style=\"text-align: right;\">  57</td><td style=\"text-align: right;\">118</td><td style=\"text-align: right;\">111</td><td style=\"text-align: right;\"> 116</td><td style=\"text-align: right;\">     43</td><td style=\"text-align: right;\">     57</td><td style=\"text-align: right;\">  42</td><td style=\"text-align: right;\">   51</td><td style=\"text-align: right;\">  42</td><td style=\"text-align: right;\">    45</td><td style=\"text-align: right;\">   59</td><td style=\"text-align: right;\">  62</td><td style=\"text-align: right;\">  42</td><td style=\"text-align: right;\">   53</td><td style=\"text-align: right;\">   39</td><td style=\"text-align: right;\">   40</td><td style=\"text-align: right;\">   49</td><td style=\"text-align: right;\">   36</td><td style=\"text-align: right;\">   50</td><td style=\"text-align: right;\">   57</td><td style=\"text-align: right;\">   43</td><td style=\"text-align: right;\">   43</td><td style=\"text-align: right;\">   50</td><td style=\"text-align: right;\">   39</td><td style=\"text-align: right;\">   45</td><td style=\"text-align: right;\">   52</td><td style=\"text-align: right;\">   42</td><td style=\"text-align: right;\">   41</td><td style=\"text-align: right;\">   46</td><td style=\"text-align: right;\">   45</td><td style=\"text-align: right;\">   60</td><td style=\"text-align: right;\">   42</td><td style=\"text-align: right;\">   51</td><td style=\"text-align: right;\">   40</td><td style=\"text-align: right;\">   52</td><td style=\"text-align: right;\">   44</td><td style=\"text-align: right;\">   59</td><td style=\"text-align: right;\">   43</td><td style=\"text-align: right;\">   36</td><td style=\"text-align: right;\">   40</td><td style=\"text-align: right;\">   50</td><td style=\"text-align: right;\">   61</td><td style=\"text-align: right;\">   39</td><td style=\"text-align: right;\">   44</td><td style=\"text-align: right;\">   39</td><td style=\"text-align: right;\">   70</td><td style=\"text-align: right;\">   57</td><td style=\"text-align: right;\">   44</td><td style=\"text-align: right;\">   33</td><td style=\"text-align: right;\">   69</td><td style=\"text-align: right;\">     60</td><td style=\"text-align: right;\">     47</td><td style=\"text-align: right;\">     47</td><td style=\"text-align: right;\">     56</td><td style=\"text-align: right;\">     60</td><td style=\"text-align: right;\">   1</td><td style=\"text-align: right;\">     37</td><td style=\"text-align: right;\">   7</td><td style=\"text-align: right;\">   7</td><td style=\"text-align: right;\">   6</td><td style=\"text-align: right;\">   8</td><td style=\"text-align: right;\">   9</td><td style=\"text-align: right;\">  10</td><td style=\"text-align: right;\">   4</td><td style=\"text-align: right;\">   2</td><td style=\"text-align: right;\">  11</td><td style=\"text-align: right;\">    7</td><td style=\"text-align: right;\">    7</td><td style=\"text-align: right;\">    3</td><td style=\"text-align: right;\">   16</td><td style=\"text-align: right;\">   10</td><td style=\"text-align: right;\">   14</td><td style=\"text-align: right;\">    43</td><td style=\"text-align: right;\">    42</td><td style=\"text-align: right;\">    33</td><td style=\"text-align: right;\">    39</td><td style=\"text-align: right;\">    46</td><td style=\"text-align: right;\">    50</td><td style=\"text-align: right;\">    40</td><td style=\"text-align: right;\">    33</td><td style=\"text-align: right;\">    45</td><td style=\"text-align: right;\">     35</td><td style=\"text-align: right;\">     41</td><td style=\"text-align: right;\">     35</td><td style=\"text-align: right;\">     60</td><td style=\"text-align: right;\">     50</td><td style=\"text-align: right;\">     52</td><td style=\"text-align: right;\">    41</td><td style=\"text-align: right;\">    41</td><td style=\"text-align: right;\">    38</td><td style=\"text-align: right;\">    37</td><td style=\"text-align: right;\">    37</td><td style=\"text-align: right;\">    45</td><td style=\"text-align: right;\">    39</td><td style=\"text-align: right;\">    30</td><td style=\"text-align: right;\">    47</td><td style=\"text-align: right;\">     37</td><td style=\"text-align: right;\">     43</td><td style=\"text-align: right;\">     41</td><td style=\"text-align: right;\">     59</td><td style=\"text-align: right;\">     48</td><td style=\"text-align: right;\">     47</td><td style=\"text-align: right;\">    42</td><td style=\"text-align: right;\">    41</td><td style=\"text-align: right;\">    36</td><td style=\"text-align: right;\">    38</td><td style=\"text-align: right;\">    43</td><td style=\"text-align: right;\">    47</td><td style=\"text-align: right;\">    39</td><td style=\"text-align: right;\">    32</td><td style=\"text-align: right;\">    46</td><td style=\"text-align: right;\">     36</td><td style=\"text-align: right;\">     42</td><td style=\"text-align: right;\">     39</td><td style=\"text-align: right;\">     60</td><td style=\"text-align: right;\">     49</td><td style=\"text-align: right;\">     50</td><td style=\"text-align: right;\">    24</td><td style=\"text-align: right;\">    21</td><td style=\"text-align: right;\">     4</td><td style=\"text-align: right;\">    14</td><td style=\"text-align: right;\">    34</td><td style=\"text-align: right;\">    50</td><td style=\"text-align: right;\">    16</td><td style=\"text-align: right;\">     4</td><td style=\"text-align: right;\">    31</td><td style=\"text-align: right;\">      7</td><td style=\"text-align: right;\">     18</td><td style=\"text-align: right;\">      7</td><td style=\"text-align: right;\">     84</td><td style=\"text-align: right;\">     50</td><td style=\"text-align: right;\">     58</td><td style=\"text-align: right;\">    18</td><td style=\"text-align: right;\">    18</td><td style=\"text-align: right;\">    12</td><td style=\"text-align: right;\">    10</td><td style=\"text-align: right;\">    10</td><td style=\"text-align: right;\">    31</td><td style=\"text-align: right;\">    14</td><td style=\"text-align: right;\">     2</td><td style=\"text-align: right;\">    38</td><td style=\"text-align: right;\">     10</td><td style=\"text-align: right;\">     24</td><td style=\"text-align: right;\">     18</td><td style=\"text-align: right;\">     82</td><td style=\"text-align: right;\">     42</td><td style=\"text-align: right;\">     38</td><td style=\"text-align: right;\">    21</td><td style=\"text-align: right;\">    18</td><td style=\"text-align: right;\">     8</td><td style=\"text-align: right;\">    12</td><td style=\"text-align: right;\">    24</td><td style=\"text-align: right;\">    38</td><td style=\"text-align: right;\">    14</td><td style=\"text-align: right;\">     4</td><td style=\"text-align: right;\">    34</td><td style=\"text-align: right;\">      8</td><td style=\"text-align: right;\">     21</td><td style=\"text-align: right;\">     14</td><td style=\"text-align: right;\">     84</td><td style=\"text-align: right;\">     46</td><td style=\"text-align: right;\">     50</td><td style=\"text-align: right;\">    28</td><td style=\"text-align: right;\">    23</td><td style=\"text-align: right;\">    20</td><td style=\"text-align: right;\">    10</td><td style=\"text-align: right;\">    40</td><td style=\"text-align: right;\">    35</td><td style=\"text-align: right;\">    44</td><td style=\"text-align: right;\">    34</td><td style=\"text-align: right;\">    35</td><td style=\"text-align: right;\">    56</td><td style=\"text-align: right;\">    35</td><td style=\"text-align: right;\">    38</td><td style=\"text-align: right;\">    35</td><td style=\"text-align: right;\">    40</td><td style=\"text-align: right;\">    52</td><td style=\"text-align: right;\">    35</td><td style=\"text-align: right;\">    41</td><td style=\"text-align: right;\">    34</td><td style=\"text-align: right;\">    37</td><td style=\"text-align: right;\">    54</td><td style=\"text-align: right;\">     7</td><td style=\"text-align: right;\">    27</td><td style=\"text-align: right;\">     5</td><td style=\"text-align: right;\">     7</td><td style=\"text-align: right;\">    73</td><td style=\"text-align: right;\">     7</td><td style=\"text-align: right;\">    12</td><td style=\"text-align: right;\">     7</td><td style=\"text-align: right;\">    16</td><td style=\"text-align: right;\">    58</td><td style=\"text-align: right;\">     7</td><td style=\"text-align: right;\">    18</td><td style=\"text-align: right;\">     5</td><td style=\"text-align: right;\">    10</td><td style=\"text-align: right;\">    66</td><td style=\"text-align: right;\">  0.72</td><td style=\"text-align: right;\">   18</td><td style=\"text-align: right;\">    0</td></tr>\n",
              "<tr><td style=\"text-align: right;\">   4</td><td>PVT   </td><td style=\"text-align: right;\">        0</td><td style=\"text-align: right;\">         0</td><td style=\"text-align: right;\">   18</td><td style=\"text-align: right;\">         12</td><td style=\"text-align: right;\">         0</td><td>Psych Failure      </td><td>11B  </td><td>M    </td><td style=\"text-align: right;\">       115</td><td style=\"text-align: right;\">      58</td><td style=\"text-align: right;\">     69</td><td>13:24</td><td style=\"text-align: right;\">       4</td><td style=\"text-align: right;\">          0</td><td>                  </td><td style=\"text-align: right;\">           58</td><td style=\"text-align: right;\">             55</td><td style=\"text-align: right;\">          50</td><td style=\"text-align: right;\">            58</td><td style=\"text-align: right;\">          60</td><td style=\"text-align: right;\">  50</td><td style=\"text-align: right;\">  63</td><td style=\"text-align: right;\">       58</td><td style=\"text-align: right;\">  60</td><td style=\"text-align: right;\">  61</td><td style=\"text-align: right;\">111</td><td style=\"text-align: right;\">117</td><td style=\"text-align: right;\"> 114</td><td style=\"text-align: right;\">     43</td><td style=\"text-align: right;\">     50</td><td style=\"text-align: right;\">  42</td><td style=\"text-align: right;\">   51</td><td style=\"text-align: right;\">  50</td><td style=\"text-align: right;\">    54</td><td style=\"text-align: right;\">   50</td><td style=\"text-align: right;\">  42</td><td style=\"text-align: right;\">  31</td><td style=\"text-align: right;\">   66</td><td style=\"text-align: right;\">   48</td><td style=\"text-align: right;\">   63</td><td style=\"text-align: right;\">   71</td><td style=\"text-align: right;\">   51</td><td style=\"text-align: right;\">   65</td><td style=\"text-align: right;\">   61</td><td style=\"text-align: right;\">   59</td><td style=\"text-align: right;\">   43</td><td style=\"text-align: right;\">   62</td><td style=\"text-align: right;\">   52</td><td style=\"text-align: right;\">   63</td><td style=\"text-align: right;\">   57</td><td style=\"text-align: right;\">   42</td><td style=\"text-align: right;\">   53</td><td style=\"text-align: right;\">   64</td><td style=\"text-align: right;\">   45</td><td style=\"text-align: right;\">   60</td><td style=\"text-align: right;\">   76</td><td style=\"text-align: right;\">   64</td><td style=\"text-align: right;\">   64</td><td style=\"text-align: right;\">   52</td><td style=\"text-align: right;\">   44</td><td style=\"text-align: right;\">   66</td><td style=\"text-align: right;\">   43</td><td style=\"text-align: right;\">   46</td><td style=\"text-align: right;\">   57</td><td style=\"text-align: right;\">   55</td><td style=\"text-align: right;\">   51</td><td style=\"text-align: right;\">   48</td><td style=\"text-align: right;\">   58</td><td style=\"text-align: right;\">   46</td><td style=\"text-align: right;\">   50</td><td style=\"text-align: right;\">   57</td><td style=\"text-align: right;\">   58</td><td style=\"text-align: right;\">   50</td><td style=\"text-align: right;\">   52</td><td style=\"text-align: right;\">     53</td><td style=\"text-align: right;\">     47</td><td style=\"text-align: right;\">     63</td><td style=\"text-align: right;\">     59</td><td style=\"text-align: right;\">     57</td><td style=\"text-align: right;\">   0</td><td style=\"text-align: right;\">     48</td><td style=\"text-align: right;\">  12</td><td style=\"text-align: right;\">  11</td><td style=\"text-align: right;\">  18</td><td style=\"text-align: right;\">  11</td><td style=\"text-align: right;\">  13</td><td style=\"text-align: right;\">  14</td><td style=\"text-align: right;\">  14</td><td style=\"text-align: right;\">   4</td><td style=\"text-align: right;\">   8</td><td style=\"text-align: right;\">    6</td><td style=\"text-align: right;\">   13</td><td style=\"text-align: right;\">    2</td><td style=\"text-align: right;\">    5</td><td style=\"text-align: right;\">    7</td><td style=\"text-align: right;\">    9</td><td style=\"text-align: right;\">    58</td><td style=\"text-align: right;\">    50</td><td style=\"text-align: right;\">    60</td><td style=\"text-align: right;\">    48</td><td style=\"text-align: right;\">    56</td><td style=\"text-align: right;\">    59</td><td style=\"text-align: right;\">    65</td><td style=\"text-align: right;\">    38</td><td style=\"text-align: right;\">    38</td><td style=\"text-align: right;\">     32</td><td style=\"text-align: right;\">     58</td><td style=\"text-align: right;\">     33</td><td style=\"text-align: right;\">     32</td><td style=\"text-align: right;\">     43</td><td style=\"text-align: right;\">     37</td><td style=\"text-align: right;\">    56</td><td style=\"text-align: right;\">    49</td><td style=\"text-align: right;\">    63</td><td style=\"text-align: right;\">    46</td><td style=\"text-align: right;\">    48</td><td style=\"text-align: right;\">    55</td><td style=\"text-align: right;\">    63</td><td style=\"text-align: right;\">    35</td><td style=\"text-align: right;\">    41</td><td style=\"text-align: right;\">     35</td><td style=\"text-align: right;\">     60</td><td style=\"text-align: right;\">     38</td><td style=\"text-align: right;\">     30</td><td style=\"text-align: right;\">     41</td><td style=\"text-align: right;\">     30</td><td style=\"text-align: right;\">    57</td><td style=\"text-align: right;\">    50</td><td style=\"text-align: right;\">    61</td><td style=\"text-align: right;\">    47</td><td style=\"text-align: right;\">    52</td><td style=\"text-align: right;\">    57</td><td style=\"text-align: right;\">    64</td><td style=\"text-align: right;\">    36</td><td style=\"text-align: right;\">    40</td><td style=\"text-align: right;\">     34</td><td style=\"text-align: right;\">     59</td><td style=\"text-align: right;\">     36</td><td style=\"text-align: right;\">     31</td><td style=\"text-align: right;\">     42</td><td style=\"text-align: right;\">     35</td><td style=\"text-align: right;\">    79</td><td style=\"text-align: right;\">    50</td><td style=\"text-align: right;\">    84</td><td style=\"text-align: right;\">    42</td><td style=\"text-align: right;\">    73</td><td style=\"text-align: right;\">    82</td><td style=\"text-align: right;\">    93</td><td style=\"text-align: right;\">    12</td><td style=\"text-align: right;\">    12</td><td style=\"text-align: right;\">      4</td><td style=\"text-align: right;\">     79</td><td style=\"text-align: right;\">      4</td><td style=\"text-align: right;\">      4</td><td style=\"text-align: right;\">     24</td><td style=\"text-align: right;\">     10</td><td style=\"text-align: right;\">    73</td><td style=\"text-align: right;\">    46</td><td style=\"text-align: right;\">    90</td><td style=\"text-align: right;\">    34</td><td style=\"text-align: right;\">    42</td><td style=\"text-align: right;\">    69</td><td style=\"text-align: right;\">    90</td><td style=\"text-align: right;\">     7</td><td style=\"text-align: right;\">    18</td><td style=\"text-align: right;\">      7</td><td style=\"text-align: right;\">     84</td><td style=\"text-align: right;\">     12</td><td style=\"text-align: right;\">      2</td><td style=\"text-align: right;\">     18</td><td style=\"text-align: right;\">      2</td><td style=\"text-align: right;\">    76</td><td style=\"text-align: right;\">    50</td><td style=\"text-align: right;\">    86</td><td style=\"text-align: right;\">    38</td><td style=\"text-align: right;\">    58</td><td style=\"text-align: right;\">    76</td><td style=\"text-align: right;\">    92</td><td style=\"text-align: right;\">     8</td><td style=\"text-align: right;\">    16</td><td style=\"text-align: right;\">      5</td><td style=\"text-align: right;\">     82</td><td style=\"text-align: right;\">      8</td><td style=\"text-align: right;\">      3</td><td style=\"text-align: right;\">     21</td><td style=\"text-align: right;\">      7</td><td style=\"text-align: right;\">    52</td><td style=\"text-align: right;\">    41</td><td style=\"text-align: right;\">    18</td><td style=\"text-align: right;\">    15</td><td style=\"text-align: right;\">    21</td><td style=\"text-align: right;\">    56</td><td style=\"text-align: right;\">    63</td><td style=\"text-align: right;\">    32</td><td style=\"text-align: right;\">    42</td><td style=\"text-align: right;\">    33</td><td style=\"text-align: right;\">    56</td><td style=\"text-align: right;\">    57</td><td style=\"text-align: right;\">    33</td><td style=\"text-align: right;\">    48</td><td style=\"text-align: right;\">    29</td><td style=\"text-align: right;\">    56</td><td style=\"text-align: right;\">    60</td><td style=\"text-align: right;\">    32</td><td style=\"text-align: right;\">    45</td><td style=\"text-align: right;\">    31</td><td style=\"text-align: right;\">    73</td><td style=\"text-align: right;\">    90</td><td style=\"text-align: right;\">     4</td><td style=\"text-align: right;\">    21</td><td style=\"text-align: right;\">     4</td><td style=\"text-align: right;\">    73</td><td style=\"text-align: right;\">    76</td><td style=\"text-align: right;\">     4</td><td style=\"text-align: right;\">    42</td><td style=\"text-align: right;\">     2</td><td style=\"text-align: right;\">    73</td><td style=\"text-align: right;\">    84</td><td style=\"text-align: right;\">     4</td><td style=\"text-align: right;\">    31</td><td style=\"text-align: right;\">     3</td><td style=\"text-align: right;\">  0.87</td><td style=\"text-align: right;\">   19</td><td style=\"text-align: right;\">    0</td></tr>\n",
              "<tr><td style=\"text-align: right;\">   5</td><td>PVT   </td><td style=\"text-align: right;\">        1</td><td style=\"text-align: right;\">         0</td><td style=\"text-align: right;\">   25</td><td style=\"text-align: right;\">         12</td><td style=\"text-align: right;\">         0</td><td>APFT Failure       </td><td>11B  </td><td>M    </td><td style=\"text-align: right;\">       126</td><td style=\"text-align: right;\">      48</td><td style=\"text-align: right;\">     69</td><td>16:14</td><td style=\"text-align: right;\">       4</td><td style=\"text-align: right;\">          0</td><td>                  </td><td style=\"text-align: right;\">           44</td><td style=\"text-align: right;\">             57</td><td style=\"text-align: right;\">          58</td><td style=\"text-align: right;\">            58</td><td style=\"text-align: right;\">          53</td><td style=\"text-align: right;\">  63</td><td style=\"text-align: right;\">  63</td><td style=\"text-align: right;\">       54</td><td style=\"text-align: right;\">  37</td><td style=\"text-align: right;\">  61</td><td style=\"text-align: right;\">107</td><td style=\"text-align: right;\">112</td><td style=\"text-align: right;\"> 110</td><td style=\"text-align: right;\">     34</td><td style=\"text-align: right;\">     57</td><td style=\"text-align: right;\">  42</td><td style=\"text-align: right;\">   51</td><td style=\"text-align: right;\">  50</td><td style=\"text-align: right;\">    35</td><td style=\"text-align: right;\">   46</td><td style=\"text-align: right;\">  47</td><td style=\"text-align: right;\">  55</td><td style=\"text-align: right;\">   43</td><td style=\"text-align: right;\">   48</td><td style=\"text-align: right;\">   40</td><td style=\"text-align: right;\">   46</td><td style=\"text-align: right;\">   36</td><td style=\"text-align: right;\">   38</td><td style=\"text-align: right;\">   61</td><td style=\"text-align: right;\">   46</td><td style=\"text-align: right;\">   56</td><td style=\"text-align: right;\">   44</td><td style=\"text-align: right;\">   47</td><td style=\"text-align: right;\">   45</td><td style=\"text-align: right;\">   46</td><td style=\"text-align: right;\">   42</td><td style=\"text-align: right;\">   41</td><td style=\"text-align: right;\">   46</td><td style=\"text-align: right;\">   45</td><td style=\"text-align: right;\">   40</td><td style=\"text-align: right;\">   56</td><td style=\"text-align: right;\">   43</td><td style=\"text-align: right;\">   40</td><td style=\"text-align: right;\">   47</td><td style=\"text-align: right;\">   44</td><td style=\"text-align: right;\">   39</td><td style=\"text-align: right;\">   43</td><td style=\"text-align: right;\">   36</td><td style=\"text-align: right;\">   40</td><td style=\"text-align: right;\">   55</td><td style=\"text-align: right;\">   37</td><td style=\"text-align: right;\">   48</td><td style=\"text-align: right;\">   44</td><td style=\"text-align: right;\">   43</td><td style=\"text-align: right;\">   43</td><td style=\"text-align: right;\">   57</td><td style=\"text-align: right;\">   44</td><td style=\"text-align: right;\">   33</td><td style=\"text-align: right;\">   69</td><td style=\"text-align: right;\">     53</td><td style=\"text-align: right;\">     47</td><td style=\"text-align: right;\">     49</td><td style=\"text-align: right;\">     47</td><td style=\"text-align: right;\">     42</td><td style=\"text-align: right;\">   0</td><td style=\"text-align: right;\">     38</td><td style=\"text-align: right;\">   7</td><td style=\"text-align: right;\">  11</td><td style=\"text-align: right;\">  12</td><td style=\"text-align: right;\">   9</td><td style=\"text-align: right;\">   7</td><td style=\"text-align: right;\">  10</td><td style=\"text-align: right;\">   8</td><td style=\"text-align: right;\">   9</td><td style=\"text-align: right;\">  11</td><td style=\"text-align: right;\">   18</td><td style=\"text-align: right;\">   10</td><td style=\"text-align: right;\">    7</td><td style=\"text-align: right;\">   18</td><td style=\"text-align: right;\">   16</td><td style=\"text-align: right;\">   16</td><td style=\"text-align: right;\">    43</td><td style=\"text-align: right;\">    50</td><td style=\"text-align: right;\">    46</td><td style=\"text-align: right;\">    42</td><td style=\"text-align: right;\">    42</td><td style=\"text-align: right;\">    50</td><td style=\"text-align: right;\">    50</td><td style=\"text-align: right;\">    49</td><td style=\"text-align: right;\">    45</td><td style=\"text-align: right;\">     62</td><td style=\"text-align: right;\">     50</td><td style=\"text-align: right;\">     44</td><td style=\"text-align: right;\">     66</td><td style=\"text-align: right;\">     65</td><td style=\"text-align: right;\">     57</td><td style=\"text-align: right;\">    41</td><td style=\"text-align: right;\">    49</td><td style=\"text-align: right;\">    50</td><td style=\"text-align: right;\">    40</td><td style=\"text-align: right;\">    32</td><td style=\"text-align: right;\">    45</td><td style=\"text-align: right;\">    48</td><td style=\"text-align: right;\">    47</td><td style=\"text-align: right;\">    47</td><td style=\"text-align: right;\">     67</td><td style=\"text-align: right;\">     51</td><td style=\"text-align: right;\">     51</td><td style=\"text-align: right;\">     64</td><td style=\"text-align: right;\">     63</td><td style=\"text-align: right;\">     54</td><td style=\"text-align: right;\">    42</td><td style=\"text-align: right;\">    50</td><td style=\"text-align: right;\">    48</td><td style=\"text-align: right;\">    41</td><td style=\"text-align: right;\">    38</td><td style=\"text-align: right;\">    47</td><td style=\"text-align: right;\">    49</td><td style=\"text-align: right;\">    48</td><td style=\"text-align: right;\">    46</td><td style=\"text-align: right;\">     64</td><td style=\"text-align: right;\">     51</td><td style=\"text-align: right;\">     47</td><td style=\"text-align: right;\">     65</td><td style=\"text-align: right;\">     64</td><td style=\"text-align: right;\">     56</td><td style=\"text-align: right;\">    24</td><td style=\"text-align: right;\">    50</td><td style=\"text-align: right;\">    34</td><td style=\"text-align: right;\">    21</td><td style=\"text-align: right;\">    21</td><td style=\"text-align: right;\">    50</td><td style=\"text-align: right;\">    50</td><td style=\"text-align: right;\">    46</td><td style=\"text-align: right;\">    31</td><td style=\"text-align: right;\">     88</td><td style=\"text-align: right;\">     50</td><td style=\"text-align: right;\">     27</td><td style=\"text-align: right;\">     95</td><td style=\"text-align: right;\">     93</td><td style=\"text-align: right;\">     76</td><td style=\"text-align: right;\">    18</td><td style=\"text-align: right;\">    46</td><td style=\"text-align: right;\">    50</td><td style=\"text-align: right;\">    16</td><td style=\"text-align: right;\">     4</td><td style=\"text-align: right;\">    31</td><td style=\"text-align: right;\">    42</td><td style=\"text-align: right;\">    38</td><td style=\"text-align: right;\">    38</td><td style=\"text-align: right;\">     96</td><td style=\"text-align: right;\">     54</td><td style=\"text-align: right;\">     54</td><td style=\"text-align: right;\">     92</td><td style=\"text-align: right;\">     90</td><td style=\"text-align: right;\">     66</td><td style=\"text-align: right;\">    21</td><td style=\"text-align: right;\">    50</td><td style=\"text-align: right;\">    42</td><td style=\"text-align: right;\">    18</td><td style=\"text-align: right;\">    12</td><td style=\"text-align: right;\">    38</td><td style=\"text-align: right;\">    46</td><td style=\"text-align: right;\">    42</td><td style=\"text-align: right;\">    34</td><td style=\"text-align: right;\">     92</td><td style=\"text-align: right;\">     54</td><td style=\"text-align: right;\">     38</td><td style=\"text-align: right;\">     93</td><td style=\"text-align: right;\">     92</td><td style=\"text-align: right;\">     73</td><td style=\"text-align: right;\">    39</td><td style=\"text-align: right;\">    25</td><td style=\"text-align: right;\">    38</td><td style=\"text-align: right;\">    17</td><td style=\"text-align: right;\">    50</td><td style=\"text-align: right;\">    45</td><td style=\"text-align: right;\">    46</td><td style=\"text-align: right;\">    52</td><td style=\"text-align: right;\">    45</td><td style=\"text-align: right;\">    68</td><td style=\"text-align: right;\">    45</td><td style=\"text-align: right;\">    40</td><td style=\"text-align: right;\">    54</td><td style=\"text-align: right;\">    51</td><td style=\"text-align: right;\">    65</td><td style=\"text-align: right;\">    45</td><td style=\"text-align: right;\">    43</td><td style=\"text-align: right;\">    53</td><td style=\"text-align: right;\">    48</td><td style=\"text-align: right;\">    66</td><td style=\"text-align: right;\">    31</td><td style=\"text-align: right;\">    34</td><td style=\"text-align: right;\">    58</td><td style=\"text-align: right;\">    31</td><td style=\"text-align: right;\">    96</td><td style=\"text-align: right;\">    31</td><td style=\"text-align: right;\">    16</td><td style=\"text-align: right;\">    66</td><td style=\"text-align: right;\">    54</td><td style=\"text-align: right;\">    93</td><td style=\"text-align: right;\">    31</td><td style=\"text-align: right;\">    24</td><td style=\"text-align: right;\">    62</td><td style=\"text-align: right;\">    42</td><td style=\"text-align: right;\">    95</td><td style=\"text-align: right;\">  0.57</td><td style=\"text-align: right;\">   15</td><td style=\"text-align: right;\">    0</td></tr>\n",
              "<tr><td style=\"text-align: right;\">   6</td><td>PVT   </td><td style=\"text-align: right;\">        0</td><td style=\"text-align: right;\">         1</td><td style=\"text-align: right;\">   19</td><td style=\"text-align: right;\">         12</td><td style=\"text-align: right;\">         1</td><td>Graduated          </td><td>11B  </td><td>M    </td><td style=\"text-align: right;\">       109</td><td style=\"text-align: right;\">      64</td><td style=\"text-align: right;\">     89</td><td>12:24</td><td style=\"text-align: right;\">     nan</td><td style=\"text-align: right;\">          0</td><td>                  </td><td style=\"text-align: right;\">           43</td><td style=\"text-align: right;\">             48</td><td style=\"text-align: right;\">          47</td><td style=\"text-align: right;\">            42</td><td style=\"text-align: right;\">          49</td><td style=\"text-align: right;\">  39</td><td style=\"text-align: right;\">  42</td><td style=\"text-align: right;\">       49</td><td style=\"text-align: right;\">  46</td><td style=\"text-align: right;\">  48</td><td style=\"text-align: right;\"> 94</td><td style=\"text-align: right;\"> 92</td><td style=\"text-align: right;\">  93</td><td style=\"text-align: right;\">     34</td><td style=\"text-align: right;\">     50</td><td style=\"text-align: right;\">  42</td><td style=\"text-align: right;\">   51</td><td style=\"text-align: right;\">  42</td><td style=\"text-align: right;\">    48</td><td style=\"text-align: right;\">   50</td><td style=\"text-align: right;\">  81</td><td style=\"text-align: right;\">  66</td><td style=\"text-align: right;\">   30</td><td style=\"text-align: right;\">   39</td><td style=\"text-align: right;\">   36</td><td style=\"text-align: right;\">   37</td><td style=\"text-align: right;\">   51</td><td style=\"text-align: right;\">   42</td><td style=\"text-align: right;\">   41</td><td style=\"text-align: right;\">   34</td><td style=\"text-align: right;\">   43</td><td style=\"text-align: right;\">   34</td><td style=\"text-align: right;\">   39</td><td style=\"text-align: right;\">   33</td><td style=\"text-align: right;\">   38</td><td style=\"text-align: right;\">   42</td><td style=\"text-align: right;\">   53</td><td style=\"text-align: right;\">   46</td><td style=\"text-align: right;\">   45</td><td style=\"text-align: right;\">   40</td><td style=\"text-align: right;\">   42</td><td style=\"text-align: right;\">   36</td><td style=\"text-align: right;\">   40</td><td style=\"text-align: right;\">   36</td><td style=\"text-align: right;\">   44</td><td style=\"text-align: right;\">   39</td><td style=\"text-align: right;\">   43</td><td style=\"text-align: right;\">   36</td><td style=\"text-align: right;\">   40</td><td style=\"text-align: right;\">   41</td><td style=\"text-align: right;\">   37</td><td style=\"text-align: right;\">   33</td><td style=\"text-align: right;\">   37</td><td style=\"text-align: right;\">   49</td><td style=\"text-align: right;\">   43</td><td style=\"text-align: right;\">   37</td><td style=\"text-align: right;\">   44</td><td style=\"text-align: right;\">   33</td><td style=\"text-align: right;\">   61</td><td style=\"text-align: right;\">     45</td><td style=\"text-align: right;\">     38</td><td style=\"text-align: right;\">     44</td><td style=\"text-align: right;\">     32</td><td style=\"text-align: right;\">     49</td><td style=\"text-align: right;\">   0</td><td style=\"text-align: right;\">     25</td><td style=\"text-align: right;\">  10</td><td style=\"text-align: right;\">  17</td><td style=\"text-align: right;\">  15</td><td style=\"text-align: right;\">  17</td><td style=\"text-align: right;\">   6</td><td style=\"text-align: right;\">   3</td><td style=\"text-align: right;\">  10</td><td style=\"text-align: right;\">  14</td><td style=\"text-align: right;\">  14</td><td style=\"text-align: right;\">   17</td><td style=\"text-align: right;\">   13</td><td style=\"text-align: right;\">   11</td><td style=\"text-align: right;\">   17</td><td style=\"text-align: right;\">   13</td><td style=\"text-align: right;\">   16</td><td style=\"text-align: right;\">    52</td><td style=\"text-align: right;\">    64</td><td style=\"text-align: right;\">    53</td><td style=\"text-align: right;\">    66</td><td style=\"text-align: right;\">    39</td><td style=\"text-align: right;\">    34</td><td style=\"text-align: right;\">    55</td><td style=\"text-align: right;\">    60</td><td style=\"text-align: right;\">    52</td><td style=\"text-align: right;\">     60</td><td style=\"text-align: right;\">     58</td><td style=\"text-align: right;\">     52</td><td style=\"text-align: right;\">     63</td><td style=\"text-align: right;\">     58</td><td style=\"text-align: right;\">     57</td><td style=\"text-align: right;\">    50</td><td style=\"text-align: right;\">    63</td><td style=\"text-align: right;\">    56</td><td style=\"text-align: right;\">    65</td><td style=\"text-align: right;\">    30</td><td style=\"text-align: right;\">    28</td><td style=\"text-align: right;\">    53</td><td style=\"text-align: right;\">    58</td><td style=\"text-align: right;\">    53</td><td style=\"text-align: right;\">     64</td><td style=\"text-align: right;\">     60</td><td style=\"text-align: right;\">     61</td><td style=\"text-align: right;\">     62</td><td style=\"text-align: right;\">     56</td><td style=\"text-align: right;\">     54</td><td style=\"text-align: right;\">    51</td><td style=\"text-align: right;\">    63</td><td style=\"text-align: right;\">    55</td><td style=\"text-align: right;\">    65</td><td style=\"text-align: right;\">    36</td><td style=\"text-align: right;\">    31</td><td style=\"text-align: right;\">    54</td><td style=\"text-align: right;\">    59</td><td style=\"text-align: right;\">    52</td><td style=\"text-align: right;\">     62</td><td style=\"text-align: right;\">     59</td><td style=\"text-align: right;\">     56</td><td style=\"text-align: right;\">     62</td><td style=\"text-align: right;\">     57</td><td style=\"text-align: right;\">     56</td><td style=\"text-align: right;\">    58</td><td style=\"text-align: right;\">    92</td><td style=\"text-align: right;\">    62</td><td style=\"text-align: right;\">    95</td><td style=\"text-align: right;\">    14</td><td style=\"text-align: right;\">     5</td><td style=\"text-align: right;\">    69</td><td style=\"text-align: right;\">    84</td><td style=\"text-align: right;\">    58</td><td style=\"text-align: right;\">     84</td><td style=\"text-align: right;\">     79</td><td style=\"text-align: right;\">     58</td><td style=\"text-align: right;\">     90</td><td style=\"text-align: right;\">     79</td><td style=\"text-align: right;\">     76</td><td style=\"text-align: right;\">    50</td><td style=\"text-align: right;\">    90</td><td style=\"text-align: right;\">    73</td><td style=\"text-align: right;\">    93</td><td style=\"text-align: right;\">     2</td><td style=\"text-align: right;\">     1</td><td style=\"text-align: right;\">    62</td><td style=\"text-align: right;\">    79</td><td style=\"text-align: right;\">    62</td><td style=\"text-align: right;\">     92</td><td style=\"text-align: right;\">     84</td><td style=\"text-align: right;\">     86</td><td style=\"text-align: right;\">     88</td><td style=\"text-align: right;\">     73</td><td style=\"text-align: right;\">     66</td><td style=\"text-align: right;\">    54</td><td style=\"text-align: right;\">    90</td><td style=\"text-align: right;\">    69</td><td style=\"text-align: right;\">    93</td><td style=\"text-align: right;\">     8</td><td style=\"text-align: right;\">     3</td><td style=\"text-align: right;\">    66</td><td style=\"text-align: right;\">    82</td><td style=\"text-align: right;\">    58</td><td style=\"text-align: right;\">     88</td><td style=\"text-align: right;\">     82</td><td style=\"text-align: right;\">     73</td><td style=\"text-align: right;\">     88</td><td style=\"text-align: right;\">     76</td><td style=\"text-align: right;\">     73</td><td style=\"text-align: right;\">    59</td><td style=\"text-align: right;\">    19</td><td style=\"text-align: right;\">    45</td><td style=\"text-align: right;\">    24</td><td style=\"text-align: right;\">    46</td><td style=\"text-align: right;\">    61</td><td style=\"text-align: right;\">    40</td><td style=\"text-align: right;\">    59</td><td style=\"text-align: right;\">    56</td><td style=\"text-align: right;\">    63</td><td style=\"text-align: right;\">    62</td><td style=\"text-align: right;\">    34</td><td style=\"text-align: right;\">    61</td><td style=\"text-align: right;\">    63</td><td style=\"text-align: right;\">    60</td><td style=\"text-align: right;\">    61</td><td style=\"text-align: right;\">    37</td><td style=\"text-align: right;\">    60</td><td style=\"text-align: right;\">    59</td><td style=\"text-align: right;\">    61</td><td style=\"text-align: right;\">    86</td><td style=\"text-align: right;\">    16</td><td style=\"text-align: right;\">    82</td><td style=\"text-align: right;\">    73</td><td style=\"text-align: right;\">    90</td><td style=\"text-align: right;\">    88</td><td style=\"text-align: right;\">     5</td><td style=\"text-align: right;\">    86</td><td style=\"text-align: right;\">    90</td><td style=\"text-align: right;\">    84</td><td style=\"text-align: right;\">    86</td><td style=\"text-align: right;\">    10</td><td style=\"text-align: right;\">    84</td><td style=\"text-align: right;\">    82</td><td style=\"text-align: right;\">    86</td><td style=\"text-align: right;\">  0.71</td><td style=\"text-align: right;\">   18</td><td style=\"text-align: right;\">    0</td></tr>\n",
              "<tr><td style=\"text-align: right;\">   7</td><td>PVT   </td><td style=\"text-align: right;\">        0</td><td style=\"text-align: right;\">         0</td><td style=\"text-align: right;\">  nan</td><td style=\"text-align: right;\">        nan</td><td style=\"text-align: right;\">         0</td><td>Administrative     </td><td>11B  </td><td>M    </td><td style=\"text-align: right;\">       120</td><td style=\"text-align: right;\">     nan</td><td style=\"text-align: right;\">    nan</td><td>     </td><td style=\"text-align: right;\">     nan</td><td style=\"text-align: right;\">          0</td><td>                  </td><td style=\"text-align: right;\">          nan</td><td style=\"text-align: right;\">            nan</td><td style=\"text-align: right;\">         nan</td><td style=\"text-align: right;\">           nan</td><td style=\"text-align: right;\">         nan</td><td style=\"text-align: right;\"> nan</td><td style=\"text-align: right;\"> nan</td><td style=\"text-align: right;\">      nan</td><td style=\"text-align: right;\"> nan</td><td style=\"text-align: right;\"> nan</td><td style=\"text-align: right;\">nan</td><td style=\"text-align: right;\">nan</td><td style=\"text-align: right;\"> nan</td><td style=\"text-align: right;\">     73</td><td style=\"text-align: right;\">     57</td><td style=\"text-align: right;\">  70</td><td style=\"text-align: right;\">   59</td><td style=\"text-align: right;\">  58</td><td style=\"text-align: right;\">    61</td><td style=\"text-align: right;\">   63</td><td style=\"text-align: right;\">  62</td><td style=\"text-align: right;\">  35</td><td style=\"text-align: right;\">   64</td><td style=\"text-align: right;\">   53</td><td style=\"text-align: right;\">   48</td><td style=\"text-align: right;\">   58</td><td style=\"text-align: right;\">   59</td><td style=\"text-align: right;\">   61</td><td style=\"text-align: right;\">   54</td><td style=\"text-align: right;\">   54</td><td style=\"text-align: right;\">   61</td><td style=\"text-align: right;\">   53</td><td style=\"text-align: right;\">   56</td><td style=\"text-align: right;\">   45</td><td style=\"text-align: right;\">   52</td><td style=\"text-align: right;\">   65</td><td style=\"text-align: right;\">   53</td><td style=\"text-align: right;\">   64</td><td style=\"text-align: right;\">   45</td><td style=\"text-align: right;\">   40</td><td style=\"text-align: right;\">   76</td><td style=\"text-align: right;\">   54</td><td style=\"text-align: right;\">   86</td><td style=\"text-align: right;\">   57</td><td style=\"text-align: right;\">   59</td><td style=\"text-align: right;\">   66</td><td style=\"text-align: right;\">   56</td><td style=\"text-align: right;\">   36</td><td style=\"text-align: right;\">   40</td><td style=\"text-align: right;\">   50</td><td style=\"text-align: right;\">   56</td><td style=\"text-align: right;\">   44</td><td style=\"text-align: right;\">   49</td><td style=\"text-align: right;\">   49</td><td style=\"text-align: right;\">   75</td><td style=\"text-align: right;\">   52</td><td style=\"text-align: right;\">   78</td><td style=\"text-align: right;\">   39</td><td style=\"text-align: right;\">   65</td><td style=\"text-align: right;\">     47</td><td style=\"text-align: right;\">     56</td><td style=\"text-align: right;\">     54</td><td style=\"text-align: right;\">     59</td><td style=\"text-align: right;\">     67</td><td style=\"text-align: right;\">   0</td><td style=\"text-align: right;\">     38</td><td style=\"text-align: right;\"> nan</td><td style=\"text-align: right;\"> nan</td><td style=\"text-align: right;\"> nan</td><td style=\"text-align: right;\"> nan</td><td style=\"text-align: right;\"> nan</td><td style=\"text-align: right;\"> nan</td><td style=\"text-align: right;\"> nan</td><td style=\"text-align: right;\"> nan</td><td style=\"text-align: right;\"> nan</td><td style=\"text-align: right;\">  nan</td><td style=\"text-align: right;\">  nan</td><td style=\"text-align: right;\">  nan</td><td style=\"text-align: right;\">  nan</td><td style=\"text-align: right;\">  nan</td><td style=\"text-align: right;\">  nan</td><td style=\"text-align: right;\">   nan</td><td style=\"text-align: right;\">   nan</td><td style=\"text-align: right;\">   nan</td><td style=\"text-align: right;\">   nan</td><td style=\"text-align: right;\">   nan</td><td style=\"text-align: right;\">   nan</td><td style=\"text-align: right;\">   nan</td><td style=\"text-align: right;\">   nan</td><td style=\"text-align: right;\">   nan</td><td style=\"text-align: right;\">    nan</td><td style=\"text-align: right;\">    nan</td><td style=\"text-align: right;\">    nan</td><td style=\"text-align: right;\">    nan</td><td style=\"text-align: right;\">    nan</td><td style=\"text-align: right;\">    nan</td><td style=\"text-align: right;\">   nan</td><td style=\"text-align: right;\">   nan</td><td style=\"text-align: right;\">   nan</td><td style=\"text-align: right;\">   nan</td><td style=\"text-align: right;\">   nan</td><td style=\"text-align: right;\">   nan</td><td style=\"text-align: right;\">   nan</td><td style=\"text-align: right;\">   nan</td><td style=\"text-align: right;\">   nan</td><td style=\"text-align: right;\">    nan</td><td style=\"text-align: right;\">    nan</td><td style=\"text-align: right;\">    nan</td><td style=\"text-align: right;\">    nan</td><td style=\"text-align: right;\">    nan</td><td style=\"text-align: right;\">    nan</td><td style=\"text-align: right;\">   nan</td><td style=\"text-align: right;\">   nan</td><td style=\"text-align: right;\">   nan</td><td style=\"text-align: right;\">   nan</td><td style=\"text-align: right;\">   nan</td><td style=\"text-align: right;\">   nan</td><td style=\"text-align: right;\">   nan</td><td style=\"text-align: right;\">   nan</td><td style=\"text-align: right;\">   nan</td><td style=\"text-align: right;\">    nan</td><td style=\"text-align: right;\">    nan</td><td style=\"text-align: right;\">    nan</td><td style=\"text-align: right;\">    nan</td><td style=\"text-align: right;\">    nan</td><td style=\"text-align: right;\">    nan</td><td style=\"text-align: right;\">   nan</td><td style=\"text-align: right;\">   nan</td><td style=\"text-align: right;\">   nan</td><td style=\"text-align: right;\">   nan</td><td style=\"text-align: right;\">   nan</td><td style=\"text-align: right;\">   nan</td><td style=\"text-align: right;\">   nan</td><td style=\"text-align: right;\">   nan</td><td style=\"text-align: right;\">   nan</td><td style=\"text-align: right;\">    nan</td><td style=\"text-align: right;\">    nan</td><td style=\"text-align: right;\">    nan</td><td style=\"text-align: right;\">    nan</td><td style=\"text-align: right;\">    nan</td><td style=\"text-align: right;\">    nan</td><td style=\"text-align: right;\">   nan</td><td style=\"text-align: right;\">   nan</td><td style=\"text-align: right;\">   nan</td><td style=\"text-align: right;\">   nan</td><td style=\"text-align: right;\">   nan</td><td style=\"text-align: right;\">   nan</td><td style=\"text-align: right;\">   nan</td><td style=\"text-align: right;\">   nan</td><td style=\"text-align: right;\">   nan</td><td style=\"text-align: right;\">    nan</td><td style=\"text-align: right;\">    nan</td><td style=\"text-align: right;\">    nan</td><td style=\"text-align: right;\">    nan</td><td style=\"text-align: right;\">    nan</td><td style=\"text-align: right;\">    nan</td><td style=\"text-align: right;\">   nan</td><td style=\"text-align: right;\">   nan</td><td style=\"text-align: right;\">   nan</td><td style=\"text-align: right;\">   nan</td><td style=\"text-align: right;\">   nan</td><td style=\"text-align: right;\">   nan</td><td style=\"text-align: right;\">   nan</td><td style=\"text-align: right;\">   nan</td><td style=\"text-align: right;\">   nan</td><td style=\"text-align: right;\">    nan</td><td style=\"text-align: right;\">    nan</td><td style=\"text-align: right;\">    nan</td><td style=\"text-align: right;\">    nan</td><td style=\"text-align: right;\">    nan</td><td style=\"text-align: right;\">    nan</td><td style=\"text-align: right;\">   nan</td><td style=\"text-align: right;\">   nan</td><td style=\"text-align: right;\">   nan</td><td style=\"text-align: right;\">   nan</td><td style=\"text-align: right;\">   nan</td><td style=\"text-align: right;\">   nan</td><td style=\"text-align: right;\">   nan</td><td style=\"text-align: right;\">   nan</td><td style=\"text-align: right;\">   nan</td><td style=\"text-align: right;\">   nan</td><td style=\"text-align: right;\">   nan</td><td style=\"text-align: right;\">   nan</td><td style=\"text-align: right;\">   nan</td><td style=\"text-align: right;\">   nan</td><td style=\"text-align: right;\">   nan</td><td style=\"text-align: right;\">   nan</td><td style=\"text-align: right;\">   nan</td><td style=\"text-align: right;\">   nan</td><td style=\"text-align: right;\">   nan</td><td style=\"text-align: right;\">   nan</td><td style=\"text-align: right;\">   nan</td><td style=\"text-align: right;\">   nan</td><td style=\"text-align: right;\">   nan</td><td style=\"text-align: right;\">   nan</td><td style=\"text-align: right;\">   nan</td><td style=\"text-align: right;\">   nan</td><td style=\"text-align: right;\">   nan</td><td style=\"text-align: right;\">   nan</td><td style=\"text-align: right;\">   nan</td><td style=\"text-align: right;\">   nan</td><td style=\"text-align: right;\">   nan</td><td style=\"text-align: right;\">   nan</td><td style=\"text-align: right;\">   nan</td><td style=\"text-align: right;\">   nan</td><td style=\"text-align: right;\">   nan</td><td style=\"text-align: right;\">nan   </td><td style=\"text-align: right;\">  nan</td><td style=\"text-align: right;\">  nan</td></tr>\n",
              "<tr><td style=\"text-align: right;\">   8</td><td>PVT   </td><td style=\"text-align: right;\">        0</td><td style=\"text-align: right;\">         1</td><td style=\"text-align: right;\">   18</td><td style=\"text-align: right;\">         12</td><td style=\"text-align: right;\">         1</td><td>Graduated          </td><td>11B  </td><td>M    </td><td style=\"text-align: right;\">       114</td><td style=\"text-align: right;\">      58</td><td style=\"text-align: right;\">     86</td><td>13:30</td><td style=\"text-align: right;\">      11</td><td style=\"text-align: right;\">          0</td><td>                  </td><td style=\"text-align: right;\">           37</td><td style=\"text-align: right;\">             57</td><td style=\"text-align: right;\">          57</td><td style=\"text-align: right;\">            53</td><td style=\"text-align: right;\">          48</td><td style=\"text-align: right;\">  44</td><td style=\"text-align: right;\">  44</td><td style=\"text-align: right;\">       42</td><td style=\"text-align: right;\">  50</td><td style=\"text-align: right;\">  50</td><td style=\"text-align: right;\">101</td><td style=\"text-align: right;\"> 93</td><td style=\"text-align: right;\">  97</td><td style=\"text-align: right;\">     34</td><td style=\"text-align: right;\">     50</td><td style=\"text-align: right;\">  42</td><td style=\"text-align: right;\">   42</td><td style=\"text-align: right;\">  42</td><td style=\"text-align: right;\">    45</td><td style=\"text-align: right;\">   46</td><td style=\"text-align: right;\">  66</td><td style=\"text-align: right;\">  66</td><td style=\"text-align: right;\">   30</td><td style=\"text-align: right;\">   48</td><td style=\"text-align: right;\">   46</td><td style=\"text-align: right;\">   37</td><td style=\"text-align: right;\">   36</td><td style=\"text-align: right;\">   38</td><td style=\"text-align: right;\">   46</td><td style=\"text-align: right;\">   39</td><td style=\"text-align: right;\">   56</td><td style=\"text-align: right;\">   34</td><td style=\"text-align: right;\">   39</td><td style=\"text-align: right;\">   46</td><td style=\"text-align: right;\">   38</td><td style=\"text-align: right;\">   42</td><td style=\"text-align: right;\">   41</td><td style=\"text-align: right;\">   46</td><td style=\"text-align: right;\">   45</td><td style=\"text-align: right;\">   40</td><td style=\"text-align: right;\">   42</td><td style=\"text-align: right;\">   36</td><td style=\"text-align: right;\">   40</td><td style=\"text-align: right;\">   36</td><td style=\"text-align: right;\">   44</td><td style=\"text-align: right;\">   39</td><td style=\"text-align: right;\">   43</td><td style=\"text-align: right;\">   36</td><td style=\"text-align: right;\">   40</td><td style=\"text-align: right;\">   41</td><td style=\"text-align: right;\">   45</td><td style=\"text-align: right;\">   44</td><td style=\"text-align: right;\">   37</td><td style=\"text-align: right;\">   39</td><td style=\"text-align: right;\">   43</td><td style=\"text-align: right;\">   37</td><td style=\"text-align: right;\">   44</td><td style=\"text-align: right;\">   45</td><td style=\"text-align: right;\">   65</td><td style=\"text-align: right;\">     56</td><td style=\"text-align: right;\">     38</td><td style=\"text-align: right;\">     49</td><td style=\"text-align: right;\">     32</td><td style=\"text-align: right;\">     45</td><td style=\"text-align: right;\">   0</td><td style=\"text-align: right;\">     32</td><td style=\"text-align: right;\">  12</td><td style=\"text-align: right;\">  13</td><td style=\"text-align: right;\">  13</td><td style=\"text-align: right;\">  12</td><td style=\"text-align: right;\">   3</td><td style=\"text-align: right;\">   6</td><td style=\"text-align: right;\">   1</td><td style=\"text-align: right;\">  15</td><td style=\"text-align: right;\">  19</td><td style=\"text-align: right;\">   12</td><td style=\"text-align: right;\">    7</td><td style=\"text-align: right;\">    9</td><td style=\"text-align: right;\">   17</td><td style=\"text-align: right;\">    6</td><td style=\"text-align: right;\">   14</td><td style=\"text-align: right;\">    58</td><td style=\"text-align: right;\">    55</td><td style=\"text-align: right;\">    48</td><td style=\"text-align: right;\">    51</td><td style=\"text-align: right;\">    32</td><td style=\"text-align: right;\">    41</td><td style=\"text-align: right;\">    33</td><td style=\"text-align: right;\">    63</td><td style=\"text-align: right;\">    63</td><td style=\"text-align: right;\">     47</td><td style=\"text-align: right;\">     41</td><td style=\"text-align: right;\">     48</td><td style=\"text-align: right;\">     63</td><td style=\"text-align: right;\">     40</td><td style=\"text-align: right;\">     52</td><td style=\"text-align: right;\">    56</td><td style=\"text-align: right;\">    54</td><td style=\"text-align: right;\">    52</td><td style=\"text-align: right;\">    50</td><td style=\"text-align: right;\">    22</td><td style=\"text-align: right;\">    35</td><td style=\"text-align: right;\">    31</td><td style=\"text-align: right;\">    61</td><td style=\"text-align: right;\">    63</td><td style=\"text-align: right;\">     51</td><td style=\"text-align: right;\">     43</td><td style=\"text-align: right;\">     56</td><td style=\"text-align: right;\">     62</td><td style=\"text-align: right;\">     39</td><td style=\"text-align: right;\">     47</td><td style=\"text-align: right;\">    57</td><td style=\"text-align: right;\">    54</td><td style=\"text-align: right;\">    50</td><td style=\"text-align: right;\">    50</td><td style=\"text-align: right;\">    29</td><td style=\"text-align: right;\">    38</td><td style=\"text-align: right;\">    32</td><td style=\"text-align: right;\">    61</td><td style=\"text-align: right;\">    63</td><td style=\"text-align: right;\">     49</td><td style=\"text-align: right;\">     42</td><td style=\"text-align: right;\">     52</td><td style=\"text-align: right;\">     62</td><td style=\"text-align: right;\">     40</td><td style=\"text-align: right;\">     50</td><td style=\"text-align: right;\">    79</td><td style=\"text-align: right;\">    69</td><td style=\"text-align: right;\">    42</td><td style=\"text-align: right;\">    54</td><td style=\"text-align: right;\">     4</td><td style=\"text-align: right;\">    18</td><td style=\"text-align: right;\">     4</td><td style=\"text-align: right;\">    90</td><td style=\"text-align: right;\">    90</td><td style=\"text-align: right;\">     38</td><td style=\"text-align: right;\">     18</td><td style=\"text-align: right;\">     42</td><td style=\"text-align: right;\">     90</td><td style=\"text-align: right;\">     16</td><td style=\"text-align: right;\">     58</td><td style=\"text-align: right;\">    73</td><td style=\"text-align: right;\">    66</td><td style=\"text-align: right;\">    58</td><td style=\"text-align: right;\">    50</td><td style=\"text-align: right;\">     0</td><td style=\"text-align: right;\">     7</td><td style=\"text-align: right;\">     3</td><td style=\"text-align: right;\">    86</td><td style=\"text-align: right;\">    90</td><td style=\"text-align: right;\">     54</td><td style=\"text-align: right;\">     24</td><td style=\"text-align: right;\">     73</td><td style=\"text-align: right;\">     88</td><td style=\"text-align: right;\">     14</td><td style=\"text-align: right;\">     38</td><td style=\"text-align: right;\">    76</td><td style=\"text-align: right;\">    66</td><td style=\"text-align: right;\">    50</td><td style=\"text-align: right;\">    50</td><td style=\"text-align: right;\">     2</td><td style=\"text-align: right;\">    12</td><td style=\"text-align: right;\">     4</td><td style=\"text-align: right;\">    86</td><td style=\"text-align: right;\">    90</td><td style=\"text-align: right;\">     46</td><td style=\"text-align: right;\">     21</td><td style=\"text-align: right;\">     58</td><td style=\"text-align: right;\">     88</td><td style=\"text-align: right;\">     16</td><td style=\"text-align: right;\">     50</td><td style=\"text-align: right;\">    50</td><td style=\"text-align: right;\">    10</td><td style=\"text-align: right;\">    46</td><td style=\"text-align: right;\">    16</td><td style=\"text-align: right;\">    37</td><td style=\"text-align: right;\">    54</td><td style=\"text-align: right;\">    31</td><td style=\"text-align: right;\">    60</td><td style=\"text-align: right;\">    44</td><td style=\"text-align: right;\">    52</td><td style=\"text-align: right;\">    54</td><td style=\"text-align: right;\">    24</td><td style=\"text-align: right;\">    62</td><td style=\"text-align: right;\">    50</td><td style=\"text-align: right;\">    49</td><td style=\"text-align: right;\">    54</td><td style=\"text-align: right;\">    28</td><td style=\"text-align: right;\">    61</td><td style=\"text-align: right;\">    47</td><td style=\"text-align: right;\">    50</td><td style=\"text-align: right;\">    66</td><td style=\"text-align: right;\">     3</td><td style=\"text-align: right;\">    84</td><td style=\"text-align: right;\">    27</td><td style=\"text-align: right;\">    58</td><td style=\"text-align: right;\">    66</td><td style=\"text-align: right;\">     1</td><td style=\"text-align: right;\">    88</td><td style=\"text-align: right;\">    50</td><td style=\"text-align: right;\">    46</td><td style=\"text-align: right;\">    66</td><td style=\"text-align: right;\">     1</td><td style=\"text-align: right;\">    86</td><td style=\"text-align: right;\">    38</td><td style=\"text-align: right;\">    50</td><td style=\"text-align: right;\">  0.86</td><td style=\"text-align: right;\">   18</td><td style=\"text-align: right;\">    0</td></tr>\n",
              "<tr><td style=\"text-align: right;\">   9</td><td>PFC   </td><td style=\"text-align: right;\">        1</td><td style=\"text-align: right;\">         0</td><td style=\"text-align: right;\">   18</td><td style=\"text-align: right;\">         12</td><td style=\"text-align: right;\">         0</td><td>Medical            </td><td>35F  </td><td>M    </td><td style=\"text-align: right;\">       103</td><td style=\"text-align: right;\">     nan</td><td style=\"text-align: right;\">    nan</td><td>     </td><td style=\"text-align: right;\">     nan</td><td style=\"text-align: right;\">          0</td><td>                  </td><td style=\"text-align: right;\">           41</td><td style=\"text-align: right;\">             38</td><td style=\"text-align: right;\">          44</td><td style=\"text-align: right;\">            53</td><td style=\"text-align: right;\">          43</td><td style=\"text-align: right;\">  50</td><td style=\"text-align: right;\">  46</td><td style=\"text-align: right;\">       46</td><td style=\"text-align: right;\">  43</td><td style=\"text-align: right;\">  65</td><td style=\"text-align: right;\"> 91</td><td style=\"text-align: right;\">101</td><td style=\"text-align: right;\">  95</td><td style=\"text-align: right;\">     48</td><td style=\"text-align: right;\">     65</td><td style=\"text-align: right;\">  42</td><td style=\"text-align: right;\">   59</td><td style=\"text-align: right;\">  50</td><td style=\"text-align: right;\">    45</td><td style=\"text-align: right;\">   54</td><td style=\"text-align: right;\">  52</td><td style=\"text-align: right;\">  45</td><td style=\"text-align: right;\">   56</td><td style=\"text-align: right;\">   48</td><td style=\"text-align: right;\">   40</td><td style=\"text-align: right;\">   64</td><td style=\"text-align: right;\">   56</td><td style=\"text-align: right;\">   54</td><td style=\"text-align: right;\">   51</td><td style=\"text-align: right;\">   39</td><td style=\"text-align: right;\">   56</td><td style=\"text-align: right;\">   46</td><td style=\"text-align: right;\">   47</td><td style=\"text-align: right;\">   56</td><td style=\"text-align: right;\">   57</td><td style=\"text-align: right;\">   53</td><td style=\"text-align: right;\">   70</td><td style=\"text-align: right;\">   46</td><td style=\"text-align: right;\">   45</td><td style=\"text-align: right;\">   40</td><td style=\"text-align: right;\">   76</td><td style=\"text-align: right;\">   64</td><td style=\"text-align: right;\">   54</td><td style=\"text-align: right;\">   47</td><td style=\"text-align: right;\">   44</td><td style=\"text-align: right;\">   51</td><td style=\"text-align: right;\">   43</td><td style=\"text-align: right;\">   46</td><td style=\"text-align: right;\">   40</td><td style=\"text-align: right;\">   41</td><td style=\"text-align: right;\">   51</td><td style=\"text-align: right;\">   53</td><td style=\"text-align: right;\">   37</td><td style=\"text-align: right;\">   46</td><td style=\"text-align: right;\">   47</td><td style=\"text-align: right;\">   37</td><td style=\"text-align: right;\">   44</td><td style=\"text-align: right;\">   39</td><td style=\"text-align: right;\">   65</td><td style=\"text-align: right;\">     53</td><td style=\"text-align: right;\">     52</td><td style=\"text-align: right;\">     47</td><td style=\"text-align: right;\">     56</td><td style=\"text-align: right;\">     47</td><td style=\"text-align: right;\">   0</td><td style=\"text-align: right;\">     38</td><td style=\"text-align: right;\">  11</td><td style=\"text-align: right;\">   7</td><td style=\"text-align: right;\">  10</td><td style=\"text-align: right;\">  12</td><td style=\"text-align: right;\">  12</td><td style=\"text-align: right;\">   9</td><td style=\"text-align: right;\">  14</td><td style=\"text-align: right;\">  12</td><td style=\"text-align: right;\">  11</td><td style=\"text-align: right;\">   11</td><td style=\"text-align: right;\">   10</td><td style=\"text-align: right;\">    4</td><td style=\"text-align: right;\">   17</td><td style=\"text-align: right;\">   11</td><td style=\"text-align: right;\">   13</td><td style=\"text-align: right;\">    55</td><td style=\"text-align: right;\">    42</td><td style=\"text-align: right;\">    42</td><td style=\"text-align: right;\">    51</td><td style=\"text-align: right;\">    54</td><td style=\"text-align: right;\">    47</td><td style=\"text-align: right;\">    65</td><td style=\"text-align: right;\">    56</td><td style=\"text-align: right;\">    45</td><td style=\"text-align: right;\">     45</td><td style=\"text-align: right;\">     50</td><td style=\"text-align: right;\">     37</td><td style=\"text-align: right;\">     63</td><td style=\"text-align: right;\">     53</td><td style=\"text-align: right;\">     49</td><td style=\"text-align: right;\">    53</td><td style=\"text-align: right;\">    41</td><td style=\"text-align: right;\">    46</td><td style=\"text-align: right;\">    50</td><td style=\"text-align: right;\">    45</td><td style=\"text-align: right;\">    42</td><td style=\"text-align: right;\">    63</td><td style=\"text-align: right;\">    54</td><td style=\"text-align: right;\">    47</td><td style=\"text-align: right;\">     48</td><td style=\"text-align: right;\">     51</td><td style=\"text-align: right;\">     43</td><td style=\"text-align: right;\">     62</td><td style=\"text-align: right;\">     51</td><td style=\"text-align: right;\">     44</td><td style=\"text-align: right;\">    54</td><td style=\"text-align: right;\">    41</td><td style=\"text-align: right;\">    44</td><td style=\"text-align: right;\">    50</td><td style=\"text-align: right;\">    50</td><td style=\"text-align: right;\">    45</td><td style=\"text-align: right;\">    64</td><td style=\"text-align: right;\">    55</td><td style=\"text-align: right;\">    46</td><td style=\"text-align: right;\">     47</td><td style=\"text-align: right;\">     51</td><td style=\"text-align: right;\">     41</td><td style=\"text-align: right;\">     62</td><td style=\"text-align: right;\">     52</td><td style=\"text-align: right;\">     47</td><td style=\"text-align: right;\">    69</td><td style=\"text-align: right;\">    21</td><td style=\"text-align: right;\">    21</td><td style=\"text-align: right;\">    54</td><td style=\"text-align: right;\">    66</td><td style=\"text-align: right;\">    38</td><td style=\"text-align: right;\">    93</td><td style=\"text-align: right;\">    73</td><td style=\"text-align: right;\">    31</td><td style=\"text-align: right;\">     31</td><td style=\"text-align: right;\">     50</td><td style=\"text-align: right;\">     10</td><td style=\"text-align: right;\">     90</td><td style=\"text-align: right;\">     62</td><td style=\"text-align: right;\">     46</td><td style=\"text-align: right;\">    62</td><td style=\"text-align: right;\">    18</td><td style=\"text-align: right;\">    34</td><td style=\"text-align: right;\">    50</td><td style=\"text-align: right;\">    31</td><td style=\"text-align: right;\">    21</td><td style=\"text-align: right;\">    90</td><td style=\"text-align: right;\">    66</td><td style=\"text-align: right;\">    38</td><td style=\"text-align: right;\">     42</td><td style=\"text-align: right;\">     54</td><td style=\"text-align: right;\">     24</td><td style=\"text-align: right;\">     88</td><td style=\"text-align: right;\">     54</td><td style=\"text-align: right;\">     27</td><td style=\"text-align: right;\">    66</td><td style=\"text-align: right;\">    18</td><td style=\"text-align: right;\">    27</td><td style=\"text-align: right;\">    50</td><td style=\"text-align: right;\">    50</td><td style=\"text-align: right;\">    31</td><td style=\"text-align: right;\">    92</td><td style=\"text-align: right;\">    69</td><td style=\"text-align: right;\">    34</td><td style=\"text-align: right;\">     38</td><td style=\"text-align: right;\">     54</td><td style=\"text-align: right;\">     18</td><td style=\"text-align: right;\">     88</td><td style=\"text-align: right;\">     58</td><td style=\"text-align: right;\">     38</td><td style=\"text-align: right;\">    40</td><td style=\"text-align: right;\">    35</td><td style=\"text-align: right;\">    34</td><td style=\"text-align: right;\">    14</td><td style=\"text-align: right;\">    41</td><td style=\"text-align: right;\">    45</td><td style=\"text-align: right;\">    57</td><td style=\"text-align: right;\">    48</td><td style=\"text-align: right;\">    41</td><td style=\"text-align: right;\">    57</td><td style=\"text-align: right;\">    45</td><td style=\"text-align: right;\">    50</td><td style=\"text-align: right;\">    49</td><td style=\"text-align: right;\">    46</td><td style=\"text-align: right;\">    54</td><td style=\"text-align: right;\">    45</td><td style=\"text-align: right;\">    53</td><td style=\"text-align: right;\">    49</td><td style=\"text-align: right;\">    44</td><td style=\"text-align: right;\">    55</td><td style=\"text-align: right;\">    31</td><td style=\"text-align: right;\">    76</td><td style=\"text-align: right;\">    42</td><td style=\"text-align: right;\">    18</td><td style=\"text-align: right;\">    76</td><td style=\"text-align: right;\">    31</td><td style=\"text-align: right;\">    50</td><td style=\"text-align: right;\">    46</td><td style=\"text-align: right;\">    34</td><td style=\"text-align: right;\">    66</td><td style=\"text-align: right;\">    31</td><td style=\"text-align: right;\">    62</td><td style=\"text-align: right;\">    46</td><td style=\"text-align: right;\">    27</td><td style=\"text-align: right;\">    69</td><td style=\"text-align: right;\">  0.69</td><td style=\"text-align: right;\">   23</td><td style=\"text-align: right;\">    0</td></tr>\n",
              "<tr><td style=\"text-align: right;\">  10</td><td>PVT   </td><td style=\"text-align: right;\">        0</td><td style=\"text-align: right;\">         0</td><td style=\"text-align: right;\">   18</td><td style=\"text-align: right;\">         12</td><td style=\"text-align: right;\">         0</td><td>Voluntary Withdrawl</td><td>11B  </td><td>M    </td><td style=\"text-align: right;\">       124</td><td style=\"text-align: right;\">      59</td><td style=\"text-align: right;\">     58</td><td>15:34</td><td style=\"text-align: right;\">     nan</td><td style=\"text-align: right;\">          0</td><td>                  </td><td style=\"text-align: right;\">           62</td><td style=\"text-align: right;\">             59</td><td style=\"text-align: right;\">          69</td><td style=\"text-align: right;\">            64</td><td style=\"text-align: right;\">          55</td><td style=\"text-align: right;\">  52</td><td style=\"text-align: right;\">  42</td><td style=\"text-align: right;\">       43</td><td style=\"text-align: right;\">  53</td><td style=\"text-align: right;\">  56</td><td style=\"text-align: right;\">120</td><td style=\"text-align: right;\"> 99</td><td style=\"text-align: right;\"> 111</td><td style=\"text-align: right;\">     53</td><td style=\"text-align: right;\">     65</td><td style=\"text-align: right;\">  47</td><td style=\"text-align: right;\">   51</td><td style=\"text-align: right;\">  42</td><td style=\"text-align: right;\">    45</td><td style=\"text-align: right;\">   42</td><td style=\"text-align: right;\">  62</td><td style=\"text-align: right;\">  45</td><td style=\"text-align: right;\">   41</td><td style=\"text-align: right;\">   39</td><td style=\"text-align: right;\">   60</td><td style=\"text-align: right;\">   42</td><td style=\"text-align: right;\">   51</td><td style=\"text-align: right;\">   38</td><td style=\"text-align: right;\">   49</td><td style=\"text-align: right;\">   59</td><td style=\"text-align: right;\">   56</td><td style=\"text-align: right;\">   48</td><td style=\"text-align: right;\">   39</td><td style=\"text-align: right;\">   50</td><td style=\"text-align: right;\">   38</td><td style=\"text-align: right;\">   53</td><td style=\"text-align: right;\">   59</td><td style=\"text-align: right;\">   46</td><td style=\"text-align: right;\">   45</td><td style=\"text-align: right;\">   40</td><td style=\"text-align: right;\">   42</td><td style=\"text-align: right;\">   43</td><td style=\"text-align: right;\">   40</td><td style=\"text-align: right;\">   52</td><td style=\"text-align: right;\">   44</td><td style=\"text-align: right;\">   59</td><td style=\"text-align: right;\">   43</td><td style=\"text-align: right;\">   42</td><td style=\"text-align: right;\">   63</td><td style=\"text-align: right;\">   50</td><td style=\"text-align: right;\">   67</td><td style=\"text-align: right;\">   39</td><td style=\"text-align: right;\">   37</td><td style=\"text-align: right;\">   39</td><td style=\"text-align: right;\">   43</td><td style=\"text-align: right;\">   50</td><td style=\"text-align: right;\">   44</td><td style=\"text-align: right;\">   33</td><td style=\"text-align: right;\">   61</td><td style=\"text-align: right;\">     74</td><td style=\"text-align: right;\">     47</td><td style=\"text-align: right;\">     66</td><td style=\"text-align: right;\">     56</td><td style=\"text-align: right;\">     42</td><td style=\"text-align: right;\">   0</td><td style=\"text-align: right;\">     38</td><td style=\"text-align: right;\"> nan</td><td style=\"text-align: right;\"> nan</td><td style=\"text-align: right;\"> nan</td><td style=\"text-align: right;\"> nan</td><td style=\"text-align: right;\"> nan</td><td style=\"text-align: right;\"> nan</td><td style=\"text-align: right;\"> nan</td><td style=\"text-align: right;\"> nan</td><td style=\"text-align: right;\"> nan</td><td style=\"text-align: right;\">  nan</td><td style=\"text-align: right;\">  nan</td><td style=\"text-align: right;\">  nan</td><td style=\"text-align: right;\">  nan</td><td style=\"text-align: right;\">  nan</td><td style=\"text-align: right;\">  nan</td><td style=\"text-align: right;\">   nan</td><td style=\"text-align: right;\">   nan</td><td style=\"text-align: right;\">   nan</td><td style=\"text-align: right;\">   nan</td><td style=\"text-align: right;\">   nan</td><td style=\"text-align: right;\">   nan</td><td style=\"text-align: right;\">   nan</td><td style=\"text-align: right;\">   nan</td><td style=\"text-align: right;\">   nan</td><td style=\"text-align: right;\">    nan</td><td style=\"text-align: right;\">    nan</td><td style=\"text-align: right;\">    nan</td><td style=\"text-align: right;\">    nan</td><td style=\"text-align: right;\">    nan</td><td style=\"text-align: right;\">    nan</td><td style=\"text-align: right;\">   nan</td><td style=\"text-align: right;\">   nan</td><td style=\"text-align: right;\">   nan</td><td style=\"text-align: right;\">   nan</td><td style=\"text-align: right;\">   nan</td><td style=\"text-align: right;\">   nan</td><td style=\"text-align: right;\">   nan</td><td style=\"text-align: right;\">   nan</td><td style=\"text-align: right;\">   nan</td><td style=\"text-align: right;\">    nan</td><td style=\"text-align: right;\">    nan</td><td style=\"text-align: right;\">    nan</td><td style=\"text-align: right;\">    nan</td><td style=\"text-align: right;\">    nan</td><td style=\"text-align: right;\">    nan</td><td style=\"text-align: right;\">   nan</td><td style=\"text-align: right;\">   nan</td><td style=\"text-align: right;\">   nan</td><td style=\"text-align: right;\">   nan</td><td style=\"text-align: right;\">   nan</td><td style=\"text-align: right;\">   nan</td><td style=\"text-align: right;\">   nan</td><td style=\"text-align: right;\">   nan</td><td style=\"text-align: right;\">   nan</td><td style=\"text-align: right;\">    nan</td><td style=\"text-align: right;\">    nan</td><td style=\"text-align: right;\">    nan</td><td style=\"text-align: right;\">    nan</td><td style=\"text-align: right;\">    nan</td><td style=\"text-align: right;\">    nan</td><td style=\"text-align: right;\">   nan</td><td style=\"text-align: right;\">   nan</td><td style=\"text-align: right;\">   nan</td><td style=\"text-align: right;\">   nan</td><td style=\"text-align: right;\">   nan</td><td style=\"text-align: right;\">   nan</td><td style=\"text-align: right;\">   nan</td><td style=\"text-align: right;\">   nan</td><td style=\"text-align: right;\">   nan</td><td style=\"text-align: right;\">    nan</td><td style=\"text-align: right;\">    nan</td><td style=\"text-align: right;\">    nan</td><td style=\"text-align: right;\">    nan</td><td style=\"text-align: right;\">    nan</td><td style=\"text-align: right;\">    nan</td><td style=\"text-align: right;\">   nan</td><td style=\"text-align: right;\">   nan</td><td style=\"text-align: right;\">   nan</td><td style=\"text-align: right;\">   nan</td><td style=\"text-align: right;\">   nan</td><td style=\"text-align: right;\">   nan</td><td style=\"text-align: right;\">   nan</td><td style=\"text-align: right;\">   nan</td><td style=\"text-align: right;\">   nan</td><td style=\"text-align: right;\">    nan</td><td style=\"text-align: right;\">    nan</td><td style=\"text-align: right;\">    nan</td><td style=\"text-align: right;\">    nan</td><td style=\"text-align: right;\">    nan</td><td style=\"text-align: right;\">    nan</td><td style=\"text-align: right;\">   nan</td><td style=\"text-align: right;\">   nan</td><td style=\"text-align: right;\">   nan</td><td style=\"text-align: right;\">   nan</td><td style=\"text-align: right;\">   nan</td><td style=\"text-align: right;\">   nan</td><td style=\"text-align: right;\">   nan</td><td style=\"text-align: right;\">   nan</td><td style=\"text-align: right;\">   nan</td><td style=\"text-align: right;\">    nan</td><td style=\"text-align: right;\">    nan</td><td style=\"text-align: right;\">    nan</td><td style=\"text-align: right;\">    nan</td><td style=\"text-align: right;\">    nan</td><td style=\"text-align: right;\">    nan</td><td style=\"text-align: right;\">   nan</td><td style=\"text-align: right;\">   nan</td><td style=\"text-align: right;\">   nan</td><td style=\"text-align: right;\">   nan</td><td style=\"text-align: right;\">   nan</td><td style=\"text-align: right;\">   nan</td><td style=\"text-align: right;\">   nan</td><td style=\"text-align: right;\">   nan</td><td style=\"text-align: right;\">   nan</td><td style=\"text-align: right;\">   nan</td><td style=\"text-align: right;\">   nan</td><td style=\"text-align: right;\">   nan</td><td style=\"text-align: right;\">   nan</td><td style=\"text-align: right;\">   nan</td><td style=\"text-align: right;\">   nan</td><td style=\"text-align: right;\">   nan</td><td style=\"text-align: right;\">   nan</td><td style=\"text-align: right;\">   nan</td><td style=\"text-align: right;\">   nan</td><td style=\"text-align: right;\">   nan</td><td style=\"text-align: right;\">   nan</td><td style=\"text-align: right;\">   nan</td><td style=\"text-align: right;\">   nan</td><td style=\"text-align: right;\">   nan</td><td style=\"text-align: right;\">   nan</td><td style=\"text-align: right;\">   nan</td><td style=\"text-align: right;\">   nan</td><td style=\"text-align: right;\">   nan</td><td style=\"text-align: right;\">   nan</td><td style=\"text-align: right;\">   nan</td><td style=\"text-align: right;\">   nan</td><td style=\"text-align: right;\">   nan</td><td style=\"text-align: right;\">   nan</td><td style=\"text-align: right;\">   nan</td><td style=\"text-align: right;\">   nan</td><td style=\"text-align: right;\">nan   </td><td style=\"text-align: right;\">  nan</td><td style=\"text-align: right;\">  nan</td></tr>\n",
              "</tbody>\n",
              "</table>"
            ]
          },
          "metadata": {
            "tags": []
          }
        },
        {
          "output_type": "execute_result",
          "data": {
            "text/plain": [
              ""
            ]
          },
          "metadata": {
            "tags": []
          },
          "execution_count": 26
        }
      ]
    },
    {
      "cell_type": "code",
      "metadata": {
        "id": "gLUtS1yR-oao",
        "outputId": "6593ca42-6b19-416d-8ef6-7bc928b7d068",
        "colab": {
          "base_uri": "https://localhost:8080/",
          "height": 575
        }
      },
      "source": [
        "df.describe()"
      ],
      "execution_count": null,
      "outputs": [
        {
          "output_type": "stream",
          "text": [
            "Rows:3879\n",
            "Cols:226\n",
            "\n",
            "\n"
          ],
          "name": "stdout"
        },
        {
          "output_type": "display_data",
          "data": {
            "text/html": [
              "<table>\n",
              "<thead>\n",
              "<tr><th>       </th><th>RN                </th><th>Rank  </th><th>Married            </th><th>Airborne           </th><th>Age               </th><th>Education         </th><th>Graduate           </th><th>Remarks            </th><th>MOS  </th><th>SEX  </th><th>GT Score          </th><th>Pushup            </th><th>Situp            </th><th>Run  </th><th>Chinup           </th><th>Sick Call         </th><th>Sick Call Reason  </th><th>Information      </th><th>Comprehension    </th><th>Arithmetic        </th><th>Similarities     </th><th>Vocabulary       </th><th>DS               </th><th>PC               </th><th>Spatial           </th><th>PA               </th><th>OA               </th><th>V                 </th><th>P                 </th><th>FS                </th><th>VRINr            </th><th>TRINr            </th><th>Fr               </th><th>Fpr               </th><th>Fs                </th><th>FBSr              </th><th>RBS              </th><th>Lr                </th><th>Kr               </th><th>EID              </th><th>THD              </th><th>BXD              </th><th>RCd              </th><th>RC1              </th><th>RC2              </th><th>RC3              </th><th>RC4              </th><th>RC6               </th><th>RC7              </th><th>RC8              </th><th>RC9              </th><th>MLS               </th><th>HPC              </th><th>NUC               </th><th>GIC              </th><th>SUI              </th><th>HLP              </th><th>SFD              </th><th>NFC               </th><th>COG              </th><th>STW              </th><th>AXY              </th><th>ANP              </th><th>BRF              </th><th>MSF               </th><th>JCP               </th><th>SUB               </th><th>AGG               </th><th>ACT               </th><th>FML              </th><th>IPP              </th><th>SAV              </th><th>SHY              </th><th>DSF               </th><th>AES              </th><th>MEC               </th><th>AGGRr             </th><th>PSYCr            </th><th>DISCr            </th><th>NEGEr            </th><th>INTRr             </th><th>CS                 </th><th>PCT T            </th><th>S1                </th><th>S2                </th><th>S3                </th><th>S4                </th><th>S5               </th><th>S6                </th><th>S7                </th><th>S8               </th><th>S9                </th><th>S10               </th><th>S11               </th><th>S12              </th><th>S13               </th><th>S14               </th><th>S15               </th><th>MTS1              </th><th>MTS2             </th><th>MTS3              </th><th>MTS4              </th><th>MTS5             </th><th>MTS6             </th><th>MTS7             </th><th>MTS8             </th><th>MTS9             </th><th>MTS10             </th><th>MTS11            </th><th>MTS12            </th><th>MTS13            </th><th>MTS14             </th><th>MTS15            </th><th>FTS1              </th><th>FTS2             </th><th>FTS3             </th><th>FTS4             </th><th>FTS5             </th><th>FTS6              </th><th>FTS7             </th><th>FTS8              </th><th>FTS9              </th><th>FTS10             </th><th>FTS11             </th><th>FTS12             </th><th>FTS13            </th><th>FTS14            </th><th>FTS15            </th><th>TSC1              </th><th>TSC2             </th><th>TSC3             </th><th>TSC4              </th><th>TSC5              </th><th>TSC6              </th><th>TSC7             </th><th>TSC8             </th><th>TSC9              </th><th>TSC10            </th><th>TSC11            </th><th>TSC12            </th><th>TSC13           </th><th>TSC14            </th><th>TSC15             </th><th>MPC1              </th><th>MPC2             </th><th>MPC3             </th><th>MPC4              </th><th>MPC5              </th><th>MPC6              </th><th>MPC7              </th><th>MPC8             </th><th>MPC9              </th><th>MPC10            </th><th>MPC11            </th><th>MPC12             </th><th>MPC13            </th><th>MPC14            </th><th>MPC15             </th><th>FPC1              </th><th>FPC2              </th><th>FPC3              </th><th>FPC4             </th><th>FPC5              </th><th>FPC6             </th><th>FPC7              </th><th>FPC8              </th><th>FPC9              </th><th>FPC10             </th><th>FPC11             </th><th>FPC12             </th><th>FPC13            </th><th>FPC14             </th><th>FPC15            </th><th>PCT1              </th><th>PCT2              </th><th>PCT3              </th><th>PCT4              </th><th>PCT5             </th><th>PCT6              </th><th>PCT7              </th><th>PCT8              </th><th>PCT9              </th><th>PCT10             </th><th>PCT11             </th><th>PCT12             </th><th>PCT13            </th><th>PCT14             </th><th>PCT15             </th><th>RCL1              </th><th>RCL2              </th><th>RCL3             </th><th>RCL4             </th><th>RCL5             </th><th>MCL1             </th><th>MCL2             </th><th>MCL3             </th><th>MCL4              </th><th>MCL5             </th><th>FCL1             </th><th>FCL2             </th><th>FCL3             </th><th>FCL4             </th><th>FCL5             </th><th>BCL1             </th><th>BCL2              </th><th>BCL3             </th><th>BCL4             </th><th>BCL5              </th><th>MCP1              </th><th>MCP2              </th><th>MCP3              </th><th>MCP4             </th><th>MCP5              </th><th>FCP1              </th><th>FCP2              </th><th>FCP3              </th><th>FCP4              </th><th>FCP5             </th><th>BCP1              </th><th>BCP2              </th><th>BCP3             </th><th>BCP4              </th><th>BCP5              </th><th>RCI               </th><th>INF              </th><th>MIS                </th></tr>\n",
              "</thead>\n",
              "<tbody>\n",
              "<tr><td>type   </td><td>int               </td><td>enum  </td><td>int                </td><td>int                </td><td>int               </td><td>int               </td><td>int                </td><td>enum               </td><td>enum </td><td>enum </td><td>int               </td><td>int               </td><td>int              </td><td>enum </td><td>int              </td><td>int               </td><td>enum              </td><td>int              </td><td>int              </td><td>int               </td><td>int              </td><td>int              </td><td>int              </td><td>int              </td><td>int               </td><td>int              </td><td>int              </td><td>int               </td><td>int               </td><td>int               </td><td>int              </td><td>int              </td><td>int              </td><td>int               </td><td>int               </td><td>int               </td><td>int              </td><td>int               </td><td>int              </td><td>int              </td><td>int              </td><td>int              </td><td>int              </td><td>int              </td><td>int              </td><td>int              </td><td>int              </td><td>int               </td><td>int              </td><td>int              </td><td>int              </td><td>int               </td><td>int              </td><td>int               </td><td>int              </td><td>int              </td><td>int              </td><td>int              </td><td>int               </td><td>int              </td><td>int              </td><td>int              </td><td>int              </td><td>int              </td><td>int               </td><td>int               </td><td>int               </td><td>int               </td><td>int               </td><td>int              </td><td>int              </td><td>int              </td><td>int              </td><td>int               </td><td>int              </td><td>int               </td><td>int               </td><td>int              </td><td>int              </td><td>int              </td><td>int               </td><td>int                </td><td>int              </td><td>int               </td><td>int               </td><td>int               </td><td>int               </td><td>int              </td><td>int               </td><td>int               </td><td>int              </td><td>int               </td><td>int               </td><td>int               </td><td>int              </td><td>int               </td><td>int               </td><td>int               </td><td>int               </td><td>int              </td><td>int               </td><td>int               </td><td>int              </td><td>int              </td><td>int              </td><td>int              </td><td>int              </td><td>int               </td><td>int              </td><td>int              </td><td>int              </td><td>int               </td><td>int              </td><td>int               </td><td>int              </td><td>int              </td><td>int              </td><td>int              </td><td>int               </td><td>int              </td><td>int               </td><td>int               </td><td>int               </td><td>int               </td><td>int               </td><td>int              </td><td>int              </td><td>int              </td><td>int               </td><td>int              </td><td>int              </td><td>int               </td><td>int               </td><td>int               </td><td>int              </td><td>int              </td><td>int               </td><td>int              </td><td>int              </td><td>int              </td><td>int             </td><td>int              </td><td>int               </td><td>int               </td><td>int              </td><td>int              </td><td>int               </td><td>int               </td><td>int               </td><td>int               </td><td>int              </td><td>int               </td><td>int              </td><td>int              </td><td>int               </td><td>int              </td><td>int              </td><td>int               </td><td>int               </td><td>int               </td><td>int               </td><td>int              </td><td>int               </td><td>int              </td><td>int               </td><td>int               </td><td>int               </td><td>int               </td><td>int               </td><td>int               </td><td>int              </td><td>int               </td><td>int              </td><td>int               </td><td>int               </td><td>int               </td><td>int               </td><td>int              </td><td>int               </td><td>int               </td><td>int               </td><td>int               </td><td>int               </td><td>int               </td><td>int               </td><td>int              </td><td>int               </td><td>int               </td><td>int               </td><td>int               </td><td>int              </td><td>int              </td><td>int              </td><td>int              </td><td>int              </td><td>int              </td><td>int               </td><td>int              </td><td>int              </td><td>int              </td><td>int              </td><td>int              </td><td>int              </td><td>int              </td><td>int               </td><td>int              </td><td>int              </td><td>int               </td><td>int               </td><td>int               </td><td>int               </td><td>int              </td><td>int               </td><td>int               </td><td>int               </td><td>int               </td><td>int               </td><td>int              </td><td>int               </td><td>int               </td><td>int              </td><td>int               </td><td>int               </td><td>real              </td><td>int              </td><td>int                </td></tr>\n",
              "<tr><td>mins   </td><td>1.0               </td><td>      </td><td>0.0                </td><td>0.0                </td><td>0.0               </td><td>0.0               </td><td>0.0                </td><td>                   </td><td>     </td><td>     </td><td>0.0               </td><td>19.0              </td><td>0.0              </td><td>     </td><td>0.0              </td><td>0.0               </td><td>                  </td><td>0.0              </td><td>0.0              </td><td>0.0               </td><td>0.0              </td><td>0.0              </td><td>0.0              </td><td>0.0              </td><td>0.0               </td><td>0.0              </td><td>0.0              </td><td>0.0               </td><td>0.0               </td><td>0.0               </td><td>34.0             </td><td>50.0             </td><td>42.0             </td><td>42.0              </td><td>42.0              </td><td>26.0              </td><td>29.0             </td><td>37.0              </td><td>24.0             </td><td>30.0             </td><td>39.0             </td><td>32.0             </td><td>37.0             </td><td>36.0             </td><td>34.0             </td><td>34.0             </td><td>34.0             </td><td>43.0              </td><td>34.0             </td><td>39.0             </td><td>25.0             </td><td>38.0              </td><td>42.0             </td><td>41.0              </td><td>46.0             </td><td>45.0             </td><td>40.0             </td><td>42.0             </td><td>36.0              </td><td>40.0             </td><td>36.0             </td><td>44.0             </td><td>39.0             </td><td>43.0             </td><td>36.0              </td><td>40.0              </td><td>41.0              </td><td>37.0              </td><td>33.0              </td><td>37.0             </td><td>34.0             </td><td>36.0             </td><td>37.0             </td><td>44.0              </td><td>33.0             </td><td>38.0              </td><td>28.0              </td><td>38.0             </td><td>38.0             </td><td>32.0             </td><td>32.0              </td><td>0.0                </td><td>12.0             </td><td>0.0               </td><td>0.0               </td><td>0.0               </td><td>1.0               </td><td>0.0              </td><td>0.0               </td><td>0.0               </td><td>0.0              </td><td>0.0               </td><td>0.0               </td><td>1.0               </td><td>0.0              </td><td>2.0               </td><td>1.0               </td><td>2.0               </td><td>22.0              </td><td>26.0             </td><td>19.0              </td><td>19.0              </td><td>25.0             </td><td>27.0             </td><td>30.0             </td><td>29.0             </td><td>20.0             </td><td>17.0              </td><td>25.0             </td><td>29.0             </td><td>24.0             </td><td>28.0              </td><td>17.0             </td><td>20.0              </td><td>25.0             </td><td>25.0             </td><td>16.0             </td><td>14.0             </td><td>20.0              </td><td>29.0             </td><td>26.0              </td><td>25.0              </td><td>18.0              </td><td>26.0              </td><td>34.0              </td><td>22.0             </td><td>26.0             </td><td>7.0              </td><td>22.0              </td><td>26.0             </td><td>23.0             </td><td>17.0              </td><td>22.0              </td><td>25.0              </td><td>30.0             </td><td>27.0             </td><td>23.0              </td><td>18.0             </td><td>26.0             </td><td>32.0             </td><td>23.0            </td><td>27.0             </td><td>13.0              </td><td>0.0               </td><td>1.0              </td><td>0.0              </td><td>0.0               </td><td>1.0               </td><td>1.0               </td><td>2.0               </td><td>2.0              </td><td>0.0               </td><td>0.0              </td><td>1.0              </td><td>2.0               </td><td>1.0              </td><td>1.0              </td><td>0.0               </td><td>0.0               </td><td>1.0               </td><td>1.0               </td><td>0.0              </td><td>0.0               </td><td>0.0              </td><td>2.0               </td><td>1.0               </td><td>1.0               </td><td>0.0               </td><td>1.0               </td><td>5.0               </td><td>0.0              </td><td>1.0               </td><td>0.0              </td><td>0.0               </td><td>1.0               </td><td>0.0               </td><td>0.0               </td><td>0.0              </td><td>1.0               </td><td>2.0               </td><td>1.0               </td><td>0.0               </td><td>0.0               </td><td>1.0               </td><td>4.0               </td><td>0.0              </td><td>1.0               </td><td>0.0               </td><td>11.0              </td><td>1.0               </td><td>5.0              </td><td>2.0              </td><td>8.0              </td><td>21.0             </td><td>21.0             </td><td>19.0             </td><td>23.0              </td><td>17.0             </td><td>21.0             </td><td>15.0             </td><td>19.0             </td><td>26.0             </td><td>12.0             </td><td>21.0             </td><td>19.0              </td><td>19.0             </td><td>25.0             </td><td>15.0              </td><td>0.0               </td><td>0.0               </td><td>0.0               </td><td>0.0              </td><td>0.0               </td><td>0.0               </td><td>0.0               </td><td>0.0               </td><td>1.0               </td><td>0.0              </td><td>0.0               </td><td>0.0               </td><td>0.0              </td><td>1.0               </td><td>0.0               </td><td>-0.64             </td><td>8.0              </td><td>0.0                </td></tr>\n",
              "<tr><td>mean   </td><td>1940.0            </td><td>      </td><td>0.08404227893787058</td><td>0.37380768239236917</td><td>21.012896292316043</td><td>12.653143471252031</td><td>0.33410672853828305</td><td>                   </td><td>     </td><td>     </td><td>115.23136445705454</td><td>60.72472737989977 </td><td>72.02829354553499</td><td>     </td><td>6.471400394477308</td><td>0.2059809229182779</td><td>                  </td><td>51.57584803256451</td><td>50.29036635006782</td><td>53.526458616010764</td><td>54.53649932157402</td><td>51.60298507462694</td><td>50.90203527815481</td><td>50.85725915875178</td><td>52.220352781546616</td><td>50.21573948439611</td><td>54.55929443690649</td><td>104.56119402985087</td><td>104.31831750339225</td><td>104.66431478968805</td><td>46.5947409126064 </td><td>55.47563805104423</td><td>47.32044341325082</td><td>48.916473317865396</td><td>48.025006444960134</td><td>44.302655323537046</td><td>49.63263727764887</td><td>58.851508120649676</td><td>55.97009538540855</td><td>41.20933230213966</td><td>47.48646558391349</td><td>50.31348285640621</td><td>44.70456303170919</td><td>46.89997422015998</td><td>43.84789894302654</td><td>51.30755349316843</td><td>48.43903067800974</td><td>50.279711265790056</td><td>42.94019077081718</td><td>48.03763856664079</td><td>49.89920082495487</td><td>43.83243103892756 </td><td>45.43258571796865</td><td>49.769786027326695</td><td>47.11420469193081</td><td>45.73085846867733</td><td>43.71951533900482</td><td>46.29569476669237</td><td>44.213199278164446</td><td>46.41196184583634</td><td>44.48569218870831</td><td>46.1410157257025 </td><td>45.73060067027576</td><td>45.58236658932724</td><td>40.943026553235306</td><td>49.32740397009532 </td><td>45.455271977313664</td><td>48.29131219386444 </td><td>48.17968548594999 </td><td>44.96287703016239</td><td>44.68239236916728</td><td>47.78783191544217</td><td>43.29749935550406</td><td>51.05955143078115 </td><td>41.09796339262701</td><td>63.532869296210166</td><td>55.525650940964184</td><td>46.23872131992783</td><td>55.17813869554003</td><td>43.27584428976551</td><td>47.073730342871954</td><td>0.32817736530033537</td><td>35.61429308565531</td><td>8.561234329797474 </td><td>10.459980713596895</td><td>11.908711025393767</td><td>11.790421086467354</td><td>7.951783992285436</td><td>7.295724847315972 </td><td>5.083895853423331 </td><td>9.260045001607176</td><td>13.70234651237545 </td><td>13.748633879781417</td><td>9.283831565413074 </td><td>9.96239151398263 </td><td>14.567984570877544</td><td>12.024750883960156</td><td>14.69495339119252 </td><td>47.683702989392415</td><td>49.25297332047574</td><td>45.915782706525285</td><td>50.37222757955644 </td><td>43.88621022179361</td><td>43.57602057216341</td><td>42.9556412729026 </td><td>49.70652523304405</td><td>51.03825136612022</td><td>51.633236901318014</td><td>47.57377049180328</td><td>50.19350691096098</td><td>56.68531018964968</td><td>55.267438122790125</td><td>53.67116682738659</td><td>45.683702989392415</td><td>48.25297332047574</td><td>49.92446158791397</td><td>48.92381870781099</td><td>34.7145612343299 </td><td>38.289296046287284</td><td>41.22822243651579</td><td>47.2719382835101  </td><td>52.40469302475099 </td><td>55.648023143683666</td><td>49.422050787528235</td><td>58.155576984892434</td><td>55.29283188685308</td><td>53.28961748633873</td><td>49.61909353905502</td><td>46.684024429443994</td><td>48.81035036965602</td><td>48.14914818386373</td><td>49.37126325940213 </td><td>40.255223400835746</td><td>41.248473159755754</td><td>42.10189649630341</td><td>48.40083574413368</td><td>51.817100610736055</td><td>53.55641272902609</td><td>48.57537769206039</td><td>53.67470266795248</td><td>55.9016393442622</td><td>54.19897139183547</td><td>52.084217293474715</td><td>42.46255223400833 </td><td>47.83927997428478</td><td>38.9672131147541 </td><td>51.68820315011258 </td><td>31.771777563484466</td><td>30.525875924140156</td><td>28.212793314046923</td><td>49.54001928640303</td><td>54.71648987463841 </td><td>56.12054001928645</td><td>42.26743812279014</td><td>50.68820315011249 </td><td>70.65927354548383</td><td>66.464480874317  </td><td>62.721311475409856</td><td>36.65895210543229 </td><td>44.99614271938279 </td><td>50.55351976856329 </td><td>47.74959819993574</td><td>13.55384120861458 </td><td>18.86242365798776</td><td>23.585985213757596</td><td>42.91513982642247 </td><td>58.68145290903244 </td><td>67.3889424622308  </td><td>47.686274509803866</td><td>70.83252973320471 </td><td>67.08228865316634</td><td>60.74059787849559 </td><td>50.70041787206684</td><td>39.617807778849226</td><td>46.63548698167801 </td><td>45.25168756027004 </td><td>48.8601735776278  </td><td>22.61202185792348</td><td>24.749276759884268</td><td>25.911925425908052</td><td>45.878174220508015</td><td>56.82642237222749 </td><td>61.905818064930926</td><td>45.387978142076435</td><td>60.685953069752486</td><td>68.63452266152395</td><td>63.59434265509469 </td><td>57.94278367084529 </td><td>42.72034715525555 </td><td>20.331404693024766</td><td>36.71102539376401</td><td>19.24622307939573</td><td>41.28768884603026</td><td>47.72227579556406</td><td>41.44326583092259</td><td>50.71102539376401</td><td>48.611057537769135</td><td>57.14496946319511</td><td>47.7579556412729 </td><td>35.06814529090321</td><td>52.20025715204111</td><td>55.2671166827385 </td><td>54.00032144005144</td><td>47.74509803921567</td><td>38.365477338476424</td><td>51.62809386049494</td><td>51.82288653166178</td><td>55.554162648666086</td><td>43.50337512054002 </td><td>24.859852137576308</td><td>53.037608486017355</td><td>45.83702989392477</td><td>71.78656380585026 </td><td>43.6351655416265  </td><td>12.463195114111222</td><td>57.190292510446746</td><td>64.25072324011558 </td><td>63.00353584056574</td><td>43.608807457409185</td><td>17.837672774027645</td><td>55.85374477659925</td><td>55.19639987142407 </td><td>67.54419800707153 </td><td>0.7355673416907743</td><td>19.03889424622311</td><td>0.39215686274509776</td></tr>\n",
              "<tr><td>maxs   </td><td>3879.0            </td><td>      </td><td>1.0                </td><td>1.0                </td><td>38.0              </td><td>19.0              </td><td>1.0                </td><td>                   </td><td>     </td><td>     </td><td>147.0             </td><td>104.0             </td><td>105.0            </td><td>     </td><td>22.0             </td><td>1.0               </td><td>                  </td><td>79.0             </td><td>73.0             </td><td>86.0              </td><td>73.0             </td><td>83.0             </td><td>75.0             </td><td>74.0             </td><td>74.0              </td><td>81.0             </td><td>71.0             </td><td>141.0             </td><td>141.0             </td><td>136.0             </td><td>106.0            </td><td>103.0            </td><td>120.0            </td><td>120.0             </td><td>120.0             </td><td>92.0              </td><td>118.0            </td><td>105.0             </td><td>72.0             </td><td>90.0             </td><td>100.0            </td><td>89.0             </td><td>86.0             </td><td>100.0            </td><td>88.0             </td><td>83.0             </td><td>90.0             </td><td>100.0             </td><td>94.0             </td><td>100.0            </td><td>88.0             </td><td>87.0              </td><td>85.0             </td><td>100.0             </td><td>96.0             </td><td>100.0            </td><td>88.0             </td><td>76.0             </td><td>80.0              </td><td>96.0             </td><td>81.0             </td><td>100.0            </td><td>80.0             </td><td>100.0            </td><td>71.0              </td><td>84.0              </td><td>85.0              </td><td>86.0              </td><td>83.0              </td><td>84.0             </td><td>81.0             </td><td>80.0             </td><td>75.0             </td><td>100.0             </td><td>73.0             </td><td>78.0              </td><td>88.0              </td><td>100.0            </td><td>88.0             </td><td>95.0             </td><td>90.0              </td><td>44.0               </td><td>68.0             </td><td>18.0              </td><td>20.0              </td><td>20.0              </td><td>20.0              </td><td>20.0             </td><td>20.0              </td><td>18.0              </td><td>20.0             </td><td>20.0              </td><td>20.0              </td><td>20.0              </td><td>20.0             </td><td>20.0              </td><td>20.0              </td><td>20.0              </td><td>76.0              </td><td>70.0             </td><td>64.0              </td><td>74.0              </td><td>73.0             </td><td>73.0             </td><td>75.0             </td><td>74.0             </td><td>65.0             </td><td>68.0              </td><td>77.0             </td><td>72.0             </td><td>71.0             </td><td>75.0              </td><td>69.0             </td><td>74.0              </td><td>69.0             </td><td>67.0             </td><td>74.0             </td><td>66.0             </td><td>69.0              </td><td>73.0             </td><td>72.0              </td><td>65.0              </td><td>73.0              </td><td>80.0              </td><td>83.0              </td><td>70.0             </td><td>73.0             </td><td>67.0             </td><td>75.0              </td><td>70.0             </td><td>65.0             </td><td>74.0              </td><td>68.0              </td><td>70.0              </td><td>74.0             </td><td>73.0             </td><td>65.0              </td><td>70.0             </td><td>78.0             </td><td>75.0             </td><td>70.0            </td><td>74.0             </td><td>68.0              </td><td>99.0              </td><td>98.0             </td><td>92.0             </td><td>99.0              </td><td>99.0              </td><td>99.0              </td><td>99.0              </td><td>99.0             </td><td>93.0              </td><td>96.0             </td><td>99.0             </td><td>99.0              </td><td>98.0             </td><td>99.0             </td><td>97.0              </td><td>99.0              </td><td>97.0              </td><td>96.0              </td><td>99.0             </td><td>95.0              </td><td>97.0             </td><td>99.0              </td><td>99.0              </td><td>93.0              </td><td>99.0              </td><td>99.0              </td><td>99.0              </td><td>98.0             </td><td>99.0              </td><td>96.0             </td><td>99.0              </td><td>98.0              </td><td>93.0              </td><td>99.0              </td><td>96.0             </td><td>98.0              </td><td>99.0              </td><td>99.0              </td><td>93.0              </td><td>98.0              </td><td>99.0              </td><td>99.0              </td><td>98.0             </td><td>99.0              </td><td>96.0              </td><td>74.0              </td><td>52.0              </td><td>59.0             </td><td>38.0             </td><td>57.0             </td><td>74.0             </td><td>75.0             </td><td>73.0             </td><td>77.0              </td><td>76.0             </td><td>74.0             </td><td>68.0             </td><td>75.0             </td><td>87.0             </td><td>74.0             </td><td>74.0             </td><td>71.0              </td><td>74.0             </td><td>81.0             </td><td>75.0              </td><td>99.0              </td><td>99.0              </td><td>99.0              </td><td>99.0             </td><td>99.0              </td><td>99.0              </td><td>96.0              </td><td>99.0              </td><td>99.0              </td><td>99.0             </td><td>99.0              </td><td>98.0              </td><td>99.0             </td><td>99.0              </td><td>99.0              </td><td>0.98              </td><td>38.0             </td><td>71.0               </td></tr>\n",
              "<tr><td>sigma  </td><td>1119.9151753592769</td><td>      </td><td>0.2774869808013488 </td><td>0.483875871300677  </td><td>3.3490555884576105</td><td>1.624126765673558 </td><td>0.4717380545525706 </td><td>                   </td><td>     </td><td>     </td><td>10.071051327471375</td><td>11.441799189071029</td><td>9.369216515120252</td><td>     </td><td>4.028916028551179</td><td>0.4044687340579013</td><td>                  </td><td>9.513862827749737</td><td>8.122823904789941</td><td>8.369465699995647 </td><td>7.675919819208278</td><td>8.084988421469326</td><td>8.333501106922645</td><td>8.247674602644903</td><td>8.813840684187506 </td><td>8.140752284015457</td><td>7.552356057618483</td><td>10.852698603472533</td><td>11.775653649966259</td><td>11.079195680456829</td><td>9.763275073116128</td><td>6.473563643741181</td><td>8.827361011851494</td><td>9.789598543761205 </td><td>8.997572510499786 </td><td>7.5501534818387   </td><td>8.394838478438649</td><td>11.122002278233115</td><td>9.122999559098634</td><td>8.442506804104749</td><td>8.74117899794703 </td><td>8.98814193379389 </td><td>7.864790700183592</td><td>8.464548373295118</td><td>8.7931982419026  </td><td>9.565739653135314</td><td>8.791776872533674</td><td>9.2978272106857   </td><td>8.003740169062858</td><td>9.346000856991934</td><td>10.12117897927511</td><td>7.3991253015669765</td><td>6.583774442644303</td><td>9.374003903381375 </td><td>4.685146206595107</td><td>4.349275583640289</td><td>6.808832065194143</td><td>8.052686201189212</td><td>7.627355767726285 </td><td>8.741866992660565</td><td>7.984948384334312</td><td>6.591793708899042</td><td>8.519816988128401</td><td>5.968013282158998</td><td>5.094223307413308 </td><td>10.126459259896123</td><td>6.841384053156267 </td><td>10.529543118919037</td><td>10.260176010324576</td><td>7.622079404856054</td><td>6.78165903578709 </td><td>9.67379751422159 </td><td>7.082667498347461</td><td>10.844215970522715</td><td>8.206005013732643</td><td>8.623366184017991 </td><td>9.770908575551882 </td><td>8.922665624738425</td><td>7.77752653946245 </td><td>8.142947454485142</td><td>9.135207426749632 </td><td>2.3631840902362464 </td><td>6.126670793328182</td><td>2.7508598398640207</td><td>4.125006775745881 </td><td>3.939742019530467 </td><td>3.355915952539184 </td><td>3.584477413459624</td><td>3.5595952089525382</td><td>3.1475557393886398</td><td>4.376002359908272</td><td>3.7906795864113763</td><td>3.408775873574934 </td><td>3.2150358535273473</td><td>4.205822017719983</td><td>3.2187838600977114</td><td>3.2376946952313075</td><td>2.7532798779367393</td><td>8.252579519592066 </td><td>9.149419007028193</td><td>8.870195317691167 </td><td>10.026507639966184</td><td>8.604936114608872</td><td>8.077354536814816</td><td>7.881107665626069</td><td>9.855304568971611</td><td>8.692134303031654</td><td>8.546760415660565 </td><td>8.943711431564827</td><td>9.179795877904928</td><td>8.381094148379951</td><td>7.996572647698253 </td><td>7.796045738228158</td><td>8.252579519592066 </td><td>9.149419007028193</td><td>8.065592206658028</td><td>10.47620094234956</td><td>9.368286970626727</td><td>8.68890029189108  </td><td>7.623072990807243</td><td>10.215522206862014</td><td>7.5813591728227525</td><td>9.178290920745027 </td><td>9.051671024352963 </td><td>10.508069181472319</td><td>8.458718179006633</td><td>7.955463948645734</td><td>9.23988324566379 </td><td>8.251598228006776 </td><td>9.074045293037472</td><td>8.370381007641337</td><td>10.067747857617551</td><td>8.305875823152302 </td><td>8.170784167137894 </td><td>7.692914408302205</td><td>9.946693254383867</td><td>8.14974266746029  </td><td>8.686683632392656</td><td>8.948550223543672</td><td>9.105787691656342</td><td>8.30851849771057</td><td>7.872330082967435</td><td>8.262843166407045 </td><td>25.781654207535517</td><td>28.26499340325237</td><td>25.37708321157571</td><td>29.391642823488812</td><td>24.97197118204858 </td><td>23.94978446417462 </td><td>23.288026889522136</td><td>29.59136903582564</td><td>27.016667143807776</td><td>26.32956963446114</td><td>27.20206330528803</td><td>28.358621848334817</td><td>24.49588737684038</td><td>24.41276763328148</td><td>24.382346791563066</td><td>25.051606851595402</td><td>28.107967961596003</td><td>25.573378685936667</td><td>30.20410704914043</td><td>18.095412820488754</td><td>20.45460126637618</td><td>21.64618104897318 </td><td>29.595773992853594</td><td>24.730569493450215</td><td>26.596154374848474</td><td>27.44776860258324 </td><td>27.162969804763083</td><td>25.36361252953066</td><td>25.196065012583038</td><td>27.04324742586549</td><td>25.522202511631146</td><td>28.018107616630957</td><td>25.817949890343577</td><td>29.301845115494526</td><td>21.52967525351251</td><td>22.20418572307179 </td><td>22.456172874784745</td><td>29.509804507441032</td><td>26.066698199234395</td><td>26.519333508603186</td><td>27.372896623784104</td><td>27.517969435418   </td><td>24.77768322377358</td><td>24.714850063136574</td><td>25.606330956349712</td><td>10.722946246897317</td><td>7.754623592513878 </td><td>8.978058495585714</td><td>5.894882873341286</td><td>6.807776867576876</td><td>9.00489410139223 </td><td>8.07249580732098 </td><td>8.978058495585714</td><td>8.841974209226354 </td><td>8.167530782966608</td><td>9.072709876377925</td><td>8.158824414056115</td><td>9.408832133710682</td><td>9.964648543253338</td><td>8.54898876475215 </td><td>9.047407522392104</td><td>7.840972695954158 </td><td>9.146867131804127</td><td>9.18287604036183 </td><td>8.244234536013073 </td><td>27.137376572808513</td><td>22.171698418975208</td><td>27.497808154727377</td><td>27.11794160631323</td><td>23.351709580049157</td><td>27.274517940807975</td><td>15.796347982842024</td><td>28.396080901376095</td><td>27.669445438814787</td><td>25.64735472157059</td><td>27.228466040491888</td><td>18.77775780072773 </td><td>27.6346539859631 </td><td>27.705322365142226</td><td>24.419245959677756</td><td>0.1920262355148846</td><td>3.797032764183792</td><td>3.3195110934446217 </td></tr>\n",
              "<tr><td>zeros  </td><td>0                 </td><td>      </td><td>3553               </td><td>2429               </td><td>3                 </td><td>14                </td><td>2583               </td><td>                   </td><td>     </td><td>     </td><td>2                 </td><td>0                 </td><td>1                </td><td>     </td><td>44               </td><td>3080              </td><td>                  </td><td>2                </td><td>2                </td><td>4                 </td><td>4                </td><td>4                </td><td>6                </td><td>4                </td><td>5                 </td><td>5                </td><td>5                </td><td>2                 </td><td>4                 </td><td>6                 </td><td>0                </td><td>0                </td><td>0                </td><td>0                 </td><td>0                 </td><td>0                 </td><td>0                </td><td>0                 </td><td>0                </td><td>0                </td><td>0                </td><td>0                </td><td>0                </td><td>0                </td><td>0                </td><td>0                </td><td>0                </td><td>0                 </td><td>0                </td><td>0                </td><td>0                </td><td>0                 </td><td>0                </td><td>0                 </td><td>0                </td><td>0                </td><td>0                </td><td>0                </td><td>0                 </td><td>0                </td><td>0                </td><td>0                </td><td>0                </td><td>0                </td><td>0                 </td><td>0                 </td><td>0                 </td><td>0                 </td><td>0                 </td><td>0                </td><td>0                </td><td>0                </td><td>0                </td><td>0                 </td><td>0                </td><td>0                 </td><td>0                 </td><td>0                </td><td>0                </td><td>0                </td><td>0                 </td><td>3482               </td><td>0                </td><td>1                 </td><td>6                 </td><td>2                 </td><td>0                 </td><td>13               </td><td>19                </td><td>87                </td><td>36               </td><td>1                 </td><td>1                 </td><td>0                 </td><td>6                </td><td>0                 </td><td>0                 </td><td>0                 </td><td>0                 </td><td>0                </td><td>0                 </td><td>0                 </td><td>0                </td><td>0                </td><td>0                </td><td>0                </td><td>0                </td><td>0                 </td><td>0                </td><td>0                </td><td>0                </td><td>0                 </td><td>0                </td><td>0                 </td><td>0                </td><td>0                </td><td>0                </td><td>0                </td><td>0                 </td><td>0                </td><td>0                 </td><td>0                 </td><td>0                 </td><td>0                 </td><td>0                 </td><td>0                </td><td>0                </td><td>0                </td><td>0                 </td><td>0                </td><td>0                </td><td>0                 </td><td>0                 </td><td>0                 </td><td>0                </td><td>0                </td><td>0                 </td><td>0                </td><td>0                </td><td>0                </td><td>0               </td><td>0                </td><td>0                 </td><td>1                 </td><td>0                </td><td>17               </td><td>7                 </td><td>0                 </td><td>0                 </td><td>0                 </td><td>0                </td><td>5                 </td><td>8                </td><td>0                </td><td>0                 </td><td>0                </td><td>0                </td><td>4                 </td><td>2                 </td><td>0                 </td><td>0                 </td><td>28               </td><td>345               </td><td>97               </td><td>0                 </td><td>0                 </td><td>0                 </td><td>1                 </td><td>0                 </td><td>0                 </td><td>2                </td><td>0                 </td><td>27               </td><td>1                 </td><td>0                 </td><td>2                 </td><td>28                </td><td>13               </td><td>0                 </td><td>0                 </td><td>0                 </td><td>1                 </td><td>8                 </td><td>0                 </td><td>0                 </td><td>2                </td><td>0                 </td><td>12                </td><td>0                 </td><td>0                 </td><td>0                </td><td>0                </td><td>0                </td><td>0                </td><td>0                </td><td>0                </td><td>0                 </td><td>0                </td><td>0                </td><td>0                </td><td>0                </td><td>0                </td><td>0                </td><td>0                </td><td>0                 </td><td>0                </td><td>0                </td><td>0                 </td><td>9                 </td><td>6                 </td><td>11                </td><td>1                </td><td>2                 </td><td>13                </td><td>204               </td><td>11                </td><td>0                 </td><td>5                </td><td>9                 </td><td>33                </td><td>11               </td><td>0                 </td><td>3                 </td><td>0                 </td><td>0                </td><td>2727               </td></tr>\n",
              "<tr><td>missing</td><td>0                 </td><td>0     </td><td>0                  </td><td>0                  </td><td>157               </td><td>157               </td><td>0                  </td><td>0                  </td><td>0    </td><td>4    </td><td>2                 </td><td>486               </td><td>486              </td><td>487  </td><td>837              </td><td>0                 </td><td>3080              </td><td>194              </td><td>194              </td><td>194               </td><td>194              </td><td>194              </td><td>194              </td><td>194              </td><td>194               </td><td>194              </td><td>194              </td><td>194               </td><td>194               </td><td>194               </td><td>0                </td><td>0                </td><td>0                </td><td>0                 </td><td>0                 </td><td>0                 </td><td>0                </td><td>0                 </td><td>0                </td><td>0                </td><td>0                </td><td>0                </td><td>0                </td><td>0                </td><td>0                </td><td>0                </td><td>0                </td><td>0                 </td><td>0                </td><td>0                </td><td>0                </td><td>0                 </td><td>0                </td><td>0                 </td><td>0                </td><td>0                </td><td>0                </td><td>0                </td><td>0                 </td><td>0                </td><td>0                </td><td>0                </td><td>0                </td><td>0                </td><td>0                 </td><td>0                 </td><td>0                 </td><td>0                 </td><td>0                 </td><td>0                </td><td>0                </td><td>0                </td><td>0                </td><td>0                 </td><td>0                </td><td>0                 </td><td>0                 </td><td>0                </td><td>0                </td><td>0                </td><td>0                 </td><td>0                  </td><td>3                </td><td>768               </td><td>768               </td><td>768               </td><td>768               </td><td>768              </td><td>768               </td><td>768               </td><td>768              </td><td>768               </td><td>768               </td><td>768               </td><td>768              </td><td>768               </td><td>768               </td><td>768               </td><td>768               </td><td>768              </td><td>768               </td><td>768               </td><td>768              </td><td>768              </td><td>768              </td><td>768              </td><td>768              </td><td>768               </td><td>768              </td><td>768              </td><td>768              </td><td>768               </td><td>768              </td><td>768               </td><td>768              </td><td>768              </td><td>768              </td><td>768              </td><td>768               </td><td>768              </td><td>768               </td><td>768               </td><td>768               </td><td>768               </td><td>768               </td><td>768              </td><td>768              </td><td>768              </td><td>768               </td><td>768              </td><td>768              </td><td>768               </td><td>768               </td><td>768               </td><td>768              </td><td>768              </td><td>768               </td><td>768              </td><td>768              </td><td>768              </td><td>768             </td><td>768              </td><td>768               </td><td>768               </td><td>768              </td><td>768              </td><td>768               </td><td>768               </td><td>768               </td><td>768               </td><td>768              </td><td>768               </td><td>768              </td><td>768              </td><td>768               </td><td>768              </td><td>768              </td><td>768               </td><td>768               </td><td>768               </td><td>768               </td><td>768              </td><td>768               </td><td>768              </td><td>768               </td><td>768               </td><td>768               </td><td>768               </td><td>768               </td><td>768               </td><td>768              </td><td>768               </td><td>768              </td><td>768               </td><td>768               </td><td>768               </td><td>768               </td><td>768              </td><td>768               </td><td>768               </td><td>768               </td><td>768               </td><td>768               </td><td>768               </td><td>768               </td><td>768              </td><td>768               </td><td>768               </td><td>768               </td><td>768               </td><td>768              </td><td>768              </td><td>768              </td><td>768              </td><td>768              </td><td>768              </td><td>768               </td><td>768              </td><td>768              </td><td>768              </td><td>768              </td><td>768              </td><td>768              </td><td>768              </td><td>768               </td><td>768              </td><td>768              </td><td>768               </td><td>768               </td><td>768               </td><td>768               </td><td>768              </td><td>768               </td><td>768               </td><td>768               </td><td>768               </td><td>768               </td><td>768              </td><td>768               </td><td>768               </td><td>768              </td><td>768               </td><td>768               </td><td>768               </td><td>768              </td><td>768                </td></tr>\n",
              "<tr><td>0      </td><td>1.0               </td><td>PVT   </td><td>1.0                </td><td>0.0                </td><td>24.0              </td><td>12.0              </td><td>0.0                </td><td>Voluntary Withdrawl</td><td>11B  </td><td>M    </td><td>117.0             </td><td>50.0              </td><td>58.0             </td><td>0:00 </td><td>11.0             </td><td>0.0               </td><td>                  </td><td>45.0             </td><td>44.0             </td><td>58.0              </td><td>51.0             </td><td>43.0             </td><td>47.0             </td><td>53.0             </td><td>48.0              </td><td>37.0             </td><td>40.0             </td><td>98.0              </td><td>92.0              </td><td>95.0              </td><td>48.0             </td><td>57.0             </td><td>47.0             </td><td>42.0              </td><td>50.0              </td><td>51.0              </td><td>54.0             </td><td>42.0              </td><td>48.0             </td><td>45.0             </td><td>57.0             </td><td>55.0             </td><td>51.0             </td><td>61.0             </td><td>50.0             </td><td>61.0             </td><td>54.0             </td><td>56.0              </td><td>52.0             </td><td>56.0             </td><td>69.0             </td><td>46.0              </td><td>53.0             </td><td>41.0              </td><td>72.0             </td><td>45.0             </td><td>40.0             </td><td>42.0             </td><td>51.0              </td><td>64.0             </td><td>43.0             </td><td>44.0             </td><td>51.0             </td><td>56.0             </td><td>46.0              </td><td>57.0              </td><td>55.0              </td><td>56.0              </td><td>67.0              </td><td>37.0             </td><td>39.0             </td><td>50.0             </td><td>52.0             </td><td>58.0              </td><td>45.0             </td><td>65.0              </td><td>56.0              </td><td>56.0             </td><td>66.0             </td><td>45.0             </td><td>42.0              </td><td>0.0                </td><td>43.0             </td><td>nan               </td><td>nan               </td><td>nan               </td><td>nan               </td><td>nan              </td><td>nan               </td><td>nan               </td><td>nan              </td><td>nan               </td><td>nan               </td><td>nan               </td><td>nan              </td><td>nan               </td><td>nan               </td><td>nan               </td><td>nan               </td><td>nan              </td><td>nan               </td><td>nan               </td><td>nan              </td><td>nan              </td><td>nan              </td><td>nan              </td><td>nan              </td><td>nan               </td><td>nan              </td><td>nan              </td><td>nan              </td><td>nan               </td><td>nan              </td><td>nan               </td><td>nan              </td><td>nan              </td><td>nan              </td><td>nan              </td><td>nan               </td><td>nan              </td><td>nan               </td><td>nan               </td><td>nan               </td><td>nan               </td><td>nan               </td><td>nan              </td><td>nan              </td><td>nan              </td><td>nan               </td><td>nan              </td><td>nan              </td><td>nan               </td><td>nan               </td><td>nan               </td><td>nan              </td><td>nan              </td><td>nan               </td><td>nan              </td><td>nan              </td><td>nan              </td><td>nan             </td><td>nan              </td><td>nan               </td><td>nan               </td><td>nan              </td><td>nan              </td><td>nan               </td><td>nan               </td><td>nan               </td><td>nan               </td><td>nan              </td><td>nan               </td><td>nan              </td><td>nan              </td><td>nan               </td><td>nan              </td><td>nan              </td><td>nan               </td><td>nan               </td><td>nan               </td><td>nan               </td><td>nan              </td><td>nan               </td><td>nan              </td><td>nan               </td><td>nan               </td><td>nan               </td><td>nan               </td><td>nan               </td><td>nan               </td><td>nan              </td><td>nan               </td><td>nan              </td><td>nan               </td><td>nan               </td><td>nan               </td><td>nan               </td><td>nan              </td><td>nan               </td><td>nan               </td><td>nan               </td><td>nan               </td><td>nan               </td><td>nan               </td><td>nan               </td><td>nan              </td><td>nan               </td><td>nan               </td><td>nan               </td><td>nan               </td><td>nan              </td><td>nan              </td><td>nan              </td><td>nan              </td><td>nan              </td><td>nan              </td><td>nan               </td><td>nan              </td><td>nan              </td><td>nan              </td><td>nan              </td><td>nan              </td><td>nan              </td><td>nan              </td><td>nan               </td><td>nan              </td><td>nan              </td><td>nan               </td><td>nan               </td><td>nan               </td><td>nan               </td><td>nan              </td><td>nan               </td><td>nan               </td><td>nan               </td><td>nan               </td><td>nan               </td><td>nan              </td><td>nan               </td><td>nan               </td><td>nan              </td><td>nan               </td><td>nan               </td><td>nan               </td><td>nan              </td><td>nan                </td></tr>\n",
              "<tr><td>1      </td><td>2.0               </td><td>PVT   </td><td>0.0                </td><td>1.0                </td><td>23.0              </td><td>10.0              </td><td>1.0                </td><td>Graduated          </td><td>11C  </td><td>M    </td><td>106.0             </td><td>63.0              </td><td>78.0             </td><td>13:12</td><td>9.0              </td><td>0.0               </td><td>                  </td><td>54.0             </td><td>46.0             </td><td>36.0              </td><td>40.0             </td><td>45.0             </td><td>53.0             </td><td>46.0             </td><td>59.0              </td><td>44.0             </td><td>49.0             </td><td>92.0              </td><td>101.0             </td><td>96.0              </td><td>58.0             </td><td>50.0             </td><td>56.0             </td><td>51.0              </td><td>50.0              </td><td>51.0              </td><td>46.0             </td><td>57.0              </td><td>59.0             </td><td>46.0             </td><td>39.0             </td><td>70.0             </td><td>42.0             </td><td>56.0             </td><td>50.0             </td><td>57.0             </td><td>57.0             </td><td>43.0              </td><td>53.0             </td><td>39.0             </td><td>56.0             </td><td>52.0              </td><td>42.0             </td><td>65.0              </td><td>46.0             </td><td>45.0             </td><td>40.0             </td><td>52.0             </td><td>48.0              </td><td>58.0             </td><td>47.0             </td><td>70.0             </td><td>54.0             </td><td>43.0             </td><td>36.0              </td><td>70.0              </td><td>41.0              </td><td>67.0              </td><td>44.0              </td><td>44.0             </td><td>39.0             </td><td>52.0             </td><td>44.0             </td><td>68.0              </td><td>33.0             </td><td>61.0              </td><td>69.0              </td><td>38.0             </td><td>69.0             </td><td>59.0             </td><td>52.0              </td><td>0.0                </td><td>40.0             </td><td>10.0              </td><td>6.0               </td><td>14.0              </td><td>8.0               </td><td>5.0              </td><td>10.0              </td><td>1.0               </td><td>5.0              </td><td>15.0              </td><td>17.0              </td><td>7.0               </td><td>12.0             </td><td>15.0              </td><td>11.0              </td><td>14.0              </td><td>52.0              </td><td>39.0             </td><td>51.0              </td><td>39.0              </td><td>37.0             </td><td>50.0             </td><td>33.0             </td><td>40.0             </td><td>54.0             </td><td>60.0              </td><td>41.0             </td><td>55.0             </td><td>58.0             </td><td>53.0              </td><td>52.0             </td><td>50.0              </td><td>38.0             </td><td>54.0             </td><td>37.0             </td><td>27.0             </td><td>45.0              </td><td>31.0             </td><td>37.0              </td><td>55.0              </td><td>64.0              </td><td>43.0              </td><td>63.0              </td><td>56.0             </td><td>51.0             </td><td>47.0             </td><td>51.0              </td><td>39.0             </td><td>53.0             </td><td>38.0              </td><td>33.0              </td><td>47.0              </td><td>32.0             </td><td>39.0             </td><td>55.0              </td><td>62.0             </td><td>42.0             </td><td>58.0             </td><td>57.0            </td><td>52.0             </td><td>50.0              </td><td>58.0              </td><td>14.0             </td><td>54.0             </td><td>14.0              </td><td>10.0              </td><td>50.0              </td><td>4.0               </td><td>16.0             </td><td>66.0              </td><td>84.0             </td><td>18.0             </td><td>69.0              </td><td>79.0             </td><td>62.0             </td><td>58.0              </td><td>50.0              </td><td>12.0              </td><td>66.0              </td><td>10.0             </td><td>1.0               </td><td>31.0             </td><td>3.0               </td><td>10.0              </td><td>69.0              </td><td>92.0              </td><td>24.0              </td><td>90.0              </td><td>73.0             </td><td>54.0              </td><td>38.0             </td><td>54.0              </td><td>14.0              </td><td>62.0              </td><td>12.0              </td><td>4.0              </td><td>38.0              </td><td>4.0               </td><td>14.0              </td><td>69.0              </td><td>88.0              </td><td>21.0              </td><td>79.0              </td><td>76.0             </td><td>58.0              </td><td>50.0              </td><td>38.0              </td><td>16.0              </td><td>37.0             </td><td>19.0             </td><td>40.0             </td><td>44.0             </td><td>37.0             </td><td>51.0             </td><td>48.0              </td><td>56.0             </td><td>44.0             </td><td>31.0             </td><td>52.0             </td><td>55.0             </td><td>52.0             </td><td>44.0             </td><td>34.0              </td><td>52.0             </td><td>51.0             </td><td>54.0              </td><td>27.0              </td><td>10.0              </td><td>54.0              </td><td>42.0             </td><td>73.0              </td><td>27.0              </td><td>3.0               </td><td>58.0              </td><td>69.0              </td><td>58.0             </td><td>27.0              </td><td>5.0               </td><td>58.0             </td><td>54.0              </td><td>66.0              </td><td>0.8               </td><td>23.0             </td><td>0.0                </td></tr>\n",
              "<tr><td>2      </td><td>3.0               </td><td>SPC   </td><td>0.0                </td><td>1.0                </td><td>23.0              </td><td>16.0              </td><td>0.0                </td><td>Voluntary Withdrawl</td><td>18X  </td><td>M    </td><td>119.0             </td><td>nan               </td><td>nan              </td><td>     </td><td>nan              </td><td>0.0               </td><td>                  </td><td>63.0             </td><td>61.0             </td><td>55.0              </td><td>64.0             </td><td>61.0             </td><td>55.0             </td><td>55.0             </td><td>58.0              </td><td>51.0             </td><td>57.0             </td><td>118.0             </td><td>111.0             </td><td>116.0             </td><td>43.0             </td><td>57.0             </td><td>42.0             </td><td>51.0              </td><td>42.0              </td><td>45.0              </td><td>59.0             </td><td>62.0              </td><td>42.0             </td><td>53.0             </td><td>39.0             </td><td>40.0             </td><td>49.0             </td><td>36.0             </td><td>50.0             </td><td>57.0             </td><td>43.0             </td><td>43.0              </td><td>50.0             </td><td>39.0             </td><td>45.0             </td><td>52.0              </td><td>42.0             </td><td>41.0              </td><td>46.0             </td><td>45.0             </td><td>60.0             </td><td>42.0             </td><td>51.0              </td><td>40.0             </td><td>52.0             </td><td>44.0             </td><td>59.0             </td><td>43.0             </td><td>36.0              </td><td>40.0              </td><td>50.0              </td><td>61.0              </td><td>39.0              </td><td>44.0             </td><td>39.0             </td><td>70.0             </td><td>57.0             </td><td>44.0              </td><td>33.0             </td><td>69.0              </td><td>60.0              </td><td>47.0             </td><td>47.0             </td><td>56.0             </td><td>60.0              </td><td>1.0                </td><td>37.0             </td><td>7.0               </td><td>7.0               </td><td>6.0               </td><td>8.0               </td><td>9.0              </td><td>10.0              </td><td>4.0               </td><td>2.0              </td><td>11.0              </td><td>7.0               </td><td>7.0               </td><td>3.0              </td><td>16.0              </td><td>10.0              </td><td>14.0              </td><td>43.0              </td><td>42.0             </td><td>33.0              </td><td>39.0              </td><td>46.0             </td><td>50.0             </td><td>40.0             </td><td>33.0             </td><td>45.0             </td><td>35.0              </td><td>41.0             </td><td>35.0             </td><td>60.0             </td><td>50.0              </td><td>52.0             </td><td>41.0              </td><td>41.0             </td><td>38.0             </td><td>37.0             </td><td>37.0             </td><td>45.0              </td><td>39.0             </td><td>30.0              </td><td>47.0              </td><td>37.0              </td><td>43.0              </td><td>41.0              </td><td>59.0             </td><td>48.0             </td><td>47.0             </td><td>42.0              </td><td>41.0             </td><td>36.0             </td><td>38.0              </td><td>43.0              </td><td>47.0              </td><td>39.0             </td><td>32.0             </td><td>46.0              </td><td>36.0             </td><td>42.0             </td><td>39.0             </td><td>60.0            </td><td>49.0             </td><td>50.0              </td><td>24.0              </td><td>21.0             </td><td>4.0              </td><td>14.0              </td><td>34.0              </td><td>50.0              </td><td>16.0              </td><td>4.0              </td><td>31.0              </td><td>7.0              </td><td>18.0             </td><td>7.0               </td><td>84.0             </td><td>50.0             </td><td>58.0              </td><td>18.0              </td><td>18.0              </td><td>12.0              </td><td>10.0             </td><td>10.0              </td><td>31.0             </td><td>14.0              </td><td>2.0               </td><td>38.0              </td><td>10.0              </td><td>24.0              </td><td>18.0              </td><td>82.0             </td><td>42.0              </td><td>38.0             </td><td>21.0              </td><td>18.0              </td><td>8.0               </td><td>12.0              </td><td>24.0             </td><td>38.0              </td><td>14.0              </td><td>4.0               </td><td>34.0              </td><td>8.0               </td><td>21.0              </td><td>14.0              </td><td>84.0             </td><td>46.0              </td><td>50.0              </td><td>28.0              </td><td>23.0              </td><td>20.0             </td><td>10.0             </td><td>40.0             </td><td>35.0             </td><td>44.0             </td><td>34.0             </td><td>35.0              </td><td>56.0             </td><td>35.0             </td><td>38.0             </td><td>35.0             </td><td>40.0             </td><td>52.0             </td><td>35.0             </td><td>41.0              </td><td>34.0             </td><td>37.0             </td><td>54.0              </td><td>7.0               </td><td>27.0              </td><td>5.0               </td><td>7.0              </td><td>73.0              </td><td>7.0               </td><td>12.0              </td><td>7.0               </td><td>16.0              </td><td>58.0             </td><td>7.0               </td><td>18.0              </td><td>5.0              </td><td>10.0              </td><td>66.0              </td><td>0.72              </td><td>18.0             </td><td>0.0                </td></tr>\n",
              "<tr><td>3      </td><td>4.0               </td><td>PVT   </td><td>0.0                </td><td>0.0                </td><td>18.0              </td><td>12.0              </td><td>0.0                </td><td>Psych Failure      </td><td>11B  </td><td>M    </td><td>115.0             </td><td>58.0              </td><td>69.0             </td><td>13:24</td><td>4.0              </td><td>0.0               </td><td>                  </td><td>58.0             </td><td>55.0             </td><td>50.0              </td><td>58.0             </td><td>60.0             </td><td>50.0             </td><td>63.0             </td><td>58.0              </td><td>60.0             </td><td>61.0             </td><td>111.0             </td><td>117.0             </td><td>114.0             </td><td>43.0             </td><td>50.0             </td><td>42.0             </td><td>51.0              </td><td>50.0              </td><td>54.0              </td><td>50.0             </td><td>42.0              </td><td>31.0             </td><td>66.0             </td><td>48.0             </td><td>63.0             </td><td>71.0             </td><td>51.0             </td><td>65.0             </td><td>61.0             </td><td>59.0             </td><td>43.0              </td><td>62.0             </td><td>52.0             </td><td>63.0             </td><td>57.0              </td><td>42.0             </td><td>53.0              </td><td>64.0             </td><td>45.0             </td><td>60.0             </td><td>76.0             </td><td>64.0              </td><td>64.0             </td><td>52.0             </td><td>44.0             </td><td>66.0             </td><td>43.0             </td><td>46.0              </td><td>57.0              </td><td>55.0              </td><td>51.0              </td><td>48.0              </td><td>58.0             </td><td>46.0             </td><td>50.0             </td><td>57.0             </td><td>58.0              </td><td>50.0             </td><td>52.0              </td><td>53.0              </td><td>47.0             </td><td>63.0             </td><td>59.0             </td><td>57.0              </td><td>0.0                </td><td>48.0             </td><td>12.0              </td><td>11.0              </td><td>18.0              </td><td>11.0              </td><td>13.0             </td><td>14.0              </td><td>14.0              </td><td>4.0              </td><td>8.0               </td><td>6.0               </td><td>13.0              </td><td>2.0              </td><td>5.0               </td><td>7.0               </td><td>9.0               </td><td>58.0              </td><td>50.0             </td><td>60.0              </td><td>48.0              </td><td>56.0             </td><td>59.0             </td><td>65.0             </td><td>38.0             </td><td>38.0             </td><td>32.0              </td><td>58.0             </td><td>33.0             </td><td>32.0             </td><td>43.0              </td><td>37.0             </td><td>56.0              </td><td>49.0             </td><td>63.0             </td><td>46.0             </td><td>48.0             </td><td>55.0              </td><td>63.0             </td><td>35.0              </td><td>41.0              </td><td>35.0              </td><td>60.0              </td><td>38.0              </td><td>30.0             </td><td>41.0             </td><td>30.0             </td><td>57.0              </td><td>50.0             </td><td>61.0             </td><td>47.0              </td><td>52.0              </td><td>57.0              </td><td>64.0             </td><td>36.0             </td><td>40.0              </td><td>34.0             </td><td>59.0             </td><td>36.0             </td><td>31.0            </td><td>42.0             </td><td>35.0              </td><td>79.0              </td><td>50.0             </td><td>84.0             </td><td>42.0              </td><td>73.0              </td><td>82.0              </td><td>93.0              </td><td>12.0             </td><td>12.0              </td><td>4.0              </td><td>79.0             </td><td>4.0               </td><td>4.0              </td><td>24.0             </td><td>10.0              </td><td>73.0              </td><td>46.0              </td><td>90.0              </td><td>34.0             </td><td>42.0              </td><td>69.0             </td><td>90.0              </td><td>7.0               </td><td>18.0              </td><td>7.0               </td><td>84.0              </td><td>12.0              </td><td>2.0              </td><td>18.0              </td><td>2.0              </td><td>76.0              </td><td>50.0              </td><td>86.0              </td><td>38.0              </td><td>58.0             </td><td>76.0              </td><td>92.0              </td><td>8.0               </td><td>16.0              </td><td>5.0               </td><td>82.0              </td><td>8.0               </td><td>3.0              </td><td>21.0              </td><td>7.0               </td><td>52.0              </td><td>41.0              </td><td>18.0             </td><td>15.0             </td><td>21.0             </td><td>56.0             </td><td>63.0             </td><td>32.0             </td><td>42.0              </td><td>33.0             </td><td>56.0             </td><td>57.0             </td><td>33.0             </td><td>48.0             </td><td>29.0             </td><td>56.0             </td><td>60.0              </td><td>32.0             </td><td>45.0             </td><td>31.0              </td><td>73.0              </td><td>90.0              </td><td>4.0               </td><td>21.0             </td><td>4.0               </td><td>73.0              </td><td>76.0              </td><td>4.0               </td><td>42.0              </td><td>2.0              </td><td>73.0              </td><td>84.0              </td><td>4.0              </td><td>31.0              </td><td>3.0               </td><td>0.87              </td><td>19.0             </td><td>0.0                </td></tr>\n",
              "<tr><td>4      </td><td>5.0               </td><td>PVT   </td><td>1.0                </td><td>0.0                </td><td>25.0              </td><td>12.0              </td><td>0.0                </td><td>APFT Failure       </td><td>11B  </td><td>M    </td><td>126.0             </td><td>48.0              </td><td>69.0             </td><td>16:14</td><td>4.0              </td><td>0.0               </td><td>                  </td><td>44.0             </td><td>57.0             </td><td>58.0              </td><td>58.0             </td><td>53.0             </td><td>63.0             </td><td>63.0             </td><td>54.0              </td><td>37.0             </td><td>61.0             </td><td>107.0             </td><td>112.0             </td><td>110.0             </td><td>34.0             </td><td>57.0             </td><td>42.0             </td><td>51.0              </td><td>50.0              </td><td>35.0              </td><td>46.0             </td><td>47.0              </td><td>55.0             </td><td>43.0             </td><td>48.0             </td><td>40.0             </td><td>46.0             </td><td>36.0             </td><td>38.0             </td><td>61.0             </td><td>46.0             </td><td>56.0              </td><td>44.0             </td><td>47.0             </td><td>45.0             </td><td>46.0              </td><td>42.0             </td><td>41.0              </td><td>46.0             </td><td>45.0             </td><td>40.0             </td><td>56.0             </td><td>43.0              </td><td>40.0             </td><td>47.0             </td><td>44.0             </td><td>39.0             </td><td>43.0             </td><td>36.0              </td><td>40.0              </td><td>55.0              </td><td>37.0              </td><td>48.0              </td><td>44.0             </td><td>43.0             </td><td>43.0             </td><td>57.0             </td><td>44.0              </td><td>33.0             </td><td>69.0              </td><td>53.0              </td><td>47.0             </td><td>49.0             </td><td>47.0             </td><td>42.0              </td><td>0.0                </td><td>38.0             </td><td>7.0               </td><td>11.0              </td><td>12.0              </td><td>9.0               </td><td>7.0              </td><td>10.0              </td><td>8.0               </td><td>9.0              </td><td>11.0              </td><td>18.0              </td><td>10.0              </td><td>7.0              </td><td>18.0              </td><td>16.0              </td><td>16.0              </td><td>43.0              </td><td>50.0             </td><td>46.0              </td><td>42.0              </td><td>42.0             </td><td>50.0             </td><td>50.0             </td><td>49.0             </td><td>45.0             </td><td>62.0              </td><td>50.0             </td><td>44.0             </td><td>66.0             </td><td>65.0              </td><td>57.0             </td><td>41.0              </td><td>49.0             </td><td>50.0             </td><td>40.0             </td><td>32.0             </td><td>45.0              </td><td>48.0             </td><td>47.0              </td><td>47.0              </td><td>67.0              </td><td>51.0              </td><td>51.0              </td><td>64.0             </td><td>63.0             </td><td>54.0             </td><td>42.0              </td><td>50.0             </td><td>48.0             </td><td>41.0              </td><td>38.0              </td><td>47.0              </td><td>49.0             </td><td>48.0             </td><td>46.0              </td><td>64.0             </td><td>51.0             </td><td>47.0             </td><td>65.0            </td><td>64.0             </td><td>56.0              </td><td>24.0              </td><td>50.0             </td><td>34.0             </td><td>21.0              </td><td>21.0              </td><td>50.0              </td><td>50.0              </td><td>46.0             </td><td>31.0              </td><td>88.0             </td><td>50.0             </td><td>27.0              </td><td>95.0             </td><td>93.0             </td><td>76.0              </td><td>18.0              </td><td>46.0              </td><td>50.0              </td><td>16.0             </td><td>4.0               </td><td>31.0             </td><td>42.0              </td><td>38.0              </td><td>38.0              </td><td>96.0              </td><td>54.0              </td><td>54.0              </td><td>92.0             </td><td>90.0              </td><td>66.0             </td><td>21.0              </td><td>50.0              </td><td>42.0              </td><td>18.0              </td><td>12.0             </td><td>38.0              </td><td>46.0              </td><td>42.0              </td><td>34.0              </td><td>92.0              </td><td>54.0              </td><td>38.0              </td><td>93.0             </td><td>92.0              </td><td>73.0              </td><td>39.0              </td><td>25.0              </td><td>38.0             </td><td>17.0             </td><td>50.0             </td><td>45.0             </td><td>46.0             </td><td>52.0             </td><td>45.0              </td><td>68.0             </td><td>45.0             </td><td>40.0             </td><td>54.0             </td><td>51.0             </td><td>65.0             </td><td>45.0             </td><td>43.0              </td><td>53.0             </td><td>48.0             </td><td>66.0              </td><td>31.0              </td><td>34.0              </td><td>58.0              </td><td>31.0             </td><td>96.0              </td><td>31.0              </td><td>16.0              </td><td>66.0              </td><td>54.0              </td><td>93.0             </td><td>31.0              </td><td>24.0              </td><td>62.0             </td><td>42.0              </td><td>95.0              </td><td>0.57              </td><td>15.0             </td><td>0.0                </td></tr>\n",
              "<tr><td>5      </td><td>6.0               </td><td>PVT   </td><td>0.0                </td><td>1.0                </td><td>19.0              </td><td>12.0              </td><td>1.0                </td><td>Graduated          </td><td>11B  </td><td>M    </td><td>109.0             </td><td>64.0              </td><td>89.0             </td><td>12:24</td><td>nan              </td><td>0.0               </td><td>                  </td><td>43.0             </td><td>48.0             </td><td>47.0              </td><td>42.0             </td><td>49.0             </td><td>39.0             </td><td>42.0             </td><td>49.0              </td><td>46.0             </td><td>48.0             </td><td>94.0              </td><td>92.0              </td><td>93.0              </td><td>34.0             </td><td>50.0             </td><td>42.0             </td><td>51.0              </td><td>42.0              </td><td>48.0              </td><td>50.0             </td><td>81.0              </td><td>66.0             </td><td>30.0             </td><td>39.0             </td><td>36.0             </td><td>37.0             </td><td>51.0             </td><td>42.0             </td><td>41.0             </td><td>34.0             </td><td>43.0              </td><td>34.0             </td><td>39.0             </td><td>33.0             </td><td>38.0              </td><td>42.0             </td><td>53.0              </td><td>46.0             </td><td>45.0             </td><td>40.0             </td><td>42.0             </td><td>36.0              </td><td>40.0             </td><td>36.0             </td><td>44.0             </td><td>39.0             </td><td>43.0             </td><td>36.0              </td><td>40.0              </td><td>41.0              </td><td>37.0              </td><td>33.0              </td><td>37.0             </td><td>49.0             </td><td>43.0             </td><td>37.0             </td><td>44.0              </td><td>33.0             </td><td>61.0              </td><td>45.0              </td><td>38.0             </td><td>44.0             </td><td>32.0             </td><td>49.0              </td><td>0.0                </td><td>25.0             </td><td>10.0              </td><td>17.0              </td><td>15.0              </td><td>17.0              </td><td>6.0              </td><td>3.0               </td><td>10.0              </td><td>14.0             </td><td>14.0              </td><td>17.0              </td><td>13.0              </td><td>11.0             </td><td>17.0              </td><td>13.0              </td><td>16.0              </td><td>52.0              </td><td>64.0             </td><td>53.0              </td><td>66.0              </td><td>39.0             </td><td>34.0             </td><td>55.0             </td><td>60.0             </td><td>52.0             </td><td>60.0              </td><td>58.0             </td><td>52.0             </td><td>63.0             </td><td>58.0              </td><td>57.0             </td><td>50.0              </td><td>63.0             </td><td>56.0             </td><td>65.0             </td><td>30.0             </td><td>28.0              </td><td>53.0             </td><td>58.0              </td><td>53.0              </td><td>64.0              </td><td>60.0              </td><td>61.0              </td><td>62.0             </td><td>56.0             </td><td>54.0             </td><td>51.0              </td><td>63.0             </td><td>55.0             </td><td>65.0              </td><td>36.0              </td><td>31.0              </td><td>54.0             </td><td>59.0             </td><td>52.0              </td><td>62.0             </td><td>59.0             </td><td>56.0             </td><td>62.0            </td><td>57.0             </td><td>56.0              </td><td>58.0              </td><td>92.0             </td><td>62.0             </td><td>95.0              </td><td>14.0              </td><td>5.0               </td><td>69.0              </td><td>84.0             </td><td>58.0              </td><td>84.0             </td><td>79.0             </td><td>58.0              </td><td>90.0             </td><td>79.0             </td><td>76.0              </td><td>50.0              </td><td>90.0              </td><td>73.0              </td><td>93.0             </td><td>2.0               </td><td>1.0              </td><td>62.0              </td><td>79.0              </td><td>62.0              </td><td>92.0              </td><td>84.0              </td><td>86.0              </td><td>88.0             </td><td>73.0              </td><td>66.0             </td><td>54.0              </td><td>90.0              </td><td>69.0              </td><td>93.0              </td><td>8.0              </td><td>3.0               </td><td>66.0              </td><td>82.0              </td><td>58.0              </td><td>88.0              </td><td>82.0              </td><td>73.0              </td><td>88.0             </td><td>76.0              </td><td>73.0              </td><td>59.0              </td><td>19.0              </td><td>45.0             </td><td>24.0             </td><td>46.0             </td><td>61.0             </td><td>40.0             </td><td>59.0             </td><td>56.0              </td><td>63.0             </td><td>62.0             </td><td>34.0             </td><td>61.0             </td><td>63.0             </td><td>60.0             </td><td>61.0             </td><td>37.0              </td><td>60.0             </td><td>59.0             </td><td>61.0              </td><td>86.0              </td><td>16.0              </td><td>82.0              </td><td>73.0             </td><td>90.0              </td><td>88.0              </td><td>5.0               </td><td>86.0              </td><td>90.0              </td><td>84.0             </td><td>86.0              </td><td>10.0              </td><td>84.0             </td><td>82.0              </td><td>86.0              </td><td>0.71              </td><td>18.0             </td><td>0.0                </td></tr>\n",
              "<tr><td>6      </td><td>7.0               </td><td>PVT   </td><td>0.0                </td><td>0.0                </td><td>nan               </td><td>nan               </td><td>0.0                </td><td>Administrative     </td><td>11B  </td><td>M    </td><td>120.0             </td><td>nan               </td><td>nan              </td><td>     </td><td>nan              </td><td>0.0               </td><td>                  </td><td>nan              </td><td>nan              </td><td>nan               </td><td>nan              </td><td>nan              </td><td>nan              </td><td>nan              </td><td>nan               </td><td>nan              </td><td>nan              </td><td>nan               </td><td>nan               </td><td>nan               </td><td>73.0             </td><td>57.0             </td><td>70.0             </td><td>59.0              </td><td>58.0              </td><td>61.0              </td><td>63.0             </td><td>62.0              </td><td>35.0             </td><td>64.0             </td><td>53.0             </td><td>48.0             </td><td>58.0             </td><td>59.0             </td><td>61.0             </td><td>54.0             </td><td>54.0             </td><td>61.0              </td><td>53.0             </td><td>56.0             </td><td>45.0             </td><td>52.0              </td><td>65.0             </td><td>53.0              </td><td>64.0             </td><td>45.0             </td><td>40.0             </td><td>76.0             </td><td>54.0              </td><td>86.0             </td><td>57.0             </td><td>59.0             </td><td>66.0             </td><td>56.0             </td><td>36.0              </td><td>40.0              </td><td>50.0              </td><td>56.0              </td><td>44.0              </td><td>49.0             </td><td>49.0             </td><td>75.0             </td><td>52.0             </td><td>78.0              </td><td>39.0             </td><td>65.0              </td><td>47.0              </td><td>56.0             </td><td>54.0             </td><td>59.0             </td><td>67.0              </td><td>0.0                </td><td>38.0             </td><td>nan               </td><td>nan               </td><td>nan               </td><td>nan               </td><td>nan              </td><td>nan               </td><td>nan               </td><td>nan              </td><td>nan               </td><td>nan               </td><td>nan               </td><td>nan              </td><td>nan               </td><td>nan               </td><td>nan               </td><td>nan               </td><td>nan              </td><td>nan               </td><td>nan               </td><td>nan              </td><td>nan              </td><td>nan              </td><td>nan              </td><td>nan              </td><td>nan               </td><td>nan              </td><td>nan              </td><td>nan              </td><td>nan               </td><td>nan              </td><td>nan               </td><td>nan              </td><td>nan              </td><td>nan              </td><td>nan              </td><td>nan               </td><td>nan              </td><td>nan               </td><td>nan               </td><td>nan               </td><td>nan               </td><td>nan               </td><td>nan              </td><td>nan              </td><td>nan              </td><td>nan               </td><td>nan              </td><td>nan              </td><td>nan               </td><td>nan               </td><td>nan               </td><td>nan              </td><td>nan              </td><td>nan               </td><td>nan              </td><td>nan              </td><td>nan              </td><td>nan             </td><td>nan              </td><td>nan               </td><td>nan               </td><td>nan              </td><td>nan              </td><td>nan               </td><td>nan               </td><td>nan               </td><td>nan               </td><td>nan              </td><td>nan               </td><td>nan              </td><td>nan              </td><td>nan               </td><td>nan              </td><td>nan              </td><td>nan               </td><td>nan               </td><td>nan               </td><td>nan               </td><td>nan              </td><td>nan               </td><td>nan              </td><td>nan               </td><td>nan               </td><td>nan               </td><td>nan               </td><td>nan               </td><td>nan               </td><td>nan              </td><td>nan               </td><td>nan              </td><td>nan               </td><td>nan               </td><td>nan               </td><td>nan               </td><td>nan              </td><td>nan               </td><td>nan               </td><td>nan               </td><td>nan               </td><td>nan               </td><td>nan               </td><td>nan               </td><td>nan              </td><td>nan               </td><td>nan               </td><td>nan               </td><td>nan               </td><td>nan              </td><td>nan              </td><td>nan              </td><td>nan              </td><td>nan              </td><td>nan              </td><td>nan               </td><td>nan              </td><td>nan              </td><td>nan              </td><td>nan              </td><td>nan              </td><td>nan              </td><td>nan              </td><td>nan               </td><td>nan              </td><td>nan              </td><td>nan               </td><td>nan               </td><td>nan               </td><td>nan               </td><td>nan              </td><td>nan               </td><td>nan               </td><td>nan               </td><td>nan               </td><td>nan               </td><td>nan              </td><td>nan               </td><td>nan               </td><td>nan              </td><td>nan               </td><td>nan               </td><td>nan               </td><td>nan              </td><td>nan                </td></tr>\n",
              "<tr><td>7      </td><td>8.0               </td><td>PVT   </td><td>0.0                </td><td>1.0                </td><td>18.0              </td><td>12.0              </td><td>1.0                </td><td>Graduated          </td><td>11B  </td><td>M    </td><td>114.0             </td><td>58.0              </td><td>86.0             </td><td>13:30</td><td>11.0             </td><td>0.0               </td><td>                  </td><td>37.0             </td><td>57.0             </td><td>57.0              </td><td>53.0             </td><td>48.0             </td><td>44.0             </td><td>44.0             </td><td>42.0              </td><td>50.0             </td><td>50.0             </td><td>101.0             </td><td>93.0              </td><td>97.0              </td><td>34.0             </td><td>50.0             </td><td>42.0             </td><td>42.0              </td><td>42.0              </td><td>45.0              </td><td>46.0             </td><td>66.0              </td><td>66.0             </td><td>30.0             </td><td>48.0             </td><td>46.0             </td><td>37.0             </td><td>36.0             </td><td>38.0             </td><td>46.0             </td><td>39.0             </td><td>56.0              </td><td>34.0             </td><td>39.0             </td><td>46.0             </td><td>38.0              </td><td>42.0             </td><td>41.0              </td><td>46.0             </td><td>45.0             </td><td>40.0             </td><td>42.0             </td><td>36.0              </td><td>40.0             </td><td>36.0             </td><td>44.0             </td><td>39.0             </td><td>43.0             </td><td>36.0              </td><td>40.0              </td><td>41.0              </td><td>45.0              </td><td>44.0              </td><td>37.0             </td><td>39.0             </td><td>43.0             </td><td>37.0             </td><td>44.0              </td><td>45.0             </td><td>65.0              </td><td>56.0              </td><td>38.0             </td><td>49.0             </td><td>32.0             </td><td>45.0              </td><td>0.0                </td><td>32.0             </td><td>12.0              </td><td>13.0              </td><td>13.0              </td><td>12.0              </td><td>3.0              </td><td>6.0               </td><td>1.0               </td><td>15.0             </td><td>19.0              </td><td>12.0              </td><td>7.0               </td><td>9.0              </td><td>17.0              </td><td>6.0               </td><td>14.0              </td><td>58.0              </td><td>55.0             </td><td>48.0              </td><td>51.0              </td><td>32.0             </td><td>41.0             </td><td>33.0             </td><td>63.0             </td><td>63.0             </td><td>47.0              </td><td>41.0             </td><td>48.0             </td><td>63.0             </td><td>40.0              </td><td>52.0             </td><td>56.0              </td><td>54.0             </td><td>52.0             </td><td>50.0             </td><td>22.0             </td><td>35.0              </td><td>31.0             </td><td>61.0              </td><td>63.0              </td><td>51.0              </td><td>43.0              </td><td>56.0              </td><td>62.0             </td><td>39.0             </td><td>47.0             </td><td>57.0              </td><td>54.0             </td><td>50.0             </td><td>50.0              </td><td>29.0              </td><td>38.0              </td><td>32.0             </td><td>61.0             </td><td>63.0              </td><td>49.0             </td><td>42.0             </td><td>52.0             </td><td>62.0            </td><td>40.0             </td><td>50.0              </td><td>79.0              </td><td>69.0             </td><td>42.0             </td><td>54.0              </td><td>4.0               </td><td>18.0              </td><td>4.0               </td><td>90.0             </td><td>90.0              </td><td>38.0             </td><td>18.0             </td><td>42.0              </td><td>90.0             </td><td>16.0             </td><td>58.0              </td><td>73.0              </td><td>66.0              </td><td>58.0              </td><td>50.0             </td><td>0.0               </td><td>7.0              </td><td>3.0               </td><td>86.0              </td><td>90.0              </td><td>54.0              </td><td>24.0              </td><td>73.0              </td><td>88.0             </td><td>14.0              </td><td>38.0             </td><td>76.0              </td><td>66.0              </td><td>50.0              </td><td>50.0              </td><td>2.0              </td><td>12.0              </td><td>4.0               </td><td>86.0              </td><td>90.0              </td><td>46.0              </td><td>21.0              </td><td>58.0              </td><td>88.0             </td><td>16.0              </td><td>50.0              </td><td>50.0              </td><td>10.0              </td><td>46.0             </td><td>16.0             </td><td>37.0             </td><td>54.0             </td><td>31.0             </td><td>60.0             </td><td>44.0              </td><td>52.0             </td><td>54.0             </td><td>24.0             </td><td>62.0             </td><td>50.0             </td><td>49.0             </td><td>54.0             </td><td>28.0              </td><td>61.0             </td><td>47.0             </td><td>50.0              </td><td>66.0              </td><td>3.0               </td><td>84.0              </td><td>27.0             </td><td>58.0              </td><td>66.0              </td><td>1.0               </td><td>88.0              </td><td>50.0              </td><td>46.0             </td><td>66.0              </td><td>1.0               </td><td>86.0             </td><td>38.0              </td><td>50.0              </td><td>0.86              </td><td>18.0             </td><td>0.0                </td></tr>\n",
              "<tr><td>8      </td><td>9.0               </td><td>PFC   </td><td>1.0                </td><td>0.0                </td><td>18.0              </td><td>12.0              </td><td>0.0                </td><td>Medical            </td><td>35F  </td><td>M    </td><td>103.0             </td><td>nan               </td><td>nan              </td><td>     </td><td>nan              </td><td>0.0               </td><td>                  </td><td>41.0             </td><td>38.0             </td><td>44.0              </td><td>53.0             </td><td>43.0             </td><td>50.0             </td><td>46.0             </td><td>46.0              </td><td>43.0             </td><td>65.0             </td><td>91.0              </td><td>101.0             </td><td>95.0              </td><td>48.0             </td><td>65.0             </td><td>42.0             </td><td>59.0              </td><td>50.0              </td><td>45.0              </td><td>54.0             </td><td>52.0              </td><td>45.0             </td><td>56.0             </td><td>48.0             </td><td>40.0             </td><td>64.0             </td><td>56.0             </td><td>54.0             </td><td>51.0             </td><td>39.0             </td><td>56.0              </td><td>46.0             </td><td>47.0             </td><td>56.0             </td><td>57.0              </td><td>53.0             </td><td>70.0              </td><td>46.0             </td><td>45.0             </td><td>40.0             </td><td>76.0             </td><td>64.0              </td><td>54.0             </td><td>47.0             </td><td>44.0             </td><td>51.0             </td><td>43.0             </td><td>46.0              </td><td>40.0              </td><td>41.0              </td><td>51.0              </td><td>53.0              </td><td>37.0             </td><td>46.0             </td><td>47.0             </td><td>37.0             </td><td>44.0              </td><td>39.0             </td><td>65.0              </td><td>53.0              </td><td>52.0             </td><td>47.0             </td><td>56.0             </td><td>47.0              </td><td>0.0                </td><td>38.0             </td><td>11.0              </td><td>7.0               </td><td>10.0              </td><td>12.0              </td><td>12.0             </td><td>9.0               </td><td>14.0              </td><td>12.0             </td><td>11.0              </td><td>11.0              </td><td>10.0              </td><td>4.0              </td><td>17.0              </td><td>11.0              </td><td>13.0              </td><td>55.0              </td><td>42.0             </td><td>42.0              </td><td>51.0              </td><td>54.0             </td><td>47.0             </td><td>65.0             </td><td>56.0             </td><td>45.0             </td><td>45.0              </td><td>50.0             </td><td>37.0             </td><td>63.0             </td><td>53.0              </td><td>49.0             </td><td>53.0              </td><td>41.0             </td><td>46.0             </td><td>50.0             </td><td>45.0             </td><td>42.0              </td><td>63.0             </td><td>54.0              </td><td>47.0              </td><td>48.0              </td><td>51.0              </td><td>43.0              </td><td>62.0             </td><td>51.0             </td><td>44.0             </td><td>54.0              </td><td>41.0             </td><td>44.0             </td><td>50.0              </td><td>50.0              </td><td>45.0              </td><td>64.0             </td><td>55.0             </td><td>46.0              </td><td>47.0             </td><td>51.0             </td><td>41.0             </td><td>62.0            </td><td>52.0             </td><td>47.0              </td><td>69.0              </td><td>21.0             </td><td>21.0             </td><td>54.0              </td><td>66.0              </td><td>38.0              </td><td>93.0              </td><td>73.0             </td><td>31.0              </td><td>31.0             </td><td>50.0             </td><td>10.0              </td><td>90.0             </td><td>62.0             </td><td>46.0              </td><td>62.0              </td><td>18.0              </td><td>34.0              </td><td>50.0             </td><td>31.0              </td><td>21.0             </td><td>90.0              </td><td>66.0              </td><td>38.0              </td><td>42.0              </td><td>54.0              </td><td>24.0              </td><td>88.0             </td><td>54.0              </td><td>27.0             </td><td>66.0              </td><td>18.0              </td><td>27.0              </td><td>50.0              </td><td>50.0             </td><td>31.0              </td><td>92.0              </td><td>69.0              </td><td>34.0              </td><td>38.0              </td><td>54.0              </td><td>18.0              </td><td>88.0             </td><td>58.0              </td><td>38.0              </td><td>40.0              </td><td>35.0              </td><td>34.0             </td><td>14.0             </td><td>41.0             </td><td>45.0             </td><td>57.0             </td><td>48.0             </td><td>41.0              </td><td>57.0             </td><td>45.0             </td><td>50.0             </td><td>49.0             </td><td>46.0             </td><td>54.0             </td><td>45.0             </td><td>53.0              </td><td>49.0             </td><td>44.0             </td><td>55.0              </td><td>31.0              </td><td>76.0              </td><td>42.0              </td><td>18.0             </td><td>76.0              </td><td>31.0              </td><td>50.0              </td><td>46.0              </td><td>34.0              </td><td>66.0             </td><td>31.0              </td><td>62.0              </td><td>46.0             </td><td>27.0              </td><td>69.0              </td><td>0.69              </td><td>23.0             </td><td>0.0                </td></tr>\n",
              "<tr><td>9      </td><td>10.0              </td><td>PVT   </td><td>0.0                </td><td>0.0                </td><td>18.0              </td><td>12.0              </td><td>0.0                </td><td>Voluntary Withdrawl</td><td>11B  </td><td>M    </td><td>124.0             </td><td>59.0              </td><td>58.0             </td><td>15:34</td><td>nan              </td><td>0.0               </td><td>                  </td><td>62.0             </td><td>59.0             </td><td>69.0              </td><td>64.0             </td><td>55.0             </td><td>52.0             </td><td>42.0             </td><td>43.0              </td><td>53.0             </td><td>56.0             </td><td>120.0             </td><td>99.0              </td><td>111.0             </td><td>53.0             </td><td>65.0             </td><td>47.0             </td><td>51.0              </td><td>42.0              </td><td>45.0              </td><td>42.0             </td><td>62.0              </td><td>45.0             </td><td>41.0             </td><td>39.0             </td><td>60.0             </td><td>42.0             </td><td>51.0             </td><td>38.0             </td><td>49.0             </td><td>59.0             </td><td>56.0              </td><td>48.0             </td><td>39.0             </td><td>50.0             </td><td>38.0              </td><td>53.0             </td><td>59.0              </td><td>46.0             </td><td>45.0             </td><td>40.0             </td><td>42.0             </td><td>43.0              </td><td>40.0             </td><td>52.0             </td><td>44.0             </td><td>59.0             </td><td>43.0             </td><td>42.0              </td><td>63.0              </td><td>50.0              </td><td>67.0              </td><td>39.0              </td><td>37.0             </td><td>39.0             </td><td>43.0             </td><td>50.0             </td><td>44.0              </td><td>33.0             </td><td>61.0              </td><td>74.0              </td><td>47.0             </td><td>66.0             </td><td>56.0             </td><td>42.0              </td><td>0.0                </td><td>38.0             </td><td>nan               </td><td>nan               </td><td>nan               </td><td>nan               </td><td>nan              </td><td>nan               </td><td>nan               </td><td>nan              </td><td>nan               </td><td>nan               </td><td>nan               </td><td>nan              </td><td>nan               </td><td>nan               </td><td>nan               </td><td>nan               </td><td>nan              </td><td>nan               </td><td>nan               </td><td>nan              </td><td>nan              </td><td>nan              </td><td>nan              </td><td>nan              </td><td>nan               </td><td>nan              </td><td>nan              </td><td>nan              </td><td>nan               </td><td>nan              </td><td>nan               </td><td>nan              </td><td>nan              </td><td>nan              </td><td>nan              </td><td>nan               </td><td>nan              </td><td>nan               </td><td>nan               </td><td>nan               </td><td>nan               </td><td>nan               </td><td>nan              </td><td>nan              </td><td>nan              </td><td>nan               </td><td>nan              </td><td>nan              </td><td>nan               </td><td>nan               </td><td>nan               </td><td>nan              </td><td>nan              </td><td>nan               </td><td>nan              </td><td>nan              </td><td>nan              </td><td>nan             </td><td>nan              </td><td>nan               </td><td>nan               </td><td>nan              </td><td>nan              </td><td>nan               </td><td>nan               </td><td>nan               </td><td>nan               </td><td>nan              </td><td>nan               </td><td>nan              </td><td>nan              </td><td>nan               </td><td>nan              </td><td>nan              </td><td>nan               </td><td>nan               </td><td>nan               </td><td>nan               </td><td>nan              </td><td>nan               </td><td>nan              </td><td>nan               </td><td>nan               </td><td>nan               </td><td>nan               </td><td>nan               </td><td>nan               </td><td>nan              </td><td>nan               </td><td>nan              </td><td>nan               </td><td>nan               </td><td>nan               </td><td>nan               </td><td>nan              </td><td>nan               </td><td>nan               </td><td>nan               </td><td>nan               </td><td>nan               </td><td>nan               </td><td>nan               </td><td>nan              </td><td>nan               </td><td>nan               </td><td>nan               </td><td>nan               </td><td>nan              </td><td>nan              </td><td>nan              </td><td>nan              </td><td>nan              </td><td>nan              </td><td>nan               </td><td>nan              </td><td>nan              </td><td>nan              </td><td>nan              </td><td>nan              </td><td>nan              </td><td>nan              </td><td>nan               </td><td>nan              </td><td>nan              </td><td>nan               </td><td>nan               </td><td>nan               </td><td>nan               </td><td>nan              </td><td>nan               </td><td>nan               </td><td>nan               </td><td>nan               </td><td>nan               </td><td>nan              </td><td>nan               </td><td>nan               </td><td>nan              </td><td>nan               </td><td>nan               </td><td>nan               </td><td>nan              </td><td>nan                </td></tr>\n",
              "</tbody>\n",
              "</table>"
            ]
          },
          "metadata": {
            "tags": []
          }
        }
      ]
    },
    {
      "cell_type": "code",
      "metadata": {
        "id": "y6gVJCyR-oat"
      },
      "source": [
        "# import the deep learning estimator module\n",
        "from h2o.estimators.deeplearning import H2ODeepLearningEstimator"
      ],
      "execution_count": null,
      "outputs": []
    },
    {
      "cell_type": "code",
      "metadata": {
        "id": "p1QJCGXkAjAc",
        "outputId": "207618e6-8019-48a3-8a3b-d498121dbd4d",
        "colab": {
          "base_uri": "https://localhost:8080/",
          "height": 1000
        }
      },
      "source": [
        "# transform the target variable into a factor\n",
        "df[\"Graduate\"] = df[\"Graduate\"].asfactor()\n",
        "# construct and define the estimator object \n",
        "model = H2ODeepLearningEstimator(activation = \"Tanh\", hidden = [10, 10, 10], epochs = 100)\n",
        "# train the model on the whole dataset\n",
        "model.train(x = list(set(df.columns) - set([\"RN\",\"Graduate\"])), y =\"Graduate\", training_frame = df)\n",
        "model.show()"
      ],
      "execution_count": null,
      "outputs": [
        {
          "output_type": "stream",
          "text": [
            "deeplearning Model Build progress: |██████████████████████████████████████| 100%\n",
            "Model Details\n",
            "=============\n",
            "H2ODeepLearningEstimator :  Deep Learning\n",
            "Model Key:  DeepLearning_model_python_1604186936822_4\n",
            "\n",
            "\n",
            "Status of Neuron Layers: predicting Graduate, 2-class classification, bernoulli distribution, CrossEntropy loss, 10,662 weights/biases, 169.5 KB, 3,879 training samples, mini-batch size 1\n"
          ],
          "name": "stdout"
        },
        {
          "output_type": "display_data",
          "data": {
            "text/html": [
              "<div>\n",
              "<style scoped>\n",
              "    .dataframe tbody tr th:only-of-type {\n",
              "        vertical-align: middle;\n",
              "    }\n",
              "\n",
              "    .dataframe tbody tr th {\n",
              "        vertical-align: top;\n",
              "    }\n",
              "\n",
              "    .dataframe thead th {\n",
              "        text-align: right;\n",
              "    }\n",
              "</style>\n",
              "<table border=\"1\" class=\"dataframe\">\n",
              "  <thead>\n",
              "    <tr style=\"text-align: right;\">\n",
              "      <th></th>\n",
              "      <th></th>\n",
              "      <th>layer</th>\n",
              "      <th>units</th>\n",
              "      <th>type</th>\n",
              "      <th>dropout</th>\n",
              "      <th>l1</th>\n",
              "      <th>l2</th>\n",
              "      <th>mean_rate</th>\n",
              "      <th>rate_rms</th>\n",
              "      <th>momentum</th>\n",
              "      <th>mean_weight</th>\n",
              "      <th>weight_rms</th>\n",
              "      <th>mean_bias</th>\n",
              "      <th>bias_rms</th>\n",
              "    </tr>\n",
              "  </thead>\n",
              "  <tbody>\n",
              "    <tr>\n",
              "      <th>0</th>\n",
              "      <td></td>\n",
              "      <td>1</td>\n",
              "      <td>1041</td>\n",
              "      <td>Input</td>\n",
              "      <td>0</td>\n",
              "      <td></td>\n",
              "      <td></td>\n",
              "      <td></td>\n",
              "      <td></td>\n",
              "      <td></td>\n",
              "      <td></td>\n",
              "      <td></td>\n",
              "      <td></td>\n",
              "      <td></td>\n",
              "    </tr>\n",
              "    <tr>\n",
              "      <th>1</th>\n",
              "      <td></td>\n",
              "      <td>2</td>\n",
              "      <td>10</td>\n",
              "      <td>Tanh</td>\n",
              "      <td>0</td>\n",
              "      <td>0</td>\n",
              "      <td>0</td>\n",
              "      <td>0.14101</td>\n",
              "      <td>0.275672</td>\n",
              "      <td>0</td>\n",
              "      <td>0.000124818</td>\n",
              "      <td>0.0466092</td>\n",
              "      <td>0.0124263</td>\n",
              "      <td>0.0726723</td>\n",
              "    </tr>\n",
              "    <tr>\n",
              "      <th>2</th>\n",
              "      <td></td>\n",
              "      <td>3</td>\n",
              "      <td>10</td>\n",
              "      <td>Tanh</td>\n",
              "      <td>0</td>\n",
              "      <td>0</td>\n",
              "      <td>0</td>\n",
              "      <td>0.0264409</td>\n",
              "      <td>0.0259804</td>\n",
              "      <td>0</td>\n",
              "      <td>0.0069747</td>\n",
              "      <td>0.339407</td>\n",
              "      <td>0.0124453</td>\n",
              "      <td>0.0321568</td>\n",
              "    </tr>\n",
              "    <tr>\n",
              "      <th>3</th>\n",
              "      <td></td>\n",
              "      <td>4</td>\n",
              "      <td>10</td>\n",
              "      <td>Tanh</td>\n",
              "      <td>0</td>\n",
              "      <td>0</td>\n",
              "      <td>0</td>\n",
              "      <td>0.0271119</td>\n",
              "      <td>0.0251206</td>\n",
              "      <td>0</td>\n",
              "      <td>0.0302754</td>\n",
              "      <td>0.317812</td>\n",
              "      <td>-0.00669437</td>\n",
              "      <td>0.0342153</td>\n",
              "    </tr>\n",
              "    <tr>\n",
              "      <th>4</th>\n",
              "      <td></td>\n",
              "      <td>5</td>\n",
              "      <td>2</td>\n",
              "      <td>Softmax</td>\n",
              "      <td></td>\n",
              "      <td>0</td>\n",
              "      <td>0</td>\n",
              "      <td>0.0256462</td>\n",
              "      <td>0.00768816</td>\n",
              "      <td>0</td>\n",
              "      <td>0.460902</td>\n",
              "      <td>1.58646</td>\n",
              "      <td>-1.12619e-07</td>\n",
              "      <td>0.0461472</td>\n",
              "    </tr>\n",
              "  </tbody>\n",
              "</table>\n",
              "</div>"
            ],
            "text/plain": [
              "     layer  units     type  ...  mean_weight weight_rms    mean_bias   bias_rms\n",
              "0        1   1041    Input  ...                                                \n",
              "1        2     10     Tanh  ...  0.000124818  0.0466092    0.0124263  0.0726723\n",
              "2        3     10     Tanh  ...    0.0069747   0.339407    0.0124453  0.0321568\n",
              "3        4     10     Tanh  ...    0.0302754   0.317812  -0.00669437  0.0342153\n",
              "4        5      2  Softmax  ...     0.460902    1.58646 -1.12619e-07  0.0461472\n",
              "\n",
              "[5 rows x 14 columns]"
            ]
          },
          "metadata": {
            "tags": []
          }
        },
        {
          "output_type": "stream",
          "text": [
            "\n",
            "\n",
            "ModelMetricsBinomial: deeplearning\n",
            "** Reported on train data. **\n",
            "\n",
            "MSE: 0.00035314957408863197\n",
            "RMSE: 0.018792274319215117\n",
            "LogLoss: 0.00521832350643346\n",
            "Mean Per-Class Error: 0.0\n",
            "AUC: 1.0\n",
            "AUCPR: 1.0\n",
            "Gini: 1.0\n",
            "\n",
            "Confusion Matrix (Act/Pred) for max f1 @ threshold = 0.5685253992864324: \n"
          ],
          "name": "stdout"
        },
        {
          "output_type": "display_data",
          "data": {
            "text/html": [
              "<div>\n",
              "<style scoped>\n",
              "    .dataframe tbody tr th:only-of-type {\n",
              "        vertical-align: middle;\n",
              "    }\n",
              "\n",
              "    .dataframe tbody tr th {\n",
              "        vertical-align: top;\n",
              "    }\n",
              "\n",
              "    .dataframe thead th {\n",
              "        text-align: right;\n",
              "    }\n",
              "</style>\n",
              "<table border=\"1\" class=\"dataframe\">\n",
              "  <thead>\n",
              "    <tr style=\"text-align: right;\">\n",
              "      <th></th>\n",
              "      <th></th>\n",
              "      <th>0</th>\n",
              "      <th>1</th>\n",
              "      <th>Error</th>\n",
              "      <th>Rate</th>\n",
              "    </tr>\n",
              "  </thead>\n",
              "  <tbody>\n",
              "    <tr>\n",
              "      <th>0</th>\n",
              "      <td>0</td>\n",
              "      <td>2583.0</td>\n",
              "      <td>0.0</td>\n",
              "      <td>0.0</td>\n",
              "      <td>(0.0/2583.0)</td>\n",
              "    </tr>\n",
              "    <tr>\n",
              "      <th>1</th>\n",
              "      <td>1</td>\n",
              "      <td>0.0</td>\n",
              "      <td>1296.0</td>\n",
              "      <td>0.0</td>\n",
              "      <td>(0.0/1296.0)</td>\n",
              "    </tr>\n",
              "    <tr>\n",
              "      <th>2</th>\n",
              "      <td>Total</td>\n",
              "      <td>2583.0</td>\n",
              "      <td>1296.0</td>\n",
              "      <td>0.0</td>\n",
              "      <td>(0.0/3879.0)</td>\n",
              "    </tr>\n",
              "  </tbody>\n",
              "</table>\n",
              "</div>"
            ],
            "text/plain": [
              "               0       1 Error           Rate\n",
              "0      0  2583.0     0.0   0.0   (0.0/2583.0)\n",
              "1      1     0.0  1296.0   0.0   (0.0/1296.0)\n",
              "2  Total  2583.0  1296.0   0.0   (0.0/3879.0)"
            ]
          },
          "metadata": {
            "tags": []
          }
        },
        {
          "output_type": "stream",
          "text": [
            "\n",
            "Maximum Metrics: Maximum metrics at their respective thresholds\n"
          ],
          "name": "stdout"
        },
        {
          "output_type": "display_data",
          "data": {
            "text/html": [
              "<div>\n",
              "<style scoped>\n",
              "    .dataframe tbody tr th:only-of-type {\n",
              "        vertical-align: middle;\n",
              "    }\n",
              "\n",
              "    .dataframe tbody tr th {\n",
              "        vertical-align: top;\n",
              "    }\n",
              "\n",
              "    .dataframe thead th {\n",
              "        text-align: right;\n",
              "    }\n",
              "</style>\n",
              "<table border=\"1\" class=\"dataframe\">\n",
              "  <thead>\n",
              "    <tr style=\"text-align: right;\">\n",
              "      <th></th>\n",
              "      <th>metric</th>\n",
              "      <th>threshold</th>\n",
              "      <th>value</th>\n",
              "      <th>idx</th>\n",
              "    </tr>\n",
              "  </thead>\n",
              "  <tbody>\n",
              "    <tr>\n",
              "      <th>0</th>\n",
              "      <td>max f1</td>\n",
              "      <td>0.568525</td>\n",
              "      <td>1.000000</td>\n",
              "      <td>197.0</td>\n",
              "    </tr>\n",
              "    <tr>\n",
              "      <th>1</th>\n",
              "      <td>max f2</td>\n",
              "      <td>0.568525</td>\n",
              "      <td>1.000000</td>\n",
              "      <td>197.0</td>\n",
              "    </tr>\n",
              "    <tr>\n",
              "      <th>2</th>\n",
              "      <td>max f0point5</td>\n",
              "      <td>0.568525</td>\n",
              "      <td>1.000000</td>\n",
              "      <td>197.0</td>\n",
              "    </tr>\n",
              "    <tr>\n",
              "      <th>3</th>\n",
              "      <td>max accuracy</td>\n",
              "      <td>0.568525</td>\n",
              "      <td>1.000000</td>\n",
              "      <td>197.0</td>\n",
              "    </tr>\n",
              "    <tr>\n",
              "      <th>4</th>\n",
              "      <td>max precision</td>\n",
              "      <td>0.999591</td>\n",
              "      <td>1.000000</td>\n",
              "      <td>0.0</td>\n",
              "    </tr>\n",
              "    <tr>\n",
              "      <th>5</th>\n",
              "      <td>max recall</td>\n",
              "      <td>0.568525</td>\n",
              "      <td>1.000000</td>\n",
              "      <td>197.0</td>\n",
              "    </tr>\n",
              "    <tr>\n",
              "      <th>6</th>\n",
              "      <td>max specificity</td>\n",
              "      <td>0.999591</td>\n",
              "      <td>1.000000</td>\n",
              "      <td>0.0</td>\n",
              "    </tr>\n",
              "    <tr>\n",
              "      <th>7</th>\n",
              "      <td>max absolute_mcc</td>\n",
              "      <td>0.568525</td>\n",
              "      <td>1.000000</td>\n",
              "      <td>197.0</td>\n",
              "    </tr>\n",
              "    <tr>\n",
              "      <th>8</th>\n",
              "      <td>max min_per_class_accuracy</td>\n",
              "      <td>0.568525</td>\n",
              "      <td>1.000000</td>\n",
              "      <td>197.0</td>\n",
              "    </tr>\n",
              "    <tr>\n",
              "      <th>9</th>\n",
              "      <td>max mean_per_class_accuracy</td>\n",
              "      <td>0.568525</td>\n",
              "      <td>1.000000</td>\n",
              "      <td>197.0</td>\n",
              "    </tr>\n",
              "    <tr>\n",
              "      <th>10</th>\n",
              "      <td>max tns</td>\n",
              "      <td>0.999591</td>\n",
              "      <td>2583.000000</td>\n",
              "      <td>0.0</td>\n",
              "    </tr>\n",
              "    <tr>\n",
              "      <th>11</th>\n",
              "      <td>max fns</td>\n",
              "      <td>0.999591</td>\n",
              "      <td>1292.000000</td>\n",
              "      <td>0.0</td>\n",
              "    </tr>\n",
              "    <tr>\n",
              "      <th>12</th>\n",
              "      <td>max fps</td>\n",
              "      <td>0.000112</td>\n",
              "      <td>2583.000000</td>\n",
              "      <td>399.0</td>\n",
              "    </tr>\n",
              "    <tr>\n",
              "      <th>13</th>\n",
              "      <td>max tps</td>\n",
              "      <td>0.568525</td>\n",
              "      <td>1296.000000</td>\n",
              "      <td>197.0</td>\n",
              "    </tr>\n",
              "    <tr>\n",
              "      <th>14</th>\n",
              "      <td>max tnr</td>\n",
              "      <td>0.999591</td>\n",
              "      <td>1.000000</td>\n",
              "      <td>0.0</td>\n",
              "    </tr>\n",
              "    <tr>\n",
              "      <th>15</th>\n",
              "      <td>max fnr</td>\n",
              "      <td>0.999591</td>\n",
              "      <td>0.996914</td>\n",
              "      <td>0.0</td>\n",
              "    </tr>\n",
              "    <tr>\n",
              "      <th>16</th>\n",
              "      <td>max fpr</td>\n",
              "      <td>0.000112</td>\n",
              "      <td>1.000000</td>\n",
              "      <td>399.0</td>\n",
              "    </tr>\n",
              "    <tr>\n",
              "      <th>17</th>\n",
              "      <td>max tpr</td>\n",
              "      <td>0.568525</td>\n",
              "      <td>1.000000</td>\n",
              "      <td>197.0</td>\n",
              "    </tr>\n",
              "  </tbody>\n",
              "</table>\n",
              "</div>"
            ],
            "text/plain": [
              "                         metric  threshold        value    idx\n",
              "0                        max f1   0.568525     1.000000  197.0\n",
              "1                        max f2   0.568525     1.000000  197.0\n",
              "2                  max f0point5   0.568525     1.000000  197.0\n",
              "3                  max accuracy   0.568525     1.000000  197.0\n",
              "4                 max precision   0.999591     1.000000    0.0\n",
              "5                    max recall   0.568525     1.000000  197.0\n",
              "6               max specificity   0.999591     1.000000    0.0\n",
              "7              max absolute_mcc   0.568525     1.000000  197.0\n",
              "8    max min_per_class_accuracy   0.568525     1.000000  197.0\n",
              "9   max mean_per_class_accuracy   0.568525     1.000000  197.0\n",
              "10                      max tns   0.999591  2583.000000    0.0\n",
              "11                      max fns   0.999591  1292.000000    0.0\n",
              "12                      max fps   0.000112  2583.000000  399.0\n",
              "13                      max tps   0.568525  1296.000000  197.0\n",
              "14                      max tnr   0.999591     1.000000    0.0\n",
              "15                      max fnr   0.999591     0.996914    0.0\n",
              "16                      max fpr   0.000112     1.000000  399.0\n",
              "17                      max tpr   0.568525     1.000000  197.0"
            ]
          },
          "metadata": {
            "tags": []
          }
        },
        {
          "output_type": "stream",
          "text": [
            "\n",
            "Gains/Lift Table: Avg response rate: 33.41 %, avg score: 33.37 %\n"
          ],
          "name": "stdout"
        },
        {
          "output_type": "display_data",
          "data": {
            "text/html": [
              "<div>\n",
              "<style scoped>\n",
              "    .dataframe tbody tr th:only-of-type {\n",
              "        vertical-align: middle;\n",
              "    }\n",
              "\n",
              "    .dataframe tbody tr th {\n",
              "        vertical-align: top;\n",
              "    }\n",
              "\n",
              "    .dataframe thead th {\n",
              "        text-align: right;\n",
              "    }\n",
              "</style>\n",
              "<table border=\"1\" class=\"dataframe\">\n",
              "  <thead>\n",
              "    <tr style=\"text-align: right;\">\n",
              "      <th></th>\n",
              "      <th>group</th>\n",
              "      <th>cumulative_data_fraction</th>\n",
              "      <th>lower_threshold</th>\n",
              "      <th>lift</th>\n",
              "      <th>cumulative_lift</th>\n",
              "      <th>response_rate</th>\n",
              "      <th>score</th>\n",
              "      <th>cumulative_response_rate</th>\n",
              "      <th>cumulative_score</th>\n",
              "      <th>capture_rate</th>\n",
              "      <th>cumulative_capture_rate</th>\n",
              "      <th>gain</th>\n",
              "      <th>cumulative_gain</th>\n",
              "      <th>kolmogorov_smirnov</th>\n",
              "    </tr>\n",
              "  </thead>\n",
              "  <tbody>\n",
              "    <tr>\n",
              "      <th>0</th>\n",
              "      <td>1</td>\n",
              "      <td>0.010054</td>\n",
              "      <td>0.999309</td>\n",
              "      <td>2.993056</td>\n",
              "      <td>2.993056</td>\n",
              "      <td>1.000000</td>\n",
              "      <td>0.999428</td>\n",
              "      <td>1.000000</td>\n",
              "      <td>0.999428</td>\n",
              "      <td>0.030093</td>\n",
              "      <td>0.030093</td>\n",
              "      <td>199.305556</td>\n",
              "      <td>199.305556</td>\n",
              "      <td>0.030093</td>\n",
              "    </tr>\n",
              "    <tr>\n",
              "      <th>1</th>\n",
              "      <td>2</td>\n",
              "      <td>0.020108</td>\n",
              "      <td>0.999171</td>\n",
              "      <td>2.993056</td>\n",
              "      <td>2.993056</td>\n",
              "      <td>1.000000</td>\n",
              "      <td>0.999237</td>\n",
              "      <td>1.000000</td>\n",
              "      <td>0.999333</td>\n",
              "      <td>0.030093</td>\n",
              "      <td>0.060185</td>\n",
              "      <td>199.305556</td>\n",
              "      <td>199.305556</td>\n",
              "      <td>0.060185</td>\n",
              "    </tr>\n",
              "    <tr>\n",
              "      <th>2</th>\n",
              "      <td>3</td>\n",
              "      <td>0.030162</td>\n",
              "      <td>0.999064</td>\n",
              "      <td>2.993056</td>\n",
              "      <td>2.993056</td>\n",
              "      <td>1.000000</td>\n",
              "      <td>0.999112</td>\n",
              "      <td>1.000000</td>\n",
              "      <td>0.999259</td>\n",
              "      <td>0.030093</td>\n",
              "      <td>0.090278</td>\n",
              "      <td>199.305556</td>\n",
              "      <td>199.305556</td>\n",
              "      <td>0.090278</td>\n",
              "    </tr>\n",
              "    <tr>\n",
              "      <th>3</th>\n",
              "      <td>4</td>\n",
              "      <td>0.040217</td>\n",
              "      <td>0.998934</td>\n",
              "      <td>2.993056</td>\n",
              "      <td>2.993056</td>\n",
              "      <td>1.000000</td>\n",
              "      <td>0.998986</td>\n",
              "      <td>1.000000</td>\n",
              "      <td>0.999191</td>\n",
              "      <td>0.030093</td>\n",
              "      <td>0.120370</td>\n",
              "      <td>199.305556</td>\n",
              "      <td>199.305556</td>\n",
              "      <td>0.120370</td>\n",
              "    </tr>\n",
              "    <tr>\n",
              "      <th>4</th>\n",
              "      <td>5</td>\n",
              "      <td>0.050013</td>\n",
              "      <td>0.998797</td>\n",
              "      <td>2.993056</td>\n",
              "      <td>2.993056</td>\n",
              "      <td>1.000000</td>\n",
              "      <td>0.998869</td>\n",
              "      <td>1.000000</td>\n",
              "      <td>0.999128</td>\n",
              "      <td>0.029321</td>\n",
              "      <td>0.149691</td>\n",
              "      <td>199.305556</td>\n",
              "      <td>199.305556</td>\n",
              "      <td>0.149691</td>\n",
              "    </tr>\n",
              "    <tr>\n",
              "      <th>5</th>\n",
              "      <td>6</td>\n",
              "      <td>0.100026</td>\n",
              "      <td>0.998171</td>\n",
              "      <td>2.993056</td>\n",
              "      <td>2.993056</td>\n",
              "      <td>1.000000</td>\n",
              "      <td>0.998478</td>\n",
              "      <td>1.000000</td>\n",
              "      <td>0.998803</td>\n",
              "      <td>0.149691</td>\n",
              "      <td>0.299383</td>\n",
              "      <td>199.305556</td>\n",
              "      <td>199.305556</td>\n",
              "      <td>0.299383</td>\n",
              "    </tr>\n",
              "    <tr>\n",
              "      <th>6</th>\n",
              "      <td>7</td>\n",
              "      <td>0.150039</td>\n",
              "      <td>0.997200</td>\n",
              "      <td>2.993056</td>\n",
              "      <td>2.993056</td>\n",
              "      <td>1.000000</td>\n",
              "      <td>0.997722</td>\n",
              "      <td>1.000000</td>\n",
              "      <td>0.998443</td>\n",
              "      <td>0.149691</td>\n",
              "      <td>0.449074</td>\n",
              "      <td>199.305556</td>\n",
              "      <td>199.305556</td>\n",
              "      <td>0.449074</td>\n",
              "    </tr>\n",
              "    <tr>\n",
              "      <th>7</th>\n",
              "      <td>8</td>\n",
              "      <td>0.200052</td>\n",
              "      <td>0.995799</td>\n",
              "      <td>2.993056</td>\n",
              "      <td>2.993056</td>\n",
              "      <td>1.000000</td>\n",
              "      <td>0.996531</td>\n",
              "      <td>1.000000</td>\n",
              "      <td>0.997965</td>\n",
              "      <td>0.149691</td>\n",
              "      <td>0.598765</td>\n",
              "      <td>199.305556</td>\n",
              "      <td>199.305556</td>\n",
              "      <td>0.598765</td>\n",
              "    </tr>\n",
              "    <tr>\n",
              "      <th>8</th>\n",
              "      <td>9</td>\n",
              "      <td>0.300077</td>\n",
              "      <td>0.985147</td>\n",
              "      <td>2.993056</td>\n",
              "      <td>2.993056</td>\n",
              "      <td>1.000000</td>\n",
              "      <td>0.992541</td>\n",
              "      <td>1.000000</td>\n",
              "      <td>0.996157</td>\n",
              "      <td>0.299383</td>\n",
              "      <td>0.898148</td>\n",
              "      <td>199.305556</td>\n",
              "      <td>199.305556</td>\n",
              "      <td>0.898148</td>\n",
              "    </tr>\n",
              "    <tr>\n",
              "      <th>9</th>\n",
              "      <td>10</td>\n",
              "      <td>0.400103</td>\n",
              "      <td>0.005668</td>\n",
              "      <td>1.018256</td>\n",
              "      <td>2.499356</td>\n",
              "      <td>0.340206</td>\n",
              "      <td>0.340085</td>\n",
              "      <td>0.835052</td>\n",
              "      <td>0.832139</td>\n",
              "      <td>0.101852</td>\n",
              "      <td>1.000000</td>\n",
              "      <td>1.825601</td>\n",
              "      <td>149.935567</td>\n",
              "      <td>0.900890</td>\n",
              "    </tr>\n",
              "    <tr>\n",
              "      <th>10</th>\n",
              "      <td>11</td>\n",
              "      <td>0.500129</td>\n",
              "      <td>0.002136</td>\n",
              "      <td>0.000000</td>\n",
              "      <td>1.999485</td>\n",
              "      <td>0.000000</td>\n",
              "      <td>0.003487</td>\n",
              "      <td>0.668041</td>\n",
              "      <td>0.666409</td>\n",
              "      <td>0.000000</td>\n",
              "      <td>1.000000</td>\n",
              "      <td>-100.000000</td>\n",
              "      <td>99.948454</td>\n",
              "      <td>0.750678</td>\n",
              "    </tr>\n",
              "    <tr>\n",
              "      <th>11</th>\n",
              "      <td>12</td>\n",
              "      <td>0.599897</td>\n",
              "      <td>0.001162</td>\n",
              "      <td>0.000000</td>\n",
              "      <td>1.666953</td>\n",
              "      <td>0.000000</td>\n",
              "      <td>0.001589</td>\n",
              "      <td>0.556940</td>\n",
              "      <td>0.555843</td>\n",
              "      <td>0.000000</td>\n",
              "      <td>1.000000</td>\n",
              "      <td>-100.000000</td>\n",
              "      <td>66.695316</td>\n",
              "      <td>0.600852</td>\n",
              "    </tr>\n",
              "    <tr>\n",
              "      <th>12</th>\n",
              "      <td>13</td>\n",
              "      <td>0.699923</td>\n",
              "      <td>0.000739</td>\n",
              "      <td>0.000000</td>\n",
              "      <td>1.428729</td>\n",
              "      <td>0.000000</td>\n",
              "      <td>0.000928</td>\n",
              "      <td>0.477348</td>\n",
              "      <td>0.476541</td>\n",
              "      <td>0.000000</td>\n",
              "      <td>1.000000</td>\n",
              "      <td>-100.000000</td>\n",
              "      <td>42.872928</td>\n",
              "      <td>0.450639</td>\n",
              "    </tr>\n",
              "    <tr>\n",
              "      <th>13</th>\n",
              "      <td>14</td>\n",
              "      <td>0.799948</td>\n",
              "      <td>0.000490</td>\n",
              "      <td>0.000000</td>\n",
              "      <td>1.250081</td>\n",
              "      <td>0.000000</td>\n",
              "      <td>0.000601</td>\n",
              "      <td>0.417660</td>\n",
              "      <td>0.417029</td>\n",
              "      <td>0.000000</td>\n",
              "      <td>1.000000</td>\n",
              "      <td>-100.000000</td>\n",
              "      <td>25.008057</td>\n",
              "      <td>0.300426</td>\n",
              "    </tr>\n",
              "    <tr>\n",
              "      <th>14</th>\n",
              "      <td>15</td>\n",
              "      <td>0.899974</td>\n",
              "      <td>0.000303</td>\n",
              "      <td>0.000000</td>\n",
              "      <td>1.111143</td>\n",
              "      <td>0.000000</td>\n",
              "      <td>0.000391</td>\n",
              "      <td>0.371240</td>\n",
              "      <td>0.370723</td>\n",
              "      <td>0.000000</td>\n",
              "      <td>1.000000</td>\n",
              "      <td>-100.000000</td>\n",
              "      <td>11.114294</td>\n",
              "      <td>0.150213</td>\n",
              "    </tr>\n",
              "    <tr>\n",
              "      <th>15</th>\n",
              "      <td>16</td>\n",
              "      <td>1.000000</td>\n",
              "      <td>0.000077</td>\n",
              "      <td>0.000000</td>\n",
              "      <td>1.000000</td>\n",
              "      <td>0.000000</td>\n",
              "      <td>0.000213</td>\n",
              "      <td>0.334107</td>\n",
              "      <td>0.333662</td>\n",
              "      <td>0.000000</td>\n",
              "      <td>1.000000</td>\n",
              "      <td>-100.000000</td>\n",
              "      <td>0.000000</td>\n",
              "      <td>0.000000</td>\n",
              "    </tr>\n",
              "  </tbody>\n",
              "</table>\n",
              "</div>"
            ],
            "text/plain": [
              "    group  cumulative_data_fraction  ...  cumulative_gain  kolmogorov_smirnov\n",
              "0       1                  0.010054  ...       199.305556            0.030093\n",
              "1       2                  0.020108  ...       199.305556            0.060185\n",
              "2       3                  0.030162  ...       199.305556            0.090278\n",
              "3       4                  0.040217  ...       199.305556            0.120370\n",
              "4       5                  0.050013  ...       199.305556            0.149691\n",
              "5       6                  0.100026  ...       199.305556            0.299383\n",
              "6       7                  0.150039  ...       199.305556            0.449074\n",
              "7       8                  0.200052  ...       199.305556            0.598765\n",
              "8       9                  0.300077  ...       199.305556            0.898148\n",
              "9      10                  0.400103  ...       149.935567            0.900890\n",
              "10     11                  0.500129  ...        99.948454            0.750678\n",
              "11     12                  0.599897  ...        66.695316            0.600852\n",
              "12     13                  0.699923  ...        42.872928            0.450639\n",
              "13     14                  0.799948  ...        25.008057            0.300426\n",
              "14     15                  0.899974  ...        11.114294            0.150213\n",
              "15     16                  1.000000  ...         0.000000            0.000000\n",
              "\n",
              "[16 rows x 14 columns]"
            ]
          },
          "metadata": {
            "tags": []
          }
        },
        {
          "output_type": "stream",
          "text": [
            "\n",
            "\n",
            "Scoring History: \n"
          ],
          "name": "stdout"
        },
        {
          "output_type": "display_data",
          "data": {
            "text/html": [
              "<div>\n",
              "<style scoped>\n",
              "    .dataframe tbody tr th:only-of-type {\n",
              "        vertical-align: middle;\n",
              "    }\n",
              "\n",
              "    .dataframe tbody tr th {\n",
              "        vertical-align: top;\n",
              "    }\n",
              "\n",
              "    .dataframe thead th {\n",
              "        text-align: right;\n",
              "    }\n",
              "</style>\n",
              "<table border=\"1\" class=\"dataframe\">\n",
              "  <thead>\n",
              "    <tr style=\"text-align: right;\">\n",
              "      <th></th>\n",
              "      <th></th>\n",
              "      <th>timestamp</th>\n",
              "      <th>duration</th>\n",
              "      <th>training_speed</th>\n",
              "      <th>epochs</th>\n",
              "      <th>iterations</th>\n",
              "      <th>samples</th>\n",
              "      <th>training_rmse</th>\n",
              "      <th>training_logloss</th>\n",
              "      <th>training_r2</th>\n",
              "      <th>training_auc</th>\n",
              "      <th>training_pr_auc</th>\n",
              "      <th>training_lift</th>\n",
              "      <th>training_classification_error</th>\n",
              "    </tr>\n",
              "  </thead>\n",
              "  <tbody>\n",
              "    <tr>\n",
              "      <th>0</th>\n",
              "      <td></td>\n",
              "      <td>2020-11-01 00:36:06</td>\n",
              "      <td>0.000 sec</td>\n",
              "      <td>None</td>\n",
              "      <td>0.0</td>\n",
              "      <td>0</td>\n",
              "      <td>0.0</td>\n",
              "      <td>NaN</td>\n",
              "      <td>NaN</td>\n",
              "      <td>NaN</td>\n",
              "      <td>NaN</td>\n",
              "      <td>NaN</td>\n",
              "      <td>NaN</td>\n",
              "      <td>NaN</td>\n",
              "    </tr>\n",
              "    <tr>\n",
              "      <th>1</th>\n",
              "      <td></td>\n",
              "      <td>2020-11-01 00:36:07</td>\n",
              "      <td>0.808 sec</td>\n",
              "      <td>13016 obs/sec</td>\n",
              "      <td>1.0</td>\n",
              "      <td>1</td>\n",
              "      <td>3879.0</td>\n",
              "      <td>0.018792</td>\n",
              "      <td>0.005218</td>\n",
              "      <td>0.998413</td>\n",
              "      <td>1.0</td>\n",
              "      <td>1.0</td>\n",
              "      <td>2.993056</td>\n",
              "      <td>0.0</td>\n",
              "    </tr>\n",
              "  </tbody>\n",
              "</table>\n",
              "</div>"
            ],
            "text/plain": [
              "               timestamp  ... training_lift training_classification_error\n",
              "0    2020-11-01 00:36:06  ...           NaN                           NaN\n",
              "1    2020-11-01 00:36:07  ...      2.993056                           0.0\n",
              "\n",
              "[2 rows x 14 columns]"
            ]
          },
          "metadata": {
            "tags": []
          }
        },
        {
          "output_type": "stream",
          "text": [
            "\n",
            "Variable Importances: \n"
          ],
          "name": "stdout"
        },
        {
          "output_type": "display_data",
          "data": {
            "text/html": [
              "<div>\n",
              "<style scoped>\n",
              "    .dataframe tbody tr th:only-of-type {\n",
              "        vertical-align: middle;\n",
              "    }\n",
              "\n",
              "    .dataframe tbody tr th {\n",
              "        vertical-align: top;\n",
              "    }\n",
              "\n",
              "    .dataframe thead th {\n",
              "        text-align: right;\n",
              "    }\n",
              "</style>\n",
              "<table border=\"1\" class=\"dataframe\">\n",
              "  <thead>\n",
              "    <tr style=\"text-align: right;\">\n",
              "      <th></th>\n",
              "      <th>variable</th>\n",
              "      <th>relative_importance</th>\n",
              "      <th>scaled_importance</th>\n",
              "      <th>percentage</th>\n",
              "    </tr>\n",
              "  </thead>\n",
              "  <tbody>\n",
              "    <tr>\n",
              "      <th>0</th>\n",
              "      <td>Remarks.Graduated</td>\n",
              "      <td>1.000000</td>\n",
              "      <td>1.000000</td>\n",
              "      <td>0.007913</td>\n",
              "    </tr>\n",
              "    <tr>\n",
              "      <th>1</th>\n",
              "      <td>Remarks.Voluntary Withdrawl</td>\n",
              "      <td>0.397394</td>\n",
              "      <td>0.397394</td>\n",
              "      <td>0.003144</td>\n",
              "    </tr>\n",
              "    <tr>\n",
              "      <th>2</th>\n",
              "      <td>Remarks.Psych Failure</td>\n",
              "      <td>0.216828</td>\n",
              "      <td>0.216828</td>\n",
              "      <td>0.001716</td>\n",
              "    </tr>\n",
              "    <tr>\n",
              "      <th>3</th>\n",
              "      <td>Remarks.RFT Failure</td>\n",
              "      <td>0.204264</td>\n",
              "      <td>0.204264</td>\n",
              "      <td>0.001616</td>\n",
              "    </tr>\n",
              "    <tr>\n",
              "      <th>4</th>\n",
              "      <td>Remarks.Administrative</td>\n",
              "      <td>0.204244</td>\n",
              "      <td>0.204244</td>\n",
              "      <td>0.001616</td>\n",
              "    </tr>\n",
              "    <tr>\n",
              "      <th>5</th>\n",
              "      <td>Run.missing(NA)</td>\n",
              "      <td>0.200149</td>\n",
              "      <td>0.200149</td>\n",
              "      <td>0.001584</td>\n",
              "    </tr>\n",
              "    <tr>\n",
              "      <th>6</th>\n",
              "      <td>Remarks.Medical</td>\n",
              "      <td>0.197966</td>\n",
              "      <td>0.197966</td>\n",
              "      <td>0.001566</td>\n",
              "    </tr>\n",
              "    <tr>\n",
              "      <th>7</th>\n",
              "      <td>Sick Call Reason.THIGH PAIN</td>\n",
              "      <td>0.190776</td>\n",
              "      <td>0.190776</td>\n",
              "      <td>0.001510</td>\n",
              "    </tr>\n",
              "    <tr>\n",
              "      <th>8</th>\n",
              "      <td>OA</td>\n",
              "      <td>0.189794</td>\n",
              "      <td>0.189794</td>\n",
              "      <td>0.001502</td>\n",
              "    </tr>\n",
              "    <tr>\n",
              "      <th>9</th>\n",
              "      <td>Run.12:44</td>\n",
              "      <td>0.186557</td>\n",
              "      <td>0.186557</td>\n",
              "      <td>0.001476</td>\n",
              "    </tr>\n",
              "    <tr>\n",
              "      <th>10</th>\n",
              "      <td>Run.16:36</td>\n",
              "      <td>0.185050</td>\n",
              "      <td>0.185050</td>\n",
              "      <td>0.001464</td>\n",
              "    </tr>\n",
              "    <tr>\n",
              "      <th>11</th>\n",
              "      <td>Run.15:36</td>\n",
              "      <td>0.183182</td>\n",
              "      <td>0.183182</td>\n",
              "      <td>0.001449</td>\n",
              "    </tr>\n",
              "    <tr>\n",
              "      <th>12</th>\n",
              "      <td>Run.15:47</td>\n",
              "      <td>0.181379</td>\n",
              "      <td>0.181379</td>\n",
              "      <td>0.001435</td>\n",
              "    </tr>\n",
              "    <tr>\n",
              "      <th>13</th>\n",
              "      <td>Sick Call Reason.FOOT PAIN/ STRESS FRACTURE</td>\n",
              "      <td>0.181037</td>\n",
              "      <td>0.181037</td>\n",
              "      <td>0.001432</td>\n",
              "    </tr>\n",
              "    <tr>\n",
              "      <th>14</th>\n",
              "      <td>Run.14:23</td>\n",
              "      <td>0.178055</td>\n",
              "      <td>0.178055</td>\n",
              "      <td>0.001409</td>\n",
              "    </tr>\n",
              "    <tr>\n",
              "      <th>15</th>\n",
              "      <td>MOS.12B</td>\n",
              "      <td>0.176175</td>\n",
              "      <td>0.176175</td>\n",
              "      <td>0.001394</td>\n",
              "    </tr>\n",
              "    <tr>\n",
              "      <th>16</th>\n",
              "      <td>Run.17:47</td>\n",
              "      <td>0.176133</td>\n",
              "      <td>0.176133</td>\n",
              "      <td>0.001394</td>\n",
              "    </tr>\n",
              "    <tr>\n",
              "      <th>17</th>\n",
              "      <td>Sick Call Reason.Left Foot Contusion</td>\n",
              "      <td>0.175020</td>\n",
              "      <td>0.175020</td>\n",
              "      <td>0.001385</td>\n",
              "    </tr>\n",
              "    <tr>\n",
              "      <th>18</th>\n",
              "      <td>Run.14:10</td>\n",
              "      <td>0.173693</td>\n",
              "      <td>0.173693</td>\n",
              "      <td>0.001374</td>\n",
              "    </tr>\n",
              "    <tr>\n",
              "      <th>19</th>\n",
              "      <td>Sick Call Reason.dermatidis</td>\n",
              "      <td>0.173209</td>\n",
              "      <td>0.173209</td>\n",
              "      <td>0.001371</td>\n",
              "    </tr>\n",
              "  </tbody>\n",
              "</table>\n",
              "</div>"
            ],
            "text/plain": [
              "                                       variable  ...  percentage\n",
              "0                             Remarks.Graduated  ...    0.007913\n",
              "1                   Remarks.Voluntary Withdrawl  ...    0.003144\n",
              "2                         Remarks.Psych Failure  ...    0.001716\n",
              "3                           Remarks.RFT Failure  ...    0.001616\n",
              "4                        Remarks.Administrative  ...    0.001616\n",
              "5                               Run.missing(NA)  ...    0.001584\n",
              "6                               Remarks.Medical  ...    0.001566\n",
              "7                   Sick Call Reason.THIGH PAIN  ...    0.001510\n",
              "8                                            OA  ...    0.001502\n",
              "9                                     Run.12:44  ...    0.001476\n",
              "10                                    Run.16:36  ...    0.001464\n",
              "11                                    Run.15:36  ...    0.001449\n",
              "12                                    Run.15:47  ...    0.001435\n",
              "13  Sick Call Reason.FOOT PAIN/ STRESS FRACTURE  ...    0.001432\n",
              "14                                    Run.14:23  ...    0.001409\n",
              "15                                      MOS.12B  ...    0.001394\n",
              "16                                    Run.17:47  ...    0.001394\n",
              "17         Sick Call Reason.Left Foot Contusion  ...    0.001385\n",
              "18                                    Run.14:10  ...    0.001374\n",
              "19                  Sick Call Reason.dermatidis  ...    0.001371\n",
              "\n",
              "[20 rows x 4 columns]"
            ]
          },
          "metadata": {
            "tags": []
          }
        },
        {
          "output_type": "stream",
          "text": [
            "\n",
            "See the whole table with table.as_data_frame()\n"
          ],
          "name": "stdout"
        }
      ]
    },
    {
      "cell_type": "code",
      "metadata": {
        "id": "X4l4ofMO-oaw",
        "outputId": "3a7c2801-525f-4aa1-8a84-06366ba3ad39",
        "colab": {
          "base_uri": "https://localhost:8080/",
          "height": 267
        }
      },
      "source": [
        "predictions=model.predict(df)\n",
        "predictions.show()"
      ],
      "execution_count": null,
      "outputs": [
        {
          "output_type": "stream",
          "text": [
            "deeplearning prediction progress: |███████████████████████████████████████| 100%\n"
          ],
          "name": "stdout"
        },
        {
          "output_type": "display_data",
          "data": {
            "text/html": [
              "<table>\n",
              "<thead>\n",
              "<tr><th style=\"text-align: right;\">  predict</th><th style=\"text-align: right;\">        p0</th><th style=\"text-align: right;\">         p1</th></tr>\n",
              "</thead>\n",
              "<tbody>\n",
              "<tr><td style=\"text-align: right;\">        0</td><td style=\"text-align: right;\">0.999387  </td><td style=\"text-align: right;\">0.000612994</td></tr>\n",
              "<tr><td style=\"text-align: right;\">        1</td><td style=\"text-align: right;\">0.00947675</td><td style=\"text-align: right;\">0.990523   </td></tr>\n",
              "<tr><td style=\"text-align: right;\">        0</td><td style=\"text-align: right;\">0.999748  </td><td style=\"text-align: right;\">0.000252254</td></tr>\n",
              "<tr><td style=\"text-align: right;\">        0</td><td style=\"text-align: right;\">0.999898  </td><td style=\"text-align: right;\">0.000102018</td></tr>\n",
              "<tr><td style=\"text-align: right;\">        0</td><td style=\"text-align: right;\">0.992333  </td><td style=\"text-align: right;\">0.00766687 </td></tr>\n",
              "<tr><td style=\"text-align: right;\">        1</td><td style=\"text-align: right;\">0.00209436</td><td style=\"text-align: right;\">0.997906   </td></tr>\n",
              "<tr><td style=\"text-align: right;\">        0</td><td style=\"text-align: right;\">0.998978  </td><td style=\"text-align: right;\">0.00102241 </td></tr>\n",
              "<tr><td style=\"text-align: right;\">        1</td><td style=\"text-align: right;\">0.00256258</td><td style=\"text-align: right;\">0.997437   </td></tr>\n",
              "<tr><td style=\"text-align: right;\">        0</td><td style=\"text-align: right;\">0.998608  </td><td style=\"text-align: right;\">0.0013922  </td></tr>\n",
              "<tr><td style=\"text-align: right;\">        0</td><td style=\"text-align: right;\">0.999719  </td><td style=\"text-align: right;\">0.000281263</td></tr>\n",
              "</tbody>\n",
              "</table>"
            ]
          },
          "metadata": {
            "tags": []
          }
        }
      ]
    },
    {
      "cell_type": "code",
      "metadata": {
        "id": "b1pEgyr6NIF_",
        "outputId": "56f4cd5d-26a1-4301-ab2e-51589197664a",
        "colab": {
          "base_uri": "https://localhost:8080/",
          "height": 249
        }
      },
      "source": [
        "predictions"
      ],
      "execution_count": null,
      "outputs": [
        {
          "output_type": "display_data",
          "data": {
            "text/html": [
              "<table>\n",
              "<thead>\n",
              "<tr><th style=\"text-align: right;\">  predict</th><th style=\"text-align: right;\">        p0</th><th style=\"text-align: right;\">         p1</th></tr>\n",
              "</thead>\n",
              "<tbody>\n",
              "<tr><td style=\"text-align: right;\">        0</td><td style=\"text-align: right;\">0.999387  </td><td style=\"text-align: right;\">0.000612994</td></tr>\n",
              "<tr><td style=\"text-align: right;\">        1</td><td style=\"text-align: right;\">0.00947675</td><td style=\"text-align: right;\">0.990523   </td></tr>\n",
              "<tr><td style=\"text-align: right;\">        0</td><td style=\"text-align: right;\">0.999748  </td><td style=\"text-align: right;\">0.000252254</td></tr>\n",
              "<tr><td style=\"text-align: right;\">        0</td><td style=\"text-align: right;\">0.999898  </td><td style=\"text-align: right;\">0.000102018</td></tr>\n",
              "<tr><td style=\"text-align: right;\">        0</td><td style=\"text-align: right;\">0.992333  </td><td style=\"text-align: right;\">0.00766687 </td></tr>\n",
              "<tr><td style=\"text-align: right;\">        1</td><td style=\"text-align: right;\">0.00209436</td><td style=\"text-align: right;\">0.997906   </td></tr>\n",
              "<tr><td style=\"text-align: right;\">        0</td><td style=\"text-align: right;\">0.998978  </td><td style=\"text-align: right;\">0.00102241 </td></tr>\n",
              "<tr><td style=\"text-align: right;\">        1</td><td style=\"text-align: right;\">0.00256258</td><td style=\"text-align: right;\">0.997437   </td></tr>\n",
              "<tr><td style=\"text-align: right;\">        0</td><td style=\"text-align: right;\">0.998608  </td><td style=\"text-align: right;\">0.0013922  </td></tr>\n",
              "<tr><td style=\"text-align: right;\">        0</td><td style=\"text-align: right;\">0.999719  </td><td style=\"text-align: right;\">0.000281263</td></tr>\n",
              "</tbody>\n",
              "</table>"
            ]
          },
          "metadata": {
            "tags": []
          }
        },
        {
          "output_type": "execute_result",
          "data": {
            "text/plain": [
              ""
            ]
          },
          "metadata": {
            "tags": []
          },
          "execution_count": 31
        }
      ]
    },
    {
      "cell_type": "markdown",
      "metadata": {
        "id": "bg58ImN4-oa0"
      },
      "source": [
        "### **Define BentoService for model serving**"
      ]
    },
    {
      "cell_type": "code",
      "metadata": {
        "id": "ineb8BFa-oa1",
        "outputId": "53bb4503-10b2-4402-cbe7-9c39d515413f",
        "colab": {
          "base_uri": "https://localhost:8080/"
        }
      },
      "source": [
        "%%writefile h2o_model_service.py\n",
        "import pandas as pd\n",
        "import h2o\n",
        "import bentoml\n",
        "from bentoml.frameworks.h2o import H2oModelArtifact\n",
        "from bentoml.adapters import DataframeInput\n",
        "\n",
        "@bentoml.artifacts([H2oModelArtifact('model')])\n",
        "@bentoml.env(\n",
        "    pip_packages=['pandas', 'h2o==3.24.0.2'],\n",
        "    conda_channels=['h2oai'],\n",
        "    conda_dependencies=['h2o==3.24.0.2']\n",
        ")\n",
        "class H2oModelService(bentoml.BentoService):\n",
        "\n",
        "    @bentoml.api(input=DataframeInput(), batch=True)\n",
        "    def predict(self, df):     \n",
        "        hf = h2o.H2OFrame(df)\n",
        "        predictions = self.artifacts.model.predict(hf)\n",
        "        return predictions.as_data_frame()"
      ],
      "execution_count": null,
      "outputs": [
        {
          "output_type": "stream",
          "text": [
            "Overwriting h2o_model_service.py\n"
          ],
          "name": "stdout"
        }
      ]
    },
    {
      "cell_type": "markdown",
      "metadata": {
        "id": "JpZrVPqc-oa4"
      },
      "source": [
        "## Save BentoService to file archive"
      ]
    },
    {
      "cell_type": "code",
      "metadata": {
        "id": "DQAKtb9H-oa5",
        "outputId": "fd0c012e-50d1-4441-8efb-a75ee6f75d82",
        "colab": {
          "base_uri": "https://localhost:8080/"
        }
      },
      "source": [
        "# 1) import the custom BentoService defined above\n",
        "from h2o_model_service import H2oModelService\n",
        "\n",
        "# 2) `pack` it with required artifacts\n",
        "bento_svc = H2oModelService()\n",
        "bento_svc.pack('model', model)\n",
        "\n",
        "# 3) save your BentoSerivce\n",
        "saved_path = bento_svc.save()\n",
        "print(saved_path)"
      ],
      "execution_count": null,
      "outputs": [
        {
          "output_type": "stream",
          "text": [
            "[2020-11-01 00:44:48,369] WARNING - pip package requirement pandas already exist\n",
            "[2020-11-01 00:44:48,374] WARNING - pip package requirement h2o already exist\n",
            "[2020-11-01 00:44:49,088] INFO - BentoService bundle 'H2oModelService:20201101004448_BEDD69' saved to: /root/bentoml/repository/H2oModelService/20201101004448_BEDD69\n",
            "/root/bentoml/repository/H2oModelService/20201101004448_BEDD69\n"
          ],
          "name": "stdout"
        }
      ]
    },
    {
      "cell_type": "markdown",
      "metadata": {
        "id": "-7zEo7dL-obA"
      },
      "source": [
        "## REST API Model Serving\n",
        "\n",
        "\n",
        "To start a REST API model server with the BentoService saved above, use the bentoml serve command:"
      ]
    },
    {
      "cell_type": "code",
      "metadata": {
        "scrolled": true,
        "id": "8Ovv6jKA-obB"
      },
      "source": [
        "!bentoml serve {saved_path}"
      ],
      "execution_count": null,
      "outputs": []
    },
    {
      "cell_type": "markdown",
      "metadata": {
        "id": "gVXxUdIQ-obF"
      },
      "source": [
        "Start the dev server with `--run-with-ngrok` option if running with Google Colab, to gain acccess to the API endpoint via a public endpoint managed by [ngrok](https://ngrok.com/):"
      ]
    },
    {
      "cell_type": "code",
      "metadata": {
        "id": "-O6EOT4l-obF",
        "outputId": "56ae749c-a5ed-4c1a-a07a-8475b739dd5e",
        "colab": {
          "base_uri": "https://localhost:8080/"
        }
      },
      "source": [
        "!bentoml serve H2oModelService:latest --run-with-ngrok"
      ],
      "execution_count": null,
      "outputs": [
        {
          "output_type": "stream",
          "text": [
            "/usr/local/lib/python3.6/dist-packages/psycopg2/__init__.py:144: UserWarning: The psycopg2 wheel package will be renamed from release 2.8; in order to keep installing from binary please use \"pip install psycopg2-binary\" instead. For details see: <http://initd.org/psycopg/docs/install.html#binary-install-from-pypi>.\n",
            "  \"\"\")\n",
            "[2020-11-01 00:47:37,541] INFO - Getting latest version H2oModelService:20201101004448_BEDD69\n",
            "[2020-11-01 00:47:37,541] INFO - Starting BentoML API server in development mode..\n",
            "[2020-11-01 00:47:38,716] WARNING - pip package requirement `h2o==3.24.0.2` does not match the version installed in current python environment\n",
            "Checking whether there is an H2O instance running at http://localhost:54321 . connected.\n",
            "--------------------------  ------------------------------------------------------------------\n",
            "H2O_cluster_uptime:         1 hour 18 mins\n",
            "H2O_cluster_timezone:       Etc/UTC\n",
            "H2O_data_parsing_timezone:  UTC\n",
            "H2O_cluster_version:        3.30.1.3\n",
            "H2O_cluster_version_age:    1 month and 3 days\n",
            "H2O_cluster_name:           H2O_from_python_unknownUser_rhqk0u\n",
            "H2O_cluster_total_nodes:    1\n",
            "H2O_cluster_free_memory:    3.175 Gb\n",
            "H2O_cluster_total_cores:    2\n",
            "H2O_cluster_allowed_cores:  2\n",
            "H2O_cluster_status:         locked, healthy\n",
            "H2O_connection_url:         http://localhost:54321\n",
            "H2O_connection_proxy:       {\"http\": null, \"https\": null}\n",
            "H2O_internal_security:      False\n",
            "H2O_API_Extensions:         Amazon S3, XGBoost, Algos, AutoML, Core V3, TargetEncoder, Core V4\n",
            "Python_version:             3.6.9 final\n",
            "--------------------------  ------------------------------------------------------------------\n",
            "[2020-11-01 00:47:39,120] WARNING - pip package requirement pandas already exist\n",
            "[2020-11-01 00:47:39,121] WARNING - pip package requirement h2o already exist\n",
            " * Serving Flask app \"H2oModelService\" (lazy loading)\n",
            " * Environment: production\n",
            "   WARNING: This is a development server. Do not use it in a production deployment.\n",
            "   Use a production WSGI server instead.\n",
            " * Debug mode: off\n",
            "INFO:werkzeug: * Running on http://127.0.0.1:5000/ (Press CTRL+C to quit)\n",
            "Exception in thread Thread-1:\n",
            "Traceback (most recent call last):\n",
            "  File \"/usr/lib/python3.6/threading.py\", line 916, in _bootstrap_inner\n",
            "    self.run()\n",
            "  File \"/usr/lib/python3.6/threading.py\", line 1182, in run\n",
            "    self.function(*self.args, **self.kwargs)\n",
            "  File \"/usr/local/lib/python3.6/dist-packages/bentoml/utils/flask_ngrok.py\", line 90, in start_ngrok\n",
            "    ngrok_address = _run_ngrok(port)\n",
            "  File \"/usr/local/lib/python3.6/dist-packages/bentoml/utils/flask_ngrok.py\", line 47, in _run_ngrok\n",
            "    tunnel_url = j['tunnels'][0]['public_url']  # Do the parsing of the get\n",
            "IndexError: list index out of range\n",
            "\n"
          ],
          "name": "stdout"
        }
      ]
    },
    {
      "cell_type": "markdown",
      "metadata": {
        "id": "k2396akO-obI"
      },
      "source": [
        " **Send prediction request to REST API server**\n",
        "\n",
        "Run the following command in terminal to make a HTTP request to the API server:\n",
        "```bash\n",
        "curl -i \\\n",
        "--header \"Content-Type: text/csv\" \\\n",
        "--request POST \\\n",
        "--data 'ID,CAPSULE,AGE,RACE,DPROS,DCAPS,PSA,VOL,GLEASON\\n\n",
        "1,0,65,1,2,1,1.4,0,6\\n\n",
        "2,0,72,1,3,2,6.7,0,7\\n' \\\n",
        "localhost:5000/predict\n",
        "```\n"
      ]
    },
    {
      "cell_type": "markdown",
      "metadata": {
        "id": "mLloSCua-obI"
      },
      "source": [
        "# **Containerize model server with Docker**\n",
        "\n",
        "\n",
        "\n",
        "Docker is **not available in Google Colab**. Download and run this notebook locally to try out this containerization with docker feature.\n",
        "\n",
        "If docker is already configured, just run the following command to product a docker container serving the Ranger prediction service created above:"
      ]
    },
    {
      "cell_type": "code",
      "metadata": {
        "id": "cqQFvuzp-obJ",
        "outputId": "90fc24ae-4e3f-4ca1-db24-86904e65aeb4",
        "colab": {
          "base_uri": "https://localhost:8080/"
        }
      },
      "source": [
        "!bentoml containerize H2oModelService:latest"
      ],
      "execution_count": null,
      "outputs": [
        {
          "output_type": "stream",
          "text": [
            "/usr/local/lib/python3.6/dist-packages/psycopg2/__init__.py:144: UserWarning: The psycopg2 wheel package will be renamed from release 2.8; in order to keep installing from binary please use \"pip install psycopg2-binary\" instead. For details see: <http://initd.org/psycopg/docs/install.html#binary-install-from-pypi>.\n",
            "  \"\"\")\n",
            "[2020-11-01 00:01:25,455] INFO - Getting latest version H2oModelService:20201031235443_A4C202\n",
            "Found Bento: /root/bentoml/repository/H2oModelService/20201031235443_A4C202\n",
            "Tag not specified, using tag parsed from BentoService: 'h2omodelservice:20201031235443_A4C202'\n",
            "Traceback (most recent call last):\n",
            "  File \"/usr/local/lib/python3.6/dist-packages/urllib3/connectionpool.py\", line 600, in urlopen\n",
            "    chunked=chunked)\n",
            "  File \"/usr/local/lib/python3.6/dist-packages/urllib3/connectionpool.py\", line 354, in _make_request\n",
            "    conn.request(method, url, **httplib_request_kw)\n",
            "  File \"/usr/lib/python3.6/http/client.py\", line 1281, in request\n",
            "    self._send_request(method, url, body, headers, encode_chunked)\n",
            "  File \"/usr/lib/python3.6/http/client.py\", line 1327, in _send_request\n",
            "    self.endheaders(body, encode_chunked=encode_chunked)\n",
            "  File \"/usr/lib/python3.6/http/client.py\", line 1276, in endheaders\n",
            "    self._send_output(message_body, encode_chunked=encode_chunked)\n",
            "  File \"/usr/lib/python3.6/http/client.py\", line 1042, in _send_output\n",
            "    self.send(msg)\n",
            "  File \"/usr/lib/python3.6/http/client.py\", line 980, in send\n",
            "    self.connect()\n",
            "  File \"/usr/local/lib/python3.6/dist-packages/docker/transport/unixconn.py\", line 43, in connect\n",
            "    sock.connect(self.unix_socket)\n",
            "FileNotFoundError: [Errno 2] No such file or directory\n",
            "\n",
            "During handling of the above exception, another exception occurred:\n",
            "\n",
            "Traceback (most recent call last):\n",
            "  File \"/usr/local/lib/python3.6/dist-packages/requests/adapters.py\", line 449, in send\n",
            "    timeout=timeout\n",
            "  File \"/usr/local/lib/python3.6/dist-packages/urllib3/connectionpool.py\", line 638, in urlopen\n",
            "    _stacktrace=sys.exc_info()[2])\n",
            "  File \"/usr/local/lib/python3.6/dist-packages/urllib3/util/retry.py\", line 368, in increment\n",
            "    raise six.reraise(type(error), error, _stacktrace)\n",
            "  File \"/usr/local/lib/python3.6/dist-packages/urllib3/packages/six.py\", line 685, in reraise\n",
            "    raise value.with_traceback(tb)\n",
            "  File \"/usr/local/lib/python3.6/dist-packages/urllib3/connectionpool.py\", line 600, in urlopen\n",
            "    chunked=chunked)\n",
            "  File \"/usr/local/lib/python3.6/dist-packages/urllib3/connectionpool.py\", line 354, in _make_request\n",
            "    conn.request(method, url, **httplib_request_kw)\n",
            "  File \"/usr/lib/python3.6/http/client.py\", line 1281, in request\n",
            "    self._send_request(method, url, body, headers, encode_chunked)\n",
            "  File \"/usr/lib/python3.6/http/client.py\", line 1327, in _send_request\n",
            "    self.endheaders(body, encode_chunked=encode_chunked)\n",
            "  File \"/usr/lib/python3.6/http/client.py\", line 1276, in endheaders\n",
            "    self._send_output(message_body, encode_chunked=encode_chunked)\n",
            "  File \"/usr/lib/python3.6/http/client.py\", line 1042, in _send_output\n",
            "    self.send(msg)\n",
            "  File \"/usr/lib/python3.6/http/client.py\", line 980, in send\n",
            "    self.connect()\n",
            "  File \"/usr/local/lib/python3.6/dist-packages/docker/transport/unixconn.py\", line 43, in connect\n",
            "    sock.connect(self.unix_socket)\n",
            "urllib3.exceptions.ProtocolError: ('Connection aborted.', FileNotFoundError(2, 'No such file or directory'))\n",
            "\n",
            "During handling of the above exception, another exception occurred:\n",
            "\n",
            "Traceback (most recent call last):\n",
            "  File \"/usr/local/lib/python3.6/dist-packages/docker/api/client.py\", line 205, in _retrieve_server_version\n",
            "    return self.version(api_version=False)[\"ApiVersion\"]\n",
            "  File \"/usr/local/lib/python3.6/dist-packages/docker/api/daemon.py\", line 181, in version\n",
            "    return self._result(self._get(url), json=True)\n",
            "  File \"/usr/local/lib/python3.6/dist-packages/docker/utils/decorators.py\", line 46, in inner\n",
            "    return f(self, *args, **kwargs)\n",
            "  File \"/usr/local/lib/python3.6/dist-packages/docker/api/client.py\", line 228, in _get\n",
            "    return self.get(url, **self._set_request_timeout(kwargs))\n",
            "  File \"/usr/local/lib/python3.6/dist-packages/requests/sessions.py\", line 543, in get\n",
            "    return self.request('GET', url, **kwargs)\n",
            "  File \"/usr/local/lib/python3.6/dist-packages/requests/sessions.py\", line 530, in request\n",
            "    resp = self.send(prep, **send_kwargs)\n",
            "  File \"/usr/local/lib/python3.6/dist-packages/requests/sessions.py\", line 643, in send\n",
            "    r = adapter.send(request, **kwargs)\n",
            "  File \"/usr/local/lib/python3.6/dist-packages/requests/adapters.py\", line 498, in send\n",
            "    raise ConnectionError(err, request=request)\n",
            "requests.exceptions.ConnectionError: ('Connection aborted.', FileNotFoundError(2, 'No such file or directory'))\n",
            "\n",
            "During handling of the above exception, another exception occurred:\n",
            "\n",
            "Traceback (most recent call last):\n",
            "  File \"/usr/local/bin/bentoml\", line 8, in <module>\n",
            "    sys.exit(cli())\n",
            "  File \"/usr/local/lib/python3.6/dist-packages/click/core.py\", line 829, in __call__\n",
            "    return self.main(*args, **kwargs)\n",
            "  File \"/usr/local/lib/python3.6/dist-packages/click/core.py\", line 782, in main\n",
            "    rv = self.invoke(ctx)\n",
            "  File \"/usr/local/lib/python3.6/dist-packages/click/core.py\", line 1259, in invoke\n",
            "    return _process_result(sub_ctx.command.invoke(sub_ctx))\n",
            "  File \"/usr/local/lib/python3.6/dist-packages/click/core.py\", line 1066, in invoke\n",
            "    return ctx.invoke(self.callback, **ctx.params)\n",
            "  File \"/usr/local/lib/python3.6/dist-packages/click/core.py\", line 610, in invoke\n",
            "    return callback(*args, **kwargs)\n",
            "  File \"/usr/local/lib/python3.6/dist-packages/bentoml/cli/click_utils.py\", line 138, in wrapper\n",
            "    return func(*args, **kwargs)\n",
            "  File \"/usr/local/lib/python3.6/dist-packages/bentoml/cli/click_utils.py\", line 115, in wrapper\n",
            "    return_value = func(*args, **kwargs)\n",
            "  File \"/usr/local/lib/python3.6/dist-packages/bentoml/cli/click_utils.py\", line 99, in wrapper\n",
            "    return func(*args, **kwargs)\n",
            "  File \"/usr/local/lib/python3.6/dist-packages/bentoml/cli/bento_service.py\", line 409, in containerize\n",
            "    docker_api = docker.APIClient()\n",
            "  File \"/usr/local/lib/python3.6/dist-packages/docker/api/client.py\", line 188, in __init__\n",
            "    self._version = self._retrieve_server_version()\n",
            "  File \"/usr/local/lib/python3.6/dist-packages/docker/api/client.py\", line 213, in _retrieve_server_version\n",
            "    'Error while fetching server API version: {0}'.format(e)\n",
            "docker.errors.DockerException: Error while fetching server API version: ('Connection aborted.', FileNotFoundError(2, 'No such file or directory'))\n"
          ],
          "name": "stdout"
        }
      ]
    },
    {
      "cell_type": "code",
      "metadata": {
        "id": "7KxiUIo1-obM"
      },
      "source": [
        "!docker run -p 5000:5000 h2omodelservice"
      ],
      "execution_count": null,
      "outputs": []
    },
    {
      "cell_type": "markdown",
      "metadata": {
        "id": "v8_ejx41-obP"
      },
      "source": [
        "### **Load saved BentoService**\n",
        "\n",
        "bentoml.load is the API for loading a BentoML packaged model in python:"
      ]
    },
    {
      "cell_type": "code",
      "metadata": {
        "id": "rZZOXBl8-obQ",
        "outputId": "54d96d6d-a500-4ce2-c56e-28a352a3e0a2",
        "colab": {
          "base_uri": "https://localhost:8080/",
          "height": 962
        }
      },
      "source": [
        "import bentoml\n",
        "import pandas as pd\n",
        "\n",
        "# Load saved BentoService archive from file directory\n",
        "loaded_bento_svc = bentoml.load(saved_path)\n",
        "\n",
        "# Access the predict function of loaded BentoService\n",
        "df = pd.read_csv(\"DeIdentified RASP1 Dataset_MAY2020.csv\")\n",
        "loaded_bento_svc.predict(df)"
      ],
      "execution_count": null,
      "outputs": [
        {
          "output_type": "stream",
          "text": [
            "[2020-11-01 00:02:51,065] WARNING - Module `h2o_model_service` already loaded, using existing imported module.\n",
            "Checking whether there is an H2O instance running at http://localhost:54321 . connected.\n"
          ],
          "name": "stdout"
        },
        {
          "output_type": "display_data",
          "data": {
            "text/html": [
              "<div style=\"overflow:auto\"><table style=\"width:50%\"><tr><td>H2O_cluster_uptime:</td>\n",
              "<td>33 mins 53 secs</td></tr>\n",
              "<tr><td>H2O_cluster_timezone:</td>\n",
              "<td>Etc/UTC</td></tr>\n",
              "<tr><td>H2O_data_parsing_timezone:</td>\n",
              "<td>UTC</td></tr>\n",
              "<tr><td>H2O_cluster_version:</td>\n",
              "<td>3.30.1.3</td></tr>\n",
              "<tr><td>H2O_cluster_version_age:</td>\n",
              "<td>1 month and 3 days </td></tr>\n",
              "<tr><td>H2O_cluster_name:</td>\n",
              "<td>H2O_from_python_unknownUser_rhqk0u</td></tr>\n",
              "<tr><td>H2O_cluster_total_nodes:</td>\n",
              "<td>1</td></tr>\n",
              "<tr><td>H2O_cluster_free_memory:</td>\n",
              "<td>3.178 Gb</td></tr>\n",
              "<tr><td>H2O_cluster_total_cores:</td>\n",
              "<td>2</td></tr>\n",
              "<tr><td>H2O_cluster_allowed_cores:</td>\n",
              "<td>2</td></tr>\n",
              "<tr><td>H2O_cluster_status:</td>\n",
              "<td>locked, healthy</td></tr>\n",
              "<tr><td>H2O_connection_url:</td>\n",
              "<td>http://localhost:54321</td></tr>\n",
              "<tr><td>H2O_connection_proxy:</td>\n",
              "<td>{\"http\": null, \"https\": null}</td></tr>\n",
              "<tr><td>H2O_internal_security:</td>\n",
              "<td>False</td></tr>\n",
              "<tr><td>H2O_API_Extensions:</td>\n",
              "<td>Amazon S3, XGBoost, Algos, AutoML, Core V3, TargetEncoder, Core V4</td></tr>\n",
              "<tr><td>Python_version:</td>\n",
              "<td>3.6.9 final</td></tr></table></div>"
            ],
            "text/plain": [
              "--------------------------  ------------------------------------------------------------------\n",
              "H2O_cluster_uptime:         33 mins 53 secs\n",
              "H2O_cluster_timezone:       Etc/UTC\n",
              "H2O_data_parsing_timezone:  UTC\n",
              "H2O_cluster_version:        3.30.1.3\n",
              "H2O_cluster_version_age:    1 month and 3 days\n",
              "H2O_cluster_name:           H2O_from_python_unknownUser_rhqk0u\n",
              "H2O_cluster_total_nodes:    1\n",
              "H2O_cluster_free_memory:    3.178 Gb\n",
              "H2O_cluster_total_cores:    2\n",
              "H2O_cluster_allowed_cores:  2\n",
              "H2O_cluster_status:         locked, healthy\n",
              "H2O_connection_url:         http://localhost:54321\n",
              "H2O_connection_proxy:       {\"http\": null, \"https\": null}\n",
              "H2O_internal_security:      False\n",
              "H2O_API_Extensions:         Amazon S3, XGBoost, Algos, AutoML, Core V3, TargetEncoder, Core V4\n",
              "Python_version:             3.6.9 final\n",
              "--------------------------  ------------------------------------------------------------------"
            ]
          },
          "metadata": {
            "tags": []
          }
        },
        {
          "output_type": "stream",
          "text": [
            "[2020-11-01 00:02:51,266] WARNING - pip package requirement pandas already exist\n",
            "[2020-11-01 00:02:51,271] WARNING - pip package requirement h2o already exist\n",
            "Parse progress: |█████████████████████████████████████████████████████████| 100%\n",
            "deeplearning prediction progress: |███████████████████████████████████████| 100%\n"
          ],
          "name": "stdout"
        },
        {
          "output_type": "stream",
          "text": [
            "/usr/local/lib/python3.6/dist-packages/h2o/job.py:70: UserWarning: Test/Validation dataset column 'Sick Call Reason' has levels not trained on: [nan]\n",
            "  warnings.warn(w)\n",
            "/usr/local/lib/python3.6/dist-packages/h2o/job.py:70: UserWarning: Test/Validation dataset column 'Run' has levels not trained on: [nan]\n",
            "  warnings.warn(w)\n",
            "/usr/local/lib/python3.6/dist-packages/h2o/job.py:70: UserWarning: Test/Validation dataset column 'SEX' has levels not trained on: [nan]\n",
            "  warnings.warn(w)\n"
          ],
          "name": "stderr"
        },
        {
          "output_type": "execute_result",
          "data": {
            "text/html": [
              "<div>\n",
              "<style scoped>\n",
              "    .dataframe tbody tr th:only-of-type {\n",
              "        vertical-align: middle;\n",
              "    }\n",
              "\n",
              "    .dataframe tbody tr th {\n",
              "        vertical-align: top;\n",
              "    }\n",
              "\n",
              "    .dataframe thead th {\n",
              "        text-align: right;\n",
              "    }\n",
              "</style>\n",
              "<table border=\"1\" class=\"dataframe\">\n",
              "  <thead>\n",
              "    <tr style=\"text-align: right;\">\n",
              "      <th></th>\n",
              "      <th>predict</th>\n",
              "      <th>p0</th>\n",
              "      <th>p1</th>\n",
              "    </tr>\n",
              "  </thead>\n",
              "  <tbody>\n",
              "    <tr>\n",
              "      <th>0</th>\n",
              "      <td>0</td>\n",
              "      <td>1.000000e+00</td>\n",
              "      <td>5.997753e-09</td>\n",
              "    </tr>\n",
              "    <tr>\n",
              "      <th>1</th>\n",
              "      <td>1</td>\n",
              "      <td>2.732360e-07</td>\n",
              "      <td>9.999997e-01</td>\n",
              "    </tr>\n",
              "    <tr>\n",
              "      <th>2</th>\n",
              "      <td>0</td>\n",
              "      <td>1.000000e+00</td>\n",
              "      <td>6.529763e-09</td>\n",
              "    </tr>\n",
              "    <tr>\n",
              "      <th>3</th>\n",
              "      <td>0</td>\n",
              "      <td>9.999999e-01</td>\n",
              "      <td>9.441770e-08</td>\n",
              "    </tr>\n",
              "    <tr>\n",
              "      <th>4</th>\n",
              "      <td>0</td>\n",
              "      <td>9.999999e-01</td>\n",
              "      <td>1.022930e-07</td>\n",
              "    </tr>\n",
              "    <tr>\n",
              "      <th>...</th>\n",
              "      <td>...</td>\n",
              "      <td>...</td>\n",
              "      <td>...</td>\n",
              "    </tr>\n",
              "    <tr>\n",
              "      <th>3874</th>\n",
              "      <td>1</td>\n",
              "      <td>3.486272e-07</td>\n",
              "      <td>9.999997e-01</td>\n",
              "    </tr>\n",
              "    <tr>\n",
              "      <th>3875</th>\n",
              "      <td>1</td>\n",
              "      <td>6.478952e-08</td>\n",
              "      <td>9.999999e-01</td>\n",
              "    </tr>\n",
              "    <tr>\n",
              "      <th>3876</th>\n",
              "      <td>0</td>\n",
              "      <td>1.000000e+00</td>\n",
              "      <td>4.528904e-08</td>\n",
              "    </tr>\n",
              "    <tr>\n",
              "      <th>3877</th>\n",
              "      <td>0</td>\n",
              "      <td>9.999996e-01</td>\n",
              "      <td>3.672571e-07</td>\n",
              "    </tr>\n",
              "    <tr>\n",
              "      <th>3878</th>\n",
              "      <td>0</td>\n",
              "      <td>9.999999e-01</td>\n",
              "      <td>8.193340e-08</td>\n",
              "    </tr>\n",
              "  </tbody>\n",
              "</table>\n",
              "<p>3879 rows × 3 columns</p>\n",
              "</div>"
            ],
            "text/plain": [
              "      predict            p0            p1\n",
              "0           0  1.000000e+00  5.997753e-09\n",
              "1           1  2.732360e-07  9.999997e-01\n",
              "2           0  1.000000e+00  6.529763e-09\n",
              "3           0  9.999999e-01  9.441770e-08\n",
              "4           0  9.999999e-01  1.022930e-07\n",
              "...       ...           ...           ...\n",
              "3874        1  3.486272e-07  9.999997e-01\n",
              "3875        1  6.478952e-08  9.999999e-01\n",
              "3876        0  1.000000e+00  4.528904e-08\n",
              "3877        0  9.999996e-01  3.672571e-07\n",
              "3878        0  9.999999e-01  8.193340e-08\n",
              "\n",
              "[3879 rows x 3 columns]"
            ]
          },
          "metadata": {
            "tags": []
          },
          "execution_count": 17
        }
      ]
    },
    {
      "cell_type": "markdown",
      "metadata": {
        "id": "Ec_FsKOM-obS"
      },
      "source": [
        "## Launch inference job from CLI\n",
        "\n",
        "BentoML cli supports loading and running a packaged model from CLI. With the DataframeInput adapter, the CLI command supports reading input Dataframe data from CLI argument or local csv or json files:"
      ]
    },
    {
      "cell_type": "code",
      "metadata": {
        "scrolled": true,
        "id": "GTyjzdwE-obT",
        "outputId": "6a7459a1-9a68-4f45-c1fd-d56ca50bbdf6",
        "colab": {
          "base_uri": "https://localhost:8080/"
        }
      },
      "source": [
        "!bentoml run H2oModelService:latest predict \\\n",
        "    --input='./DeIdentified RASP1 Dataset_MAY2020.csv'\n"
      ],
      "execution_count": null,
      "outputs": [
        {
          "output_type": "stream",
          "text": [
            "/usr/local/lib/python3.6/dist-packages/psycopg2/__init__.py:144: UserWarning: The psycopg2 wheel package will be renamed from release 2.8; in order to keep installing from binary please use \"pip install psycopg2-binary\" instead. For details see: <http://initd.org/psycopg/docs/install.html#binary-install-from-pypi>.\n",
            "  \"\"\")\n",
            "[2020-11-01 00:07:37,815] INFO - Getting latest version H2oModelService:20201031235443_A4C202\n",
            "[2020-11-01 00:07:38,755] WARNING - pip package requirement `h2o==3.24.0.2` does not match the version installed in current python environment\n",
            "Checking whether there is an H2O instance running at http://localhost:54321 . connected.\n",
            "--------------------------  ------------------------------------------------------------------\n",
            "H2O_cluster_uptime:         38 mins 41 secs\n",
            "H2O_cluster_timezone:       Etc/UTC\n",
            "H2O_data_parsing_timezone:  UTC\n",
            "H2O_cluster_version:        3.30.1.3\n",
            "H2O_cluster_version_age:    1 month and 3 days\n",
            "H2O_cluster_name:           H2O_from_python_unknownUser_rhqk0u\n",
            "H2O_cluster_total_nodes:    1\n",
            "H2O_cluster_free_memory:    3.177 Gb\n",
            "H2O_cluster_total_cores:    2\n",
            "H2O_cluster_allowed_cores:  2\n",
            "H2O_cluster_status:         locked, healthy\n",
            "H2O_connection_url:         http://localhost:54321\n",
            "H2O_connection_proxy:       {\"http\": null, \"https\": null}\n",
            "H2O_internal_security:      False\n",
            "H2O_API_Extensions:         Amazon S3, XGBoost, Algos, AutoML, Core V3, TargetEncoder, Core V4\n",
            "Python_version:             3.6.9 final\n",
            "--------------------------  ------------------------------------------------------------------\n",
            "[2020-11-01 00:07:39,168] WARNING - pip package requirement pandas already exist\n",
            "[2020-11-01 00:07:39,169] WARNING - pip package requirement h2o already exist\n",
            "2020-11-01 00:07:39.971391: I tensorflow/stream_executor/platform/default/dso_loader.cc:48] Successfully opened dynamic library libcudart.so.10.1\n",
            "DataframeInput Wrong input format.\n",
            "Closing connection _sid_a719 at exit\n",
            "H2O session _sid_a719 closed.\n"
          ],
          "name": "stdout"
        }
      ]
    }
  ]
}